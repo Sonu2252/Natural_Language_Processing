{
  "nbformat": 4,
  "nbformat_minor": 0,
  "metadata": {
    "colab": {
      "name": "Embedding_CountVectorizer_TFIDF_NLP.ipynb",
      "provenance": [],
      "collapsed_sections": [],
      "authorship_tag": "ABX9TyPWnJNjYa7Upo7vvcExwxvV",
      "include_colab_link": true
    },
    "kernelspec": {
      "name": "python3",
      "display_name": "Python 3"
    },
    "language_info": {
      "name": "python"
    }
  },
  "cells": [
    {
      "cell_type": "markdown",
      "metadata": {
        "id": "view-in-github",
        "colab_type": "text"
      },
      "source": [
        "<a href=\"https://colab.research.google.com/github/Sonu2252/Abhi/blob/master/Embedding_CountVectorizer_TFIDF_NLP.ipynb\" target=\"_parent\"><img src=\"https://colab.research.google.com/assets/colab-badge.svg\" alt=\"Open In Colab\"/></a>"
      ]
    },
    {
      "cell_type": "code",
      "execution_count": null,
      "metadata": {
        "id": "h3p9dbIIts-b"
      },
      "outputs": [],
      "source": [
        "corpus = \"The .maketrans() method takes three arguments - the first two are empty strings, and the third is the list of punctuation we want to remove. This tells the function to replace all punctuation with 'None'.\"\n"
      ]
    },
    {
      "cell_type": "code",
      "source": [
        "corpus = corpus.lower()\n",
        "print(corpus)"
      ],
      "metadata": {
        "colab": {
          "base_uri": "https://localhost:8080/"
        },
        "id": "OAGqBrF4tyLP",
        "outputId": "a04c5886-e79d-4f3d-bc4c-bf0ee873e1af"
      },
      "execution_count": null,
      "outputs": [
        {
          "output_type": "stream",
          "name": "stdout",
          "text": [
            "the .maketrans() method takes three arguments - the first two are empty strings, and the third is the list of punctuation we want to remove. this tells the function to replace all punctuation with 'none'.\n"
          ]
        }
      ]
    },
    {
      "cell_type": "code",
      "source": [
        "import re\n",
        "corpus = re.sub(r'\\d+', '', corpus)\n",
        "print(corpus)"
      ],
      "metadata": {
        "colab": {
          "base_uri": "https://localhost:8080/"
        },
        "id": "fvqnhSl0t2aZ",
        "outputId": "6c3e5e95-be1d-4b5f-872a-d01a9260b508"
      },
      "execution_count": null,
      "outputs": [
        {
          "output_type": "stream",
          "name": "stdout",
          "text": [
            "the .maketrans() method takes three arguments - the first two are empty strings, and the third is the list of punctuation we want to remove. this tells the function to replace all punctuation with 'none'.\n"
          ]
        }
      ]
    },
    {
      "cell_type": "code",
      "source": [
        "import string\n",
        "corpus = corpus.translate(str.maketrans('', '', string.punctuation))\n",
        "print(corpus)"
      ],
      "metadata": {
        "colab": {
          "base_uri": "https://localhost:8080/"
        },
        "id": "7Shrs0cSuBQn",
        "outputId": "0ff1ed3d-e95e-4bed-bc22-0fd5424ea0c4"
      },
      "execution_count": null,
      "outputs": [
        {
          "output_type": "stream",
          "name": "stdout",
          "text": [
            "the maketrans method takes three arguments  the first two are empty strings and the third is the list of punctuation we want to remove this tells the function to replace all punctuation with none\n"
          ]
        }
      ]
    },
    {
      "cell_type": "code",
      "source": [
        "corpus = ' '.join([token for token in corpus.split()])\n",
        "print(corpus)"
      ],
      "metadata": {
        "colab": {
          "base_uri": "https://localhost:8080/"
        },
        "id": "cebs7Su8uk6r",
        "outputId": "5b58026d-2286-4bb5-de80-f0d8aef9d102"
      },
      "execution_count": null,
      "outputs": [
        {
          "output_type": "stream",
          "name": "stdout",
          "text": [
            "the maketrans method takes three arguments the first two are empty strings and the third is the list of punctuation we want to remove this tells the function to replace all punctuation with none\n"
          ]
        }
      ]
    },
    {
      "cell_type": "code",
      "source": [
        "from pprint import pprint\n",
        "import nltk\n",
        "from nltk.corpus import stopwords\n",
        "nltk.download('stopwords')\n",
        "nltk.download('punkt')\n",
        "from nltk.tokenize import word_tokenize\n",
        "stop_words_nltk = set(stopwords.words('english'))"
      ],
      "metadata": {
        "colab": {
          "base_uri": "https://localhost:8080/"
        },
        "id": "EZK0jp9Cu5OF",
        "outputId": "991a5515-b43e-4d23-bbc8-5e26927883fa"
      },
      "execution_count": null,
      "outputs": [
        {
          "output_type": "stream",
          "name": "stdout",
          "text": [
            "[nltk_data] Downloading package stopwords to /root/nltk_data...\n",
            "[nltk_data]   Package stopwords is already up-to-date!\n",
            "[nltk_data] Downloading package punkt to /root/nltk_data...\n",
            "[nltk_data]   Package punkt is already up-to-date!\n"
          ]
        }
      ]
    },
    {
      "cell_type": "code",
      "source": [
        "tokenzied_corpus_nltk = word_tokenize(corpus)\n",
        "print(\"Tokenized corpus:\", tokenzied_corpus_nltk)\n",
        "tokenized_corpus_withous_stopwords = [i for i in tokenzied_corpus_nltk if not i in stop_words_nltk]"
      ],
      "metadata": {
        "colab": {
          "base_uri": "https://localhost:8080/"
        },
        "id": "ZLhLbQu-vSm_",
        "outputId": "00f58748-2964-413f-e574-d7f6c21cac8d"
      },
      "execution_count": null,
      "outputs": [
        {
          "output_type": "stream",
          "name": "stdout",
          "text": [
            "Tokenized corpus: ['the', 'maketrans', 'method', 'takes', 'three', 'arguments', 'the', 'first', 'two', 'are', 'empty', 'strings', 'and', 'the', 'third', 'is', 'the', 'list', 'of', 'punctuation', 'we', 'want', 'to', 'remove', 'this', 'tells', 'the', 'function', 'to', 'replace', 'all', 'punctuation', 'with', 'none']\n"
          ]
        }
      ]
    },
    {
      "cell_type": "code",
      "source": [
        "print(\"Tokenized corpus without sotpwords:\", tokenized_corpus_withous_stopwords)"
      ],
      "metadata": {
        "colab": {
          "base_uri": "https://localhost:8080/"
        },
        "id": "1O0MiEFgwEJC",
        "outputId": "109e833a-093f-41aa-8a50-1715ecd62b25"
      },
      "execution_count": null,
      "outputs": [
        {
          "output_type": "stream",
          "name": "stdout",
          "text": [
            "Tokenized corpus without sotpwords: ['maketrans', 'method', 'takes', 'three', 'arguments', 'first', 'two', 'empty', 'strings', 'third', 'list', 'punctuation', 'want', 'remove', 'tells', 'function', 'replace', 'punctuation', 'none']\n"
          ]
        }
      ]
    },
    {
      "cell_type": "code",
      "source": [
        "from nltk.stem import PorterStemmer\n",
        "from nltk.tokenize import word_tokenize\n",
        "stemmer = PorterStemmer()\n",
        "print(\"Before Stemming: \")\n",
        "print(corpus)\n",
        "print(\"After stemming: \")\n",
        "for word in tokenzied_corpus_nltk:\n",
        "  print(stemmer.stem(word), end=\" \")"
      ],
      "metadata": {
        "colab": {
          "base_uri": "https://localhost:8080/"
        },
        "id": "tLMiXP2VwkK-",
        "outputId": "6206186c-cfa7-4891-e9a0-d3ff8015c8fb"
      },
      "execution_count": null,
      "outputs": [
        {
          "output_type": "stream",
          "name": "stdout",
          "text": [
            "Before Stemming: \n",
            "the maketrans method takes three arguments the first two are empty strings and the third is the list of punctuation we want to remove this tells the function to replace all punctuation with none\n",
            "After stemming: \n",
            "the maketran method take three argument the first two are empti string and the third is the list of punctuat we want to remov thi tell the function to replac all punctuat with none "
          ]
        }
      ]
    },
    {
      "cell_type": "code",
      "source": [
        "from nltk.stem import WordNetLemmatizer\n",
        "from nltk.tokenize import word_tokenize\n",
        "nltk.download('wordnet')\n",
        "lemmatizer=WordNetLemmatizer()\n",
        "for word in tokenzied_corpus_nltk:\n",
        "  print(lemmatizer.lemmatize(word), end=\" \")"
      ],
      "metadata": {
        "colab": {
          "base_uri": "https://localhost:8080/"
        },
        "id": "73FvlPpsxKM_",
        "outputId": "a8880db7-532a-4073-862c-682e55ec5778"
      },
      "execution_count": null,
      "outputs": [
        {
          "output_type": "stream",
          "name": "stdout",
          "text": [
            "[nltk_data] Downloading package wordnet to /root/nltk_data...\n",
            "[nltk_data]   Package wordnet is already up-to-date!\n",
            "the maketrans method take three argument the first two are empty string and the third is the list of punctuation we want to remove this tell the function to replace all punctuation with none "
          ]
        }
      ]
    },
    {
      "cell_type": "code",
      "source": [
        "nltk.download('averaged_perceptron_tagger')\n",
        "print(\"POS Tagging using NLTK: \")\n",
        "pprint(nltk.pos_tag(word_tokenize(corpus)))"
      ],
      "metadata": {
        "colab": {
          "base_uri": "https://localhost:8080/"
        },
        "id": "lb9_0_Sz291E",
        "outputId": "acc9e388-2222-4ee0-c86e-8f676fffb90b"
      },
      "execution_count": null,
      "outputs": [
        {
          "output_type": "stream",
          "name": "stdout",
          "text": [
            "[nltk_data] Downloading package averaged_perceptron_tagger to\n",
            "[nltk_data]     /root/nltk_data...\n",
            "[nltk_data]   Package averaged_perceptron_tagger is already up-to-\n",
            "[nltk_data]       date!\n",
            "POS Tagging using NLTK: \n",
            "[('the', 'DT'),\n",
            " ('maketrans', 'NNS'),\n",
            " ('method', 'VBP'),\n",
            " ('takes', 'VBZ'),\n",
            " ('three', 'CD'),\n",
            " ('arguments', 'NNS'),\n",
            " ('the', 'DT'),\n",
            " ('first', 'JJ'),\n",
            " ('two', 'CD'),\n",
            " ('are', 'VBP'),\n",
            " ('empty', 'JJ'),\n",
            " ('strings', 'NNS'),\n",
            " ('and', 'CC'),\n",
            " ('the', 'DT'),\n",
            " ('third', 'JJ'),\n",
            " ('is', 'VBZ'),\n",
            " ('the', 'DT'),\n",
            " ('list', 'NN'),\n",
            " ('of', 'IN'),\n",
            " ('punctuation', 'NN'),\n",
            " ('we', 'PRP'),\n",
            " ('want', 'VBP'),\n",
            " ('to', 'TO'),\n",
            " ('remove', 'VB'),\n",
            " ('this', 'DT'),\n",
            " ('tells', 'VBZ'),\n",
            " ('the', 'DT'),\n",
            " ('function', 'NN'),\n",
            " ('to', 'TO'),\n",
            " ('replace', 'VB'),\n",
            " ('all', 'DT'),\n",
            " ('punctuation', 'NN'),\n",
            " ('with', 'IN'),\n",
            " ('none', 'NN')]\n"
          ]
        }
      ]
    },
    {
      "cell_type": "code",
      "source": [
        "documents = ['the glass of milk',\n",
        " 'the glass of juice',\n",
        " 'the cup of tea',\n",
        " 'I am a good boy',\n",
        " 'I am a good developer',\n",
        " 'understand the meaning of words',\n",
        " 'your videos are good']\n",
        " "
      ],
      "metadata": {
        "id": "sWGieMuz3bM7"
      },
      "execution_count": null,
      "outputs": []
    },
    {
      "cell_type": "code",
      "source": [
        "documents"
      ],
      "metadata": {
        "colab": {
          "base_uri": "https://localhost:8080/"
        },
        "id": "ejA5QNTO4R8y",
        "outputId": "8a5dd302-921c-475e-9268-e123bbbfbb2a"
      },
      "execution_count": null,
      "outputs": [
        {
          "output_type": "execute_result",
          "data": {
            "text/plain": [
              "['the glass of milk',\n",
              " 'the glass of juice',\n",
              " 'the cup of tea',\n",
              " 'I am a good boy',\n",
              " 'I am a good developer',\n",
              " 'understand the meaning of words',\n",
              " 'your videos are good']"
            ]
          },
          "metadata": {},
          "execution_count": 68
        }
      ]
    },
    {
      "cell_type": "code",
      "source": [
        "p_docs = [doc.lower().replace(\".\", \"\") for doc in documents]"
      ],
      "metadata": {
        "id": "n2dbCjGm4mtR"
      },
      "execution_count": null,
      "outputs": []
    },
    {
      "cell_type": "code",
      "source": [
        "p_docs"
      ],
      "metadata": {
        "colab": {
          "base_uri": "https://localhost:8080/"
        },
        "id": "xTm_3eh34xgp",
        "outputId": "e3cbc04f-8050-4217-829b-48a610f6c842"
      },
      "execution_count": null,
      "outputs": [
        {
          "output_type": "execute_result",
          "data": {
            "text/plain": [
              "['the glass of milk',\n",
              " 'the glass of juice',\n",
              " 'the cup of tea',\n",
              " 'i am a good boy',\n",
              " 'i am a good developer',\n",
              " 'understand the meaning of words',\n",
              " 'your videos are good']"
            ]
          },
          "metadata": {},
          "execution_count": 70
        }
      ]
    },
    {
      "cell_type": "code",
      "source": [
        "voc_size = 10000\n",
        "from tensorflow.keras.preprocessing.text import one_hot"
      ],
      "metadata": {
        "id": "O2ZJkGrM44vL"
      },
      "execution_count": null,
      "outputs": []
    },
    {
      "cell_type": "code",
      "source": [
        "one_hot_repr = [one_hot(words, voc_size) for words in p_docs]"
      ],
      "metadata": {
        "id": "GKUQPPH35N_p"
      },
      "execution_count": null,
      "outputs": []
    },
    {
      "cell_type": "code",
      "source": [
        "print(one_hot_repr)"
      ],
      "metadata": {
        "colab": {
          "base_uri": "https://localhost:8080/"
        },
        "id": "Eo1wr60E5jPB",
        "outputId": "667b858f-f8de-4818-8fb0-04899ab76348"
      },
      "execution_count": null,
      "outputs": [
        {
          "output_type": "stream",
          "name": "stdout",
          "text": [
            "[[5836, 1562, 8711, 6337], [5836, 1562, 8711, 6643], [5836, 4040, 8711, 3523], [6750, 8702, 908, 2213, 1591], [6750, 8702, 908, 2213, 6520], [8840, 5836, 1544, 8711, 4304], [3970, 1588, 5495, 2213]]\n"
          ]
        }
      ]
    },
    {
      "cell_type": "code",
      "source": [
        "from tensorflow.keras.layers import Embedding\n",
        "from tensorflow.keras.preprocessing.sequence import pad_sequences\n",
        "from tensorflow.keras.models import Sequential\n"
      ],
      "metadata": {
        "id": "LMjZU2cf5l-f"
      },
      "execution_count": null,
      "outputs": []
    },
    {
      "cell_type": "code",
      "source": [
        "import numpy as np"
      ],
      "metadata": {
        "id": "Ml2fhw5y52cu"
      },
      "execution_count": null,
      "outputs": []
    },
    {
      "cell_type": "code",
      "source": [
        "sent_length = 8\n",
        "embedded_docs = pad_sequences(one_hot_repr, padding='pre', maxlen=sent_length)\n",
        "print(embedded_docs)"
      ],
      "metadata": {
        "colab": {
          "base_uri": "https://localhost:8080/"
        },
        "id": "2EcEezrv54El",
        "outputId": "2d89b734-1e63-44be-e380-8fed3476fbe3"
      },
      "execution_count": null,
      "outputs": [
        {
          "output_type": "stream",
          "name": "stdout",
          "text": [
            "[[   0    0    0    0 5836 1562 8711 6337]\n",
            " [   0    0    0    0 5836 1562 8711 6643]\n",
            " [   0    0    0    0 5836 4040 8711 3523]\n",
            " [   0    0    0 6750 8702  908 2213 1591]\n",
            " [   0    0    0 6750 8702  908 2213 6520]\n",
            " [   0    0    0 8840 5836 1544 8711 4304]\n",
            " [   0    0    0    0 3970 1588 5495 2213]]\n"
          ]
        }
      ]
    },
    {
      "cell_type": "code",
      "source": [
        "dim = 15\n",
        "model_1 = Sequential([\n",
        "                Embedding(voc_size, dim, input_length=sent_length)\n",
        "])"
      ],
      "metadata": {
        "id": "qrZQq-4Z6F2o"
      },
      "execution_count": null,
      "outputs": []
    },
    {
      "cell_type": "code",
      "source": [
        "model_1.compile('adam', 'mse')"
      ],
      "metadata": {
        "id": "oiW5QTFB6S8B"
      },
      "execution_count": null,
      "outputs": []
    },
    {
      "cell_type": "code",
      "source": [
        "model_1.summary()"
      ],
      "metadata": {
        "colab": {
          "base_uri": "https://localhost:8080/"
        },
        "id": "F2B8cnEp6W6s",
        "outputId": "a13d5fa9-6453-4abc-f8d5-29aee60f54e3"
      },
      "execution_count": null,
      "outputs": [
        {
          "output_type": "stream",
          "name": "stdout",
          "text": [
            "Model: \"sequential_1\"\n",
            "_________________________________________________________________\n",
            " Layer (type)                Output Shape              Param #   \n",
            "=================================================================\n",
            " embedding_1 (Embedding)     (None, 8, 15)             150000    \n",
            "                                                                 \n",
            "=================================================================\n",
            "Total params: 150,000\n",
            "Trainable params: 150,000\n",
            "Non-trainable params: 0\n",
            "_________________________________________________________________\n"
          ]
        }
      ]
    },
    {
      "cell_type": "code",
      "source": [
        "print(model_1.predict(embedded_docs))"
      ],
      "metadata": {
        "colab": {
          "base_uri": "https://localhost:8080/"
        },
        "id": "pVbZ_mEm6ZWm",
        "outputId": "cc098dcb-4b2f-4a4a-93e0-33ec6441570c"
      },
      "execution_count": null,
      "outputs": [
        {
          "output_type": "stream",
          "name": "stdout",
          "text": [
            "[[[-0.04110805 -0.00079541 -0.03209788  0.0423047  -0.02528633\n",
            "   -0.04293425 -0.01221649  0.03950367 -0.01736739 -0.04917386\n",
            "   -0.02897401 -0.02910547  0.02327604 -0.01740768  0.00944523]\n",
            "  [-0.04110805 -0.00079541 -0.03209788  0.0423047  -0.02528633\n",
            "   -0.04293425 -0.01221649  0.03950367 -0.01736739 -0.04917386\n",
            "   -0.02897401 -0.02910547  0.02327604 -0.01740768  0.00944523]\n",
            "  [-0.04110805 -0.00079541 -0.03209788  0.0423047  -0.02528633\n",
            "   -0.04293425 -0.01221649  0.03950367 -0.01736739 -0.04917386\n",
            "   -0.02897401 -0.02910547  0.02327604 -0.01740768  0.00944523]\n",
            "  [-0.04110805 -0.00079541 -0.03209788  0.0423047  -0.02528633\n",
            "   -0.04293425 -0.01221649  0.03950367 -0.01736739 -0.04917386\n",
            "   -0.02897401 -0.02910547  0.02327604 -0.01740768  0.00944523]\n",
            "  [-0.00556731  0.04109541 -0.02026701 -0.02568579 -0.01361328\n",
            "    0.03971226 -0.02542874  0.0067512  -0.01915748 -0.01250161\n",
            "    0.01725284 -0.00241263  0.02954283  0.04115875  0.01474083]\n",
            "  [ 0.04876533  0.00768006  0.00874338 -0.04306697 -0.03192484\n",
            "   -0.0404535   0.0432303   0.00154084  0.01563472 -0.03620917\n",
            "   -0.03086936  0.02140205  0.02211137 -0.01339715 -0.03212591]\n",
            "  [ 0.00548406 -0.01896622  0.01051652 -0.01762252  0.04568381\n",
            "    0.04475835  0.00745971  0.01755396 -0.04081766 -0.01509712\n",
            "    0.00400018 -0.02204772 -0.03146159  0.01340264  0.02690526]\n",
            "  [-0.01167107 -0.04638488 -0.01210827  0.02158325 -0.00236924\n",
            "    0.02533429 -0.00984914 -0.03384361  0.00180092 -0.03119981\n",
            "   -0.04941748  0.00573522  0.00396214 -0.01069896  0.02736244]]\n",
            "\n",
            " [[-0.04110805 -0.00079541 -0.03209788  0.0423047  -0.02528633\n",
            "   -0.04293425 -0.01221649  0.03950367 -0.01736739 -0.04917386\n",
            "   -0.02897401 -0.02910547  0.02327604 -0.01740768  0.00944523]\n",
            "  [-0.04110805 -0.00079541 -0.03209788  0.0423047  -0.02528633\n",
            "   -0.04293425 -0.01221649  0.03950367 -0.01736739 -0.04917386\n",
            "   -0.02897401 -0.02910547  0.02327604 -0.01740768  0.00944523]\n",
            "  [-0.04110805 -0.00079541 -0.03209788  0.0423047  -0.02528633\n",
            "   -0.04293425 -0.01221649  0.03950367 -0.01736739 -0.04917386\n",
            "   -0.02897401 -0.02910547  0.02327604 -0.01740768  0.00944523]\n",
            "  [-0.04110805 -0.00079541 -0.03209788  0.0423047  -0.02528633\n",
            "   -0.04293425 -0.01221649  0.03950367 -0.01736739 -0.04917386\n",
            "   -0.02897401 -0.02910547  0.02327604 -0.01740768  0.00944523]\n",
            "  [-0.00556731  0.04109541 -0.02026701 -0.02568579 -0.01361328\n",
            "    0.03971226 -0.02542874  0.0067512  -0.01915748 -0.01250161\n",
            "    0.01725284 -0.00241263  0.02954283  0.04115875  0.01474083]\n",
            "  [ 0.04876533  0.00768006  0.00874338 -0.04306697 -0.03192484\n",
            "   -0.0404535   0.0432303   0.00154084  0.01563472 -0.03620917\n",
            "   -0.03086936  0.02140205  0.02211137 -0.01339715 -0.03212591]\n",
            "  [ 0.00548406 -0.01896622  0.01051652 -0.01762252  0.04568381\n",
            "    0.04475835  0.00745971  0.01755396 -0.04081766 -0.01509712\n",
            "    0.00400018 -0.02204772 -0.03146159  0.01340264  0.02690526]\n",
            "  [-0.04443804 -0.0142653   0.03459051  0.02217903 -0.02818307\n",
            "   -0.04663667  0.03443891 -0.03942863 -0.04033589  0.03131559\n",
            "   -0.00924022 -0.03241032  0.01917625 -0.02191187  0.03385547]]\n",
            "\n",
            " [[-0.04110805 -0.00079541 -0.03209788  0.0423047  -0.02528633\n",
            "   -0.04293425 -0.01221649  0.03950367 -0.01736739 -0.04917386\n",
            "   -0.02897401 -0.02910547  0.02327604 -0.01740768  0.00944523]\n",
            "  [-0.04110805 -0.00079541 -0.03209788  0.0423047  -0.02528633\n",
            "   -0.04293425 -0.01221649  0.03950367 -0.01736739 -0.04917386\n",
            "   -0.02897401 -0.02910547  0.02327604 -0.01740768  0.00944523]\n",
            "  [-0.04110805 -0.00079541 -0.03209788  0.0423047  -0.02528633\n",
            "   -0.04293425 -0.01221649  0.03950367 -0.01736739 -0.04917386\n",
            "   -0.02897401 -0.02910547  0.02327604 -0.01740768  0.00944523]\n",
            "  [-0.04110805 -0.00079541 -0.03209788  0.0423047  -0.02528633\n",
            "   -0.04293425 -0.01221649  0.03950367 -0.01736739 -0.04917386\n",
            "   -0.02897401 -0.02910547  0.02327604 -0.01740768  0.00944523]\n",
            "  [-0.00556731  0.04109541 -0.02026701 -0.02568579 -0.01361328\n",
            "    0.03971226 -0.02542874  0.0067512  -0.01915748 -0.01250161\n",
            "    0.01725284 -0.00241263  0.02954283  0.04115875  0.01474083]\n",
            "  [ 0.01824522  0.03895355  0.01279057  0.01511622  0.00116049\n",
            "   -0.02856755  0.00554    -0.00506815  0.00541108 -0.0174922\n",
            "    0.00175837 -0.01198981 -0.03272559  0.0487575   0.0225197 ]\n",
            "  [ 0.00548406 -0.01896622  0.01051652 -0.01762252  0.04568381\n",
            "    0.04475835  0.00745971  0.01755396 -0.04081766 -0.01509712\n",
            "    0.00400018 -0.02204772 -0.03146159  0.01340264  0.02690526]\n",
            "  [ 0.02910555  0.0007275   0.00422839  0.02613897  0.02965871\n",
            "    0.0220404  -0.04726672 -0.02688035  0.03890255  0.01422744\n",
            "   -0.01134027  0.01705435 -0.02472099 -0.02726468 -0.01750593]]\n",
            "\n",
            " [[-0.04110805 -0.00079541 -0.03209788  0.0423047  -0.02528633\n",
            "   -0.04293425 -0.01221649  0.03950367 -0.01736739 -0.04917386\n",
            "   -0.02897401 -0.02910547  0.02327604 -0.01740768  0.00944523]\n",
            "  [-0.04110805 -0.00079541 -0.03209788  0.0423047  -0.02528633\n",
            "   -0.04293425 -0.01221649  0.03950367 -0.01736739 -0.04917386\n",
            "   -0.02897401 -0.02910547  0.02327604 -0.01740768  0.00944523]\n",
            "  [-0.04110805 -0.00079541 -0.03209788  0.0423047  -0.02528633\n",
            "   -0.04293425 -0.01221649  0.03950367 -0.01736739 -0.04917386\n",
            "   -0.02897401 -0.02910547  0.02327604 -0.01740768  0.00944523]\n",
            "  [-0.02727203  0.03186187 -0.03855716  0.00701796 -0.03527129\n",
            "    0.00995697  0.03092879  0.0473797  -0.02974879  0.03500325\n",
            "    0.00913235  0.03028138  0.00579908 -0.00257016 -0.04766817]\n",
            "  [-0.04234849  0.00726633 -0.01083211  0.01845283  0.01733411\n",
            "    0.01608104 -0.03823031  0.03175801 -0.01091226  0.00034411\n",
            "   -0.01037377  0.04910245 -0.02350216  0.03738039 -0.02250229]\n",
            "  [ 0.03076656  0.02884268 -0.02098545  0.00013026 -0.04509392\n",
            "   -0.03374243  0.03155826  0.03273317 -0.01913329 -0.01652508\n",
            "    0.04848817  0.02221764  0.01626185 -0.02749163  0.02867479]\n",
            "  [-0.04759264  0.02823663 -0.03447775 -0.03915871 -0.00136826\n",
            "    0.00613413  0.00331057  0.01623159  0.03494802  0.03342004\n",
            "   -0.03497618 -0.003793   -0.01908127 -0.00603608 -0.00611118]\n",
            "  [-0.04717879  0.02107545 -0.00146915 -0.02603148  0.02340705\n",
            "   -0.02025268  0.02442468  0.02068209 -0.02975575 -0.01329006\n",
            "   -0.03793442 -0.01440015 -0.04860927 -0.00242988  0.01437399]]\n",
            "\n",
            " [[-0.04110805 -0.00079541 -0.03209788  0.0423047  -0.02528633\n",
            "   -0.04293425 -0.01221649  0.03950367 -0.01736739 -0.04917386\n",
            "   -0.02897401 -0.02910547  0.02327604 -0.01740768  0.00944523]\n",
            "  [-0.04110805 -0.00079541 -0.03209788  0.0423047  -0.02528633\n",
            "   -0.04293425 -0.01221649  0.03950367 -0.01736739 -0.04917386\n",
            "   -0.02897401 -0.02910547  0.02327604 -0.01740768  0.00944523]\n",
            "  [-0.04110805 -0.00079541 -0.03209788  0.0423047  -0.02528633\n",
            "   -0.04293425 -0.01221649  0.03950367 -0.01736739 -0.04917386\n",
            "   -0.02897401 -0.02910547  0.02327604 -0.01740768  0.00944523]\n",
            "  [-0.02727203  0.03186187 -0.03855716  0.00701796 -0.03527129\n",
            "    0.00995697  0.03092879  0.0473797  -0.02974879  0.03500325\n",
            "    0.00913235  0.03028138  0.00579908 -0.00257016 -0.04766817]\n",
            "  [-0.04234849  0.00726633 -0.01083211  0.01845283  0.01733411\n",
            "    0.01608104 -0.03823031  0.03175801 -0.01091226  0.00034411\n",
            "   -0.01037377  0.04910245 -0.02350216  0.03738039 -0.02250229]\n",
            "  [ 0.03076656  0.02884268 -0.02098545  0.00013026 -0.04509392\n",
            "   -0.03374243  0.03155826  0.03273317 -0.01913329 -0.01652508\n",
            "    0.04848817  0.02221764  0.01626185 -0.02749163  0.02867479]\n",
            "  [-0.04759264  0.02823663 -0.03447775 -0.03915871 -0.00136826\n",
            "    0.00613413  0.00331057  0.01623159  0.03494802  0.03342004\n",
            "   -0.03497618 -0.003793   -0.01908127 -0.00603608 -0.00611118]\n",
            "  [ 0.00880706 -0.01447421 -0.0068373  -0.00449821 -0.01480148\n",
            "   -0.03098555 -0.00907283 -0.03141407 -0.01822233  0.03933953\n",
            "    0.01874002 -0.00151145  0.02362664  0.04530734 -0.03605948]]\n",
            "\n",
            " [[-0.04110805 -0.00079541 -0.03209788  0.0423047  -0.02528633\n",
            "   -0.04293425 -0.01221649  0.03950367 -0.01736739 -0.04917386\n",
            "   -0.02897401 -0.02910547  0.02327604 -0.01740768  0.00944523]\n",
            "  [-0.04110805 -0.00079541 -0.03209788  0.0423047  -0.02528633\n",
            "   -0.04293425 -0.01221649  0.03950367 -0.01736739 -0.04917386\n",
            "   -0.02897401 -0.02910547  0.02327604 -0.01740768  0.00944523]\n",
            "  [-0.04110805 -0.00079541 -0.03209788  0.0423047  -0.02528633\n",
            "   -0.04293425 -0.01221649  0.03950367 -0.01736739 -0.04917386\n",
            "   -0.02897401 -0.02910547  0.02327604 -0.01740768  0.00944523]\n",
            "  [-0.02873769 -0.04916499 -0.04185308 -0.00208303  0.00513043\n",
            "   -0.03394017 -0.03717282 -0.00759765  0.01615647  0.02878431\n",
            "   -0.02530634 -0.00152048 -0.02102203 -0.03325953  0.03964675]\n",
            "  [-0.00556731  0.04109541 -0.02026701 -0.02568579 -0.01361328\n",
            "    0.03971226 -0.02542874  0.0067512  -0.01915748 -0.01250161\n",
            "    0.01725284 -0.00241263  0.02954283  0.04115875  0.01474083]\n",
            "  [ 0.04842211  0.01747056 -0.01581221  0.00838274  0.04974723\n",
            "    0.03813891  0.00249492  0.02859071 -0.02792972 -0.0305148\n",
            "    0.03868308 -0.02821118  0.02470839 -0.01341207 -0.01843282]\n",
            "  [ 0.00548406 -0.01896622  0.01051652 -0.01762252  0.04568381\n",
            "    0.04475835  0.00745971  0.01755396 -0.04081766 -0.01509712\n",
            "    0.00400018 -0.02204772 -0.03146159  0.01340264  0.02690526]\n",
            "  [ 0.00372624 -0.02140397 -0.03207451 -0.00072182  0.00628872\n",
            "    0.007083    0.00317366  0.04319539  0.03874192 -0.03359248\n",
            "   -0.04792222  0.01641481 -0.04917264 -0.03264451  0.01470428]]\n",
            "\n",
            " [[-0.04110805 -0.00079541 -0.03209788  0.0423047  -0.02528633\n",
            "   -0.04293425 -0.01221649  0.03950367 -0.01736739 -0.04917386\n",
            "   -0.02897401 -0.02910547  0.02327604 -0.01740768  0.00944523]\n",
            "  [-0.04110805 -0.00079541 -0.03209788  0.0423047  -0.02528633\n",
            "   -0.04293425 -0.01221649  0.03950367 -0.01736739 -0.04917386\n",
            "   -0.02897401 -0.02910547  0.02327604 -0.01740768  0.00944523]\n",
            "  [-0.04110805 -0.00079541 -0.03209788  0.0423047  -0.02528633\n",
            "   -0.04293425 -0.01221649  0.03950367 -0.01736739 -0.04917386\n",
            "   -0.02897401 -0.02910547  0.02327604 -0.01740768  0.00944523]\n",
            "  [-0.04110805 -0.00079541 -0.03209788  0.0423047  -0.02528633\n",
            "   -0.04293425 -0.01221649  0.03950367 -0.01736739 -0.04917386\n",
            "   -0.02897401 -0.02910547  0.02327604 -0.01740768  0.00944523]\n",
            "  [-0.03130128  0.04391564 -0.00491359 -0.0203101  -0.04608608\n",
            "   -0.0402723   0.03074559 -0.02731181 -0.04161316  0.00117124\n",
            "    0.00350057 -0.00624384  0.00374535 -0.01525275  0.02050313]\n",
            "  [-0.02009151 -0.04294506 -0.0073095  -0.00461965 -0.0134701\n",
            "    0.00571805 -0.00351278  0.00534465  0.03170348 -0.01595002\n",
            "   -0.00065696  0.00404264  0.02819053  0.01524505 -0.04109372]\n",
            "  [-0.01692124  0.03327868  0.00244265 -0.00867331 -0.03263485\n",
            "    0.01395038 -0.01662716 -0.00745879 -0.02999039  0.02102229\n",
            "    0.00063204 -0.02824769  0.01921793  0.00842607 -0.02301172]\n",
            "  [-0.04759264  0.02823663 -0.03447775 -0.03915871 -0.00136826\n",
            "    0.00613413  0.00331057  0.01623159  0.03494802  0.03342004\n",
            "   -0.03497618 -0.003793   -0.01908127 -0.00603608 -0.00611118]]]\n"
          ]
        }
      ]
    },
    {
      "cell_type": "code",
      "source": [
        "embedded_docs[0]"
      ],
      "metadata": {
        "colab": {
          "base_uri": "https://localhost:8080/"
        },
        "id": "Jc__qbax6eUp",
        "outputId": "4d5ab4e6-4011-4761-cbcc-555e37cb2008"
      },
      "execution_count": null,
      "outputs": [
        {
          "output_type": "execute_result",
          "data": {
            "text/plain": [
              "array([   0,    0,    0,    0, 5836, 1562, 8711, 6337], dtype=int32)"
            ]
          },
          "metadata": {},
          "execution_count": 81
        }
      ]
    },
    {
      "cell_type": "code",
      "source": [
        "print(model_1.predict(embedded_docs[0]))"
      ],
      "metadata": {
        "colab": {
          "base_uri": "https://localhost:8080/"
        },
        "id": "Dr6q4dx16lc3",
        "outputId": "e166b54a-3a04-4f55-e6c4-50a333a786f6"
      },
      "execution_count": null,
      "outputs": [
        {
          "output_type": "stream",
          "name": "stdout",
          "text": [
            "WARNING:tensorflow:Model was constructed with shape (None, 8) for input KerasTensor(type_spec=TensorSpec(shape=(None, 8), dtype=tf.float32, name='embedding_1_input'), name='embedding_1_input', description=\"created by layer 'embedding_1_input'\"), but it was called on an input with incompatible shape (None,).\n",
            "[[-0.04110805 -0.00079541 -0.03209788  0.0423047  -0.02528633 -0.04293425\n",
            "  -0.01221649  0.03950367 -0.01736739 -0.04917386 -0.02897401 -0.02910547\n",
            "   0.02327604 -0.01740768  0.00944523]\n",
            " [-0.04110805 -0.00079541 -0.03209788  0.0423047  -0.02528633 -0.04293425\n",
            "  -0.01221649  0.03950367 -0.01736739 -0.04917386 -0.02897401 -0.02910547\n",
            "   0.02327604 -0.01740768  0.00944523]\n",
            " [-0.04110805 -0.00079541 -0.03209788  0.0423047  -0.02528633 -0.04293425\n",
            "  -0.01221649  0.03950367 -0.01736739 -0.04917386 -0.02897401 -0.02910547\n",
            "   0.02327604 -0.01740768  0.00944523]\n",
            " [-0.04110805 -0.00079541 -0.03209788  0.0423047  -0.02528633 -0.04293425\n",
            "  -0.01221649  0.03950367 -0.01736739 -0.04917386 -0.02897401 -0.02910547\n",
            "   0.02327604 -0.01740768  0.00944523]\n",
            " [-0.00556731  0.04109541 -0.02026701 -0.02568579 -0.01361328  0.03971226\n",
            "  -0.02542874  0.0067512  -0.01915748 -0.01250161  0.01725284 -0.00241263\n",
            "   0.02954283  0.04115875  0.01474083]\n",
            " [ 0.04876533  0.00768006  0.00874338 -0.04306697 -0.03192484 -0.0404535\n",
            "   0.0432303   0.00154084  0.01563472 -0.03620917 -0.03086936  0.02140205\n",
            "   0.02211137 -0.01339715 -0.03212591]\n",
            " [ 0.00548406 -0.01896622  0.01051652 -0.01762252  0.04568381  0.04475835\n",
            "   0.00745971  0.01755396 -0.04081766 -0.01509712  0.00400018 -0.02204772\n",
            "  -0.03146159  0.01340264  0.02690526]\n",
            " [-0.01167107 -0.04638488 -0.01210827  0.02158325 -0.00236924  0.02533429\n",
            "  -0.00984914 -0.03384361  0.00180092 -0.03119981 -0.04941748  0.00573522\n",
            "   0.00396214 -0.01069896  0.02736244]]\n"
          ]
        }
      ]
    },
    {
      "cell_type": "code",
      "source": [
        "from sklearn.feature_extraction.text import CountVectorizer\n",
        "print(\"Our corpus: \", p_docs)"
      ],
      "metadata": {
        "colab": {
          "base_uri": "https://localhost:8080/"
        },
        "id": "aXAP8sCNAPRb",
        "outputId": "16cfc604-9238-46e1-ca6b-d23dcae05ff8"
      },
      "execution_count": null,
      "outputs": [
        {
          "output_type": "stream",
          "name": "stdout",
          "text": [
            "Our corpus:  ['the glass of milk', 'the glass of juice', 'the cup of tea', 'i am a good boy', 'i am a good developer', 'understand the meaning of words', 'your videos are good']\n"
          ]
        }
      ]
    },
    {
      "cell_type": "code",
      "source": [
        "count_vect = CountVectorizer()\n",
        "bow_rep = count_vect.fit_transform(p_docs)\n",
        "print(\"Our vocabulary: \", count_vect.vocabulary_)\n",
        "print(\"BoW representation for 'dog bites man': \", bow_rep[0].toarray())\n",
        "print(\"BoW representation for 'man bites dog': \", bow_rep[1].toarray())"
      ],
      "metadata": {
        "colab": {
          "base_uri": "https://localhost:8080/"
        },
        "id": "3w1rntMVBGng",
        "outputId": "1d2df2c2-3470-4291-ded9-8b78754e4c5d"
      },
      "execution_count": null,
      "outputs": [
        {
          "output_type": "stream",
          "name": "stdout",
          "text": [
            "Our vocabulary:  {'the': 12, 'glass': 5, 'of': 10, 'milk': 9, 'juice': 7, 'cup': 3, 'tea': 11, 'am': 0, 'good': 6, 'boy': 2, 'developer': 4, 'understand': 13, 'meaning': 8, 'words': 15, 'your': 16, 'videos': 14, 'are': 1}\n",
            "BoW representation for 'dog bites man':  [[0 0 0 0 0 1 0 0 0 1 1 0 1 0 0 0 0]]\n",
            "BoW representation for 'man bites dog':  [[0 0 0 0 0 1 0 1 0 0 1 0 1 0 0 0 0]]\n"
          ]
        }
      ]
    },
    {
      "cell_type": "code",
      "source": [
        "temp = count_vect.transform(['dog and man are best friends'])\n",
        "print(\"BoW representation for 'dog and man are best friends': \", temp.toarray())"
      ],
      "metadata": {
        "colab": {
          "base_uri": "https://localhost:8080/"
        },
        "id": "GKsIVfsnB4IW",
        "outputId": "7db1f80c-1a7e-4f6f-b34f-af0a5360eef9"
      },
      "execution_count": null,
      "outputs": [
        {
          "output_type": "stream",
          "name": "stdout",
          "text": [
            "BoW representation for 'dog and man are best friends':  [[0 1 0 0 0 0 0 0 0 0 0 0 0 0 0 0 0]]\n"
          ]
        }
      ]
    },
    {
      "cell_type": "code",
      "source": [
        "from sklearn.feature_extraction.text import TfidfVectorizer\n",
        "\n",
        "tfidf = TfidfVectorizer()\n",
        "bow_rep_tfidf = tfidf.fit_transform(p_docs)\n",
        "print(\"TFIDF representation for all the documents in corpus\\n\", bow_rep_tfidf.toarray())"
      ],
      "metadata": {
        "colab": {
          "base_uri": "https://localhost:8080/"
        },
        "id": "cxbQjplvCSMj",
        "outputId": "0f7d8d8b-5b1d-4b1e-e372-437f393f4ce4"
      },
      "execution_count": null,
      "outputs": [
        {
          "output_type": "stream",
          "name": "stdout",
          "text": [
            "TFIDF representation for all the documents in corpus\n",
            " [[0.         0.         0.         0.         0.         0.53053875\n",
            "  0.         0.         0.         0.63913718 0.3937209  0.\n",
            "  0.3937209  0.         0.         0.         0.        ]\n",
            " [0.         0.         0.         0.         0.         0.53053875\n",
            "  0.         0.63913718 0.         0.         0.3937209  0.\n",
            "  0.3937209  0.         0.         0.         0.        ]\n",
            " [0.         0.         0.         0.60204273 0.         0.\n",
            "  0.         0.         0.         0.         0.37087    0.60204273\n",
            "  0.37087    0.         0.         0.         0.        ]\n",
            " [0.56060334 0.         0.67535583 0.         0.         0.\n",
            "  0.47918515 0.         0.         0.         0.         0.\n",
            "  0.         0.         0.         0.         0.        ]\n",
            " [0.56060334 0.         0.         0.         0.67535583 0.\n",
            "  0.47918515 0.         0.         0.         0.         0.\n",
            "  0.         0.         0.         0.         0.        ]\n",
            " [0.         0.         0.         0.         0.         0.\n",
            "  0.         0.         0.51578197 0.         0.3177317  0.\n",
            "  0.3177317  0.51578197 0.         0.51578197 0.        ]\n",
            " [0.         0.53426056 0.         0.         0.         0.\n",
            "  0.37907384 0.         0.         0.         0.         0.\n",
            "  0.         0.         0.53426056 0.         0.53426056]]\n"
          ]
        }
      ]
    },
    {
      "cell_type": "code",
      "source": [
        "import gensim\n",
        "import pandas as pd\n"
      ],
      "metadata": {
        "id": "e2M-ni-QD9Lg"
      },
      "execution_count": null,
      "outputs": []
    },
    {
      "cell_type": "code",
      "source": [
        ""
      ],
      "metadata": {
        "id": "9cU909-suOkA"
      },
      "execution_count": null,
      "outputs": []
    }
  ]
}