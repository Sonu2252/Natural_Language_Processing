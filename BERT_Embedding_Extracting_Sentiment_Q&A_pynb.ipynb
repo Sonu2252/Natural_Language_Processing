{
  "nbformat": 4,
  "nbformat_minor": 0,
  "metadata": {
    "colab": {
      "name": "BERT_Embedding_Extracting_Sentiment_Q&A.pynb",
      "provenance": [],
      "collapsed_sections": [],
      "authorship_tag": "ABX9TyNmyeyhkLBsfDl+FIG+AzG7",
      "include_colab_link": true
    },
    "kernelspec": {
      "name": "python3",
      "display_name": "Python 3"
    },
    "language_info": {
      "name": "python"
    },
    "widgets": {
      "application/vnd.jupyter.widget-state+json": {
        "6c2184e429a24237906efff2d582ca5d": {
          "model_module": "@jupyter-widgets/controls",
          "model_name": "HBoxModel",
          "model_module_version": "1.5.0",
          "state": {
            "_dom_classes": [],
            "_model_module": "@jupyter-widgets/controls",
            "_model_module_version": "1.5.0",
            "_model_name": "HBoxModel",
            "_view_count": null,
            "_view_module": "@jupyter-widgets/controls",
            "_view_module_version": "1.5.0",
            "_view_name": "HBoxView",
            "box_style": "",
            "children": [
              "IPY_MODEL_950fa872b5ad47a998902e0949958e4f",
              "IPY_MODEL_0d2eb676e4414eae832302231003d3c0",
              "IPY_MODEL_c1e1b68a6fed4a5b9c00f1168adbfdaa"
            ],
            "layout": "IPY_MODEL_9bbe4acf4b9141b18501382b76a3966d"
          }
        },
        "950fa872b5ad47a998902e0949958e4f": {
          "model_module": "@jupyter-widgets/controls",
          "model_name": "HTMLModel",
          "model_module_version": "1.5.0",
          "state": {
            "_dom_classes": [],
            "_model_module": "@jupyter-widgets/controls",
            "_model_module_version": "1.5.0",
            "_model_name": "HTMLModel",
            "_view_count": null,
            "_view_module": "@jupyter-widgets/controls",
            "_view_module_version": "1.5.0",
            "_view_name": "HTMLView",
            "description": "",
            "description_tooltip": null,
            "layout": "IPY_MODEL_beaf9ec782c7449cbe0230525ead2def",
            "placeholder": "​",
            "style": "IPY_MODEL_196928a315de458d88a389fa53261d31",
            "value": "Downloading: 100%"
          }
        },
        "0d2eb676e4414eae832302231003d3c0": {
          "model_module": "@jupyter-widgets/controls",
          "model_name": "FloatProgressModel",
          "model_module_version": "1.5.0",
          "state": {
            "_dom_classes": [],
            "_model_module": "@jupyter-widgets/controls",
            "_model_module_version": "1.5.0",
            "_model_name": "FloatProgressModel",
            "_view_count": null,
            "_view_module": "@jupyter-widgets/controls",
            "_view_module_version": "1.5.0",
            "_view_name": "ProgressView",
            "bar_style": "success",
            "description": "",
            "description_tooltip": null,
            "layout": "IPY_MODEL_1aa366fce0f94c6090f75b008270a8d1",
            "max": 570,
            "min": 0,
            "orientation": "horizontal",
            "style": "IPY_MODEL_10af97241b134341b34d7e75777f5da5",
            "value": 570
          }
        },
        "c1e1b68a6fed4a5b9c00f1168adbfdaa": {
          "model_module": "@jupyter-widgets/controls",
          "model_name": "HTMLModel",
          "model_module_version": "1.5.0",
          "state": {
            "_dom_classes": [],
            "_model_module": "@jupyter-widgets/controls",
            "_model_module_version": "1.5.0",
            "_model_name": "HTMLModel",
            "_view_count": null,
            "_view_module": "@jupyter-widgets/controls",
            "_view_module_version": "1.5.0",
            "_view_name": "HTMLView",
            "description": "",
            "description_tooltip": null,
            "layout": "IPY_MODEL_d7be27ce546e49b985302570440bbd0d",
            "placeholder": "​",
            "style": "IPY_MODEL_eeef9fd4eb444c29b086fa63e73a7279",
            "value": " 570/570 [00:00&lt;00:00, 3.93kB/s]"
          }
        },
        "9bbe4acf4b9141b18501382b76a3966d": {
          "model_module": "@jupyter-widgets/base",
          "model_name": "LayoutModel",
          "model_module_version": "1.2.0",
          "state": {
            "_model_module": "@jupyter-widgets/base",
            "_model_module_version": "1.2.0",
            "_model_name": "LayoutModel",
            "_view_count": null,
            "_view_module": "@jupyter-widgets/base",
            "_view_module_version": "1.2.0",
            "_view_name": "LayoutView",
            "align_content": null,
            "align_items": null,
            "align_self": null,
            "border": null,
            "bottom": null,
            "display": null,
            "flex": null,
            "flex_flow": null,
            "grid_area": null,
            "grid_auto_columns": null,
            "grid_auto_flow": null,
            "grid_auto_rows": null,
            "grid_column": null,
            "grid_gap": null,
            "grid_row": null,
            "grid_template_areas": null,
            "grid_template_columns": null,
            "grid_template_rows": null,
            "height": null,
            "justify_content": null,
            "justify_items": null,
            "left": null,
            "margin": null,
            "max_height": null,
            "max_width": null,
            "min_height": null,
            "min_width": null,
            "object_fit": null,
            "object_position": null,
            "order": null,
            "overflow": null,
            "overflow_x": null,
            "overflow_y": null,
            "padding": null,
            "right": null,
            "top": null,
            "visibility": null,
            "width": null
          }
        },
        "beaf9ec782c7449cbe0230525ead2def": {
          "model_module": "@jupyter-widgets/base",
          "model_name": "LayoutModel",
          "model_module_version": "1.2.0",
          "state": {
            "_model_module": "@jupyter-widgets/base",
            "_model_module_version": "1.2.0",
            "_model_name": "LayoutModel",
            "_view_count": null,
            "_view_module": "@jupyter-widgets/base",
            "_view_module_version": "1.2.0",
            "_view_name": "LayoutView",
            "align_content": null,
            "align_items": null,
            "align_self": null,
            "border": null,
            "bottom": null,
            "display": null,
            "flex": null,
            "flex_flow": null,
            "grid_area": null,
            "grid_auto_columns": null,
            "grid_auto_flow": null,
            "grid_auto_rows": null,
            "grid_column": null,
            "grid_gap": null,
            "grid_row": null,
            "grid_template_areas": null,
            "grid_template_columns": null,
            "grid_template_rows": null,
            "height": null,
            "justify_content": null,
            "justify_items": null,
            "left": null,
            "margin": null,
            "max_height": null,
            "max_width": null,
            "min_height": null,
            "min_width": null,
            "object_fit": null,
            "object_position": null,
            "order": null,
            "overflow": null,
            "overflow_x": null,
            "overflow_y": null,
            "padding": null,
            "right": null,
            "top": null,
            "visibility": null,
            "width": null
          }
        },
        "196928a315de458d88a389fa53261d31": {
          "model_module": "@jupyter-widgets/controls",
          "model_name": "DescriptionStyleModel",
          "model_module_version": "1.5.0",
          "state": {
            "_model_module": "@jupyter-widgets/controls",
            "_model_module_version": "1.5.0",
            "_model_name": "DescriptionStyleModel",
            "_view_count": null,
            "_view_module": "@jupyter-widgets/base",
            "_view_module_version": "1.2.0",
            "_view_name": "StyleView",
            "description_width": ""
          }
        },
        "1aa366fce0f94c6090f75b008270a8d1": {
          "model_module": "@jupyter-widgets/base",
          "model_name": "LayoutModel",
          "model_module_version": "1.2.0",
          "state": {
            "_model_module": "@jupyter-widgets/base",
            "_model_module_version": "1.2.0",
            "_model_name": "LayoutModel",
            "_view_count": null,
            "_view_module": "@jupyter-widgets/base",
            "_view_module_version": "1.2.0",
            "_view_name": "LayoutView",
            "align_content": null,
            "align_items": null,
            "align_self": null,
            "border": null,
            "bottom": null,
            "display": null,
            "flex": null,
            "flex_flow": null,
            "grid_area": null,
            "grid_auto_columns": null,
            "grid_auto_flow": null,
            "grid_auto_rows": null,
            "grid_column": null,
            "grid_gap": null,
            "grid_row": null,
            "grid_template_areas": null,
            "grid_template_columns": null,
            "grid_template_rows": null,
            "height": null,
            "justify_content": null,
            "justify_items": null,
            "left": null,
            "margin": null,
            "max_height": null,
            "max_width": null,
            "min_height": null,
            "min_width": null,
            "object_fit": null,
            "object_position": null,
            "order": null,
            "overflow": null,
            "overflow_x": null,
            "overflow_y": null,
            "padding": null,
            "right": null,
            "top": null,
            "visibility": null,
            "width": null
          }
        },
        "10af97241b134341b34d7e75777f5da5": {
          "model_module": "@jupyter-widgets/controls",
          "model_name": "ProgressStyleModel",
          "model_module_version": "1.5.0",
          "state": {
            "_model_module": "@jupyter-widgets/controls",
            "_model_module_version": "1.5.0",
            "_model_name": "ProgressStyleModel",
            "_view_count": null,
            "_view_module": "@jupyter-widgets/base",
            "_view_module_version": "1.2.0",
            "_view_name": "StyleView",
            "bar_color": null,
            "description_width": ""
          }
        },
        "d7be27ce546e49b985302570440bbd0d": {
          "model_module": "@jupyter-widgets/base",
          "model_name": "LayoutModel",
          "model_module_version": "1.2.0",
          "state": {
            "_model_module": "@jupyter-widgets/base",
            "_model_module_version": "1.2.0",
            "_model_name": "LayoutModel",
            "_view_count": null,
            "_view_module": "@jupyter-widgets/base",
            "_view_module_version": "1.2.0",
            "_view_name": "LayoutView",
            "align_content": null,
            "align_items": null,
            "align_self": null,
            "border": null,
            "bottom": null,
            "display": null,
            "flex": null,
            "flex_flow": null,
            "grid_area": null,
            "grid_auto_columns": null,
            "grid_auto_flow": null,
            "grid_auto_rows": null,
            "grid_column": null,
            "grid_gap": null,
            "grid_row": null,
            "grid_template_areas": null,
            "grid_template_columns": null,
            "grid_template_rows": null,
            "height": null,
            "justify_content": null,
            "justify_items": null,
            "left": null,
            "margin": null,
            "max_height": null,
            "max_width": null,
            "min_height": null,
            "min_width": null,
            "object_fit": null,
            "object_position": null,
            "order": null,
            "overflow": null,
            "overflow_x": null,
            "overflow_y": null,
            "padding": null,
            "right": null,
            "top": null,
            "visibility": null,
            "width": null
          }
        },
        "eeef9fd4eb444c29b086fa63e73a7279": {
          "model_module": "@jupyter-widgets/controls",
          "model_name": "DescriptionStyleModel",
          "model_module_version": "1.5.0",
          "state": {
            "_model_module": "@jupyter-widgets/controls",
            "_model_module_version": "1.5.0",
            "_model_name": "DescriptionStyleModel",
            "_view_count": null,
            "_view_module": "@jupyter-widgets/base",
            "_view_module_version": "1.2.0",
            "_view_name": "StyleView",
            "description_width": ""
          }
        },
        "c2e2e03a1c1a4e64b831681b5643ddaa": {
          "model_module": "@jupyter-widgets/controls",
          "model_name": "HBoxModel",
          "model_module_version": "1.5.0",
          "state": {
            "_dom_classes": [],
            "_model_module": "@jupyter-widgets/controls",
            "_model_module_version": "1.5.0",
            "_model_name": "HBoxModel",
            "_view_count": null,
            "_view_module": "@jupyter-widgets/controls",
            "_view_module_version": "1.5.0",
            "_view_name": "HBoxView",
            "box_style": "",
            "children": [
              "IPY_MODEL_376433ec316440a7882e0f4708526e9b",
              "IPY_MODEL_b6d0c472e6c448f0b82c2ce99d071a11",
              "IPY_MODEL_97e8913bb0224f1b928349d155dbe334"
            ],
            "layout": "IPY_MODEL_d499fd066c9e4fc799007685aa569b37"
          }
        },
        "376433ec316440a7882e0f4708526e9b": {
          "model_module": "@jupyter-widgets/controls",
          "model_name": "HTMLModel",
          "model_module_version": "1.5.0",
          "state": {
            "_dom_classes": [],
            "_model_module": "@jupyter-widgets/controls",
            "_model_module_version": "1.5.0",
            "_model_name": "HTMLModel",
            "_view_count": null,
            "_view_module": "@jupyter-widgets/controls",
            "_view_module_version": "1.5.0",
            "_view_name": "HTMLView",
            "description": "",
            "description_tooltip": null,
            "layout": "IPY_MODEL_3e2842a3c3b3472a80e8aeff02e87479",
            "placeholder": "​",
            "style": "IPY_MODEL_c9cd200233e04017a52c4512985cb036",
            "value": "Downloading: 100%"
          }
        },
        "b6d0c472e6c448f0b82c2ce99d071a11": {
          "model_module": "@jupyter-widgets/controls",
          "model_name": "FloatProgressModel",
          "model_module_version": "1.5.0",
          "state": {
            "_dom_classes": [],
            "_model_module": "@jupyter-widgets/controls",
            "_model_module_version": "1.5.0",
            "_model_name": "FloatProgressModel",
            "_view_count": null,
            "_view_module": "@jupyter-widgets/controls",
            "_view_module_version": "1.5.0",
            "_view_name": "ProgressView",
            "bar_style": "success",
            "description": "",
            "description_tooltip": null,
            "layout": "IPY_MODEL_93a372c2afae4f8baab495a5fe7002a3",
            "max": 440473133,
            "min": 0,
            "orientation": "horizontal",
            "style": "IPY_MODEL_f9b5a7a248e645b69dd1b0794c719e4c",
            "value": 440473133
          }
        },
        "97e8913bb0224f1b928349d155dbe334": {
          "model_module": "@jupyter-widgets/controls",
          "model_name": "HTMLModel",
          "model_module_version": "1.5.0",
          "state": {
            "_dom_classes": [],
            "_model_module": "@jupyter-widgets/controls",
            "_model_module_version": "1.5.0",
            "_model_name": "HTMLModel",
            "_view_count": null,
            "_view_module": "@jupyter-widgets/controls",
            "_view_module_version": "1.5.0",
            "_view_name": "HTMLView",
            "description": "",
            "description_tooltip": null,
            "layout": "IPY_MODEL_476ba4f1d70e44aa9616690fe7ef6978",
            "placeholder": "​",
            "style": "IPY_MODEL_82e781cf7cbf4b0dbb26926d34e2ffbf",
            "value": " 440M/440M [00:14&lt;00:00, 43.2MB/s]"
          }
        },
        "d499fd066c9e4fc799007685aa569b37": {
          "model_module": "@jupyter-widgets/base",
          "model_name": "LayoutModel",
          "model_module_version": "1.2.0",
          "state": {
            "_model_module": "@jupyter-widgets/base",
            "_model_module_version": "1.2.0",
            "_model_name": "LayoutModel",
            "_view_count": null,
            "_view_module": "@jupyter-widgets/base",
            "_view_module_version": "1.2.0",
            "_view_name": "LayoutView",
            "align_content": null,
            "align_items": null,
            "align_self": null,
            "border": null,
            "bottom": null,
            "display": null,
            "flex": null,
            "flex_flow": null,
            "grid_area": null,
            "grid_auto_columns": null,
            "grid_auto_flow": null,
            "grid_auto_rows": null,
            "grid_column": null,
            "grid_gap": null,
            "grid_row": null,
            "grid_template_areas": null,
            "grid_template_columns": null,
            "grid_template_rows": null,
            "height": null,
            "justify_content": null,
            "justify_items": null,
            "left": null,
            "margin": null,
            "max_height": null,
            "max_width": null,
            "min_height": null,
            "min_width": null,
            "object_fit": null,
            "object_position": null,
            "order": null,
            "overflow": null,
            "overflow_x": null,
            "overflow_y": null,
            "padding": null,
            "right": null,
            "top": null,
            "visibility": null,
            "width": null
          }
        },
        "3e2842a3c3b3472a80e8aeff02e87479": {
          "model_module": "@jupyter-widgets/base",
          "model_name": "LayoutModel",
          "model_module_version": "1.2.0",
          "state": {
            "_model_module": "@jupyter-widgets/base",
            "_model_module_version": "1.2.0",
            "_model_name": "LayoutModel",
            "_view_count": null,
            "_view_module": "@jupyter-widgets/base",
            "_view_module_version": "1.2.0",
            "_view_name": "LayoutView",
            "align_content": null,
            "align_items": null,
            "align_self": null,
            "border": null,
            "bottom": null,
            "display": null,
            "flex": null,
            "flex_flow": null,
            "grid_area": null,
            "grid_auto_columns": null,
            "grid_auto_flow": null,
            "grid_auto_rows": null,
            "grid_column": null,
            "grid_gap": null,
            "grid_row": null,
            "grid_template_areas": null,
            "grid_template_columns": null,
            "grid_template_rows": null,
            "height": null,
            "justify_content": null,
            "justify_items": null,
            "left": null,
            "margin": null,
            "max_height": null,
            "max_width": null,
            "min_height": null,
            "min_width": null,
            "object_fit": null,
            "object_position": null,
            "order": null,
            "overflow": null,
            "overflow_x": null,
            "overflow_y": null,
            "padding": null,
            "right": null,
            "top": null,
            "visibility": null,
            "width": null
          }
        },
        "c9cd200233e04017a52c4512985cb036": {
          "model_module": "@jupyter-widgets/controls",
          "model_name": "DescriptionStyleModel",
          "model_module_version": "1.5.0",
          "state": {
            "_model_module": "@jupyter-widgets/controls",
            "_model_module_version": "1.5.0",
            "_model_name": "DescriptionStyleModel",
            "_view_count": null,
            "_view_module": "@jupyter-widgets/base",
            "_view_module_version": "1.2.0",
            "_view_name": "StyleView",
            "description_width": ""
          }
        },
        "93a372c2afae4f8baab495a5fe7002a3": {
          "model_module": "@jupyter-widgets/base",
          "model_name": "LayoutModel",
          "model_module_version": "1.2.0",
          "state": {
            "_model_module": "@jupyter-widgets/base",
            "_model_module_version": "1.2.0",
            "_model_name": "LayoutModel",
            "_view_count": null,
            "_view_module": "@jupyter-widgets/base",
            "_view_module_version": "1.2.0",
            "_view_name": "LayoutView",
            "align_content": null,
            "align_items": null,
            "align_self": null,
            "border": null,
            "bottom": null,
            "display": null,
            "flex": null,
            "flex_flow": null,
            "grid_area": null,
            "grid_auto_columns": null,
            "grid_auto_flow": null,
            "grid_auto_rows": null,
            "grid_column": null,
            "grid_gap": null,
            "grid_row": null,
            "grid_template_areas": null,
            "grid_template_columns": null,
            "grid_template_rows": null,
            "height": null,
            "justify_content": null,
            "justify_items": null,
            "left": null,
            "margin": null,
            "max_height": null,
            "max_width": null,
            "min_height": null,
            "min_width": null,
            "object_fit": null,
            "object_position": null,
            "order": null,
            "overflow": null,
            "overflow_x": null,
            "overflow_y": null,
            "padding": null,
            "right": null,
            "top": null,
            "visibility": null,
            "width": null
          }
        },
        "f9b5a7a248e645b69dd1b0794c719e4c": {
          "model_module": "@jupyter-widgets/controls",
          "model_name": "ProgressStyleModel",
          "model_module_version": "1.5.0",
          "state": {
            "_model_module": "@jupyter-widgets/controls",
            "_model_module_version": "1.5.0",
            "_model_name": "ProgressStyleModel",
            "_view_count": null,
            "_view_module": "@jupyter-widgets/base",
            "_view_module_version": "1.2.0",
            "_view_name": "StyleView",
            "bar_color": null,
            "description_width": ""
          }
        },
        "476ba4f1d70e44aa9616690fe7ef6978": {
          "model_module": "@jupyter-widgets/base",
          "model_name": "LayoutModel",
          "model_module_version": "1.2.0",
          "state": {
            "_model_module": "@jupyter-widgets/base",
            "_model_module_version": "1.2.0",
            "_model_name": "LayoutModel",
            "_view_count": null,
            "_view_module": "@jupyter-widgets/base",
            "_view_module_version": "1.2.0",
            "_view_name": "LayoutView",
            "align_content": null,
            "align_items": null,
            "align_self": null,
            "border": null,
            "bottom": null,
            "display": null,
            "flex": null,
            "flex_flow": null,
            "grid_area": null,
            "grid_auto_columns": null,
            "grid_auto_flow": null,
            "grid_auto_rows": null,
            "grid_column": null,
            "grid_gap": null,
            "grid_row": null,
            "grid_template_areas": null,
            "grid_template_columns": null,
            "grid_template_rows": null,
            "height": null,
            "justify_content": null,
            "justify_items": null,
            "left": null,
            "margin": null,
            "max_height": null,
            "max_width": null,
            "min_height": null,
            "min_width": null,
            "object_fit": null,
            "object_position": null,
            "order": null,
            "overflow": null,
            "overflow_x": null,
            "overflow_y": null,
            "padding": null,
            "right": null,
            "top": null,
            "visibility": null,
            "width": null
          }
        },
        "82e781cf7cbf4b0dbb26926d34e2ffbf": {
          "model_module": "@jupyter-widgets/controls",
          "model_name": "DescriptionStyleModel",
          "model_module_version": "1.5.0",
          "state": {
            "_model_module": "@jupyter-widgets/controls",
            "_model_module_version": "1.5.0",
            "_model_name": "DescriptionStyleModel",
            "_view_count": null,
            "_view_module": "@jupyter-widgets/base",
            "_view_module_version": "1.2.0",
            "_view_name": "StyleView",
            "description_width": ""
          }
        },
        "b9f78b6acad44da29be0a78e5f6c8f1d": {
          "model_module": "@jupyter-widgets/controls",
          "model_name": "HBoxModel",
          "model_module_version": "1.5.0",
          "state": {
            "_dom_classes": [],
            "_model_module": "@jupyter-widgets/controls",
            "_model_module_version": "1.5.0",
            "_model_name": "HBoxModel",
            "_view_count": null,
            "_view_module": "@jupyter-widgets/controls",
            "_view_module_version": "1.5.0",
            "_view_name": "HBoxView",
            "box_style": "",
            "children": [
              "IPY_MODEL_bd473c085b8b4f55abfaf4650e84dd1a",
              "IPY_MODEL_d8e98f5d2c644a61997db36067fdfcb2",
              "IPY_MODEL_89c8a61e8a124946805ef5c73975cf20"
            ],
            "layout": "IPY_MODEL_007d601d21374d12bf90fcbe06306011"
          }
        },
        "bd473c085b8b4f55abfaf4650e84dd1a": {
          "model_module": "@jupyter-widgets/controls",
          "model_name": "HTMLModel",
          "model_module_version": "1.5.0",
          "state": {
            "_dom_classes": [],
            "_model_module": "@jupyter-widgets/controls",
            "_model_module_version": "1.5.0",
            "_model_name": "HTMLModel",
            "_view_count": null,
            "_view_module": "@jupyter-widgets/controls",
            "_view_module_version": "1.5.0",
            "_view_name": "HTMLView",
            "description": "",
            "description_tooltip": null,
            "layout": "IPY_MODEL_7cb49d48d3e64e8faf87f6dc700fc558",
            "placeholder": "​",
            "style": "IPY_MODEL_d235c44422614c5f942998b921f6bb36",
            "value": "Downloading: 100%"
          }
        },
        "d8e98f5d2c644a61997db36067fdfcb2": {
          "model_module": "@jupyter-widgets/controls",
          "model_name": "FloatProgressModel",
          "model_module_version": "1.5.0",
          "state": {
            "_dom_classes": [],
            "_model_module": "@jupyter-widgets/controls",
            "_model_module_version": "1.5.0",
            "_model_name": "FloatProgressModel",
            "_view_count": null,
            "_view_module": "@jupyter-widgets/controls",
            "_view_module_version": "1.5.0",
            "_view_name": "ProgressView",
            "bar_style": "success",
            "description": "",
            "description_tooltip": null,
            "layout": "IPY_MODEL_23f8e680750b4308a2ffa7a5262c6645",
            "max": 231508,
            "min": 0,
            "orientation": "horizontal",
            "style": "IPY_MODEL_08b43f8a03d34699bbecf00f5a1053e2",
            "value": 231508
          }
        },
        "89c8a61e8a124946805ef5c73975cf20": {
          "model_module": "@jupyter-widgets/controls",
          "model_name": "HTMLModel",
          "model_module_version": "1.5.0",
          "state": {
            "_dom_classes": [],
            "_model_module": "@jupyter-widgets/controls",
            "_model_module_version": "1.5.0",
            "_model_name": "HTMLModel",
            "_view_count": null,
            "_view_module": "@jupyter-widgets/controls",
            "_view_module_version": "1.5.0",
            "_view_name": "HTMLView",
            "description": "",
            "description_tooltip": null,
            "layout": "IPY_MODEL_14f757bcd4e34913bc5b8a4c4d391db4",
            "placeholder": "​",
            "style": "IPY_MODEL_1972a38474614aaba56a34245d510f2d",
            "value": " 232k/232k [00:00&lt;00:00, 2.29MB/s]"
          }
        },
        "007d601d21374d12bf90fcbe06306011": {
          "model_module": "@jupyter-widgets/base",
          "model_name": "LayoutModel",
          "model_module_version": "1.2.0",
          "state": {
            "_model_module": "@jupyter-widgets/base",
            "_model_module_version": "1.2.0",
            "_model_name": "LayoutModel",
            "_view_count": null,
            "_view_module": "@jupyter-widgets/base",
            "_view_module_version": "1.2.0",
            "_view_name": "LayoutView",
            "align_content": null,
            "align_items": null,
            "align_self": null,
            "border": null,
            "bottom": null,
            "display": null,
            "flex": null,
            "flex_flow": null,
            "grid_area": null,
            "grid_auto_columns": null,
            "grid_auto_flow": null,
            "grid_auto_rows": null,
            "grid_column": null,
            "grid_gap": null,
            "grid_row": null,
            "grid_template_areas": null,
            "grid_template_columns": null,
            "grid_template_rows": null,
            "height": null,
            "justify_content": null,
            "justify_items": null,
            "left": null,
            "margin": null,
            "max_height": null,
            "max_width": null,
            "min_height": null,
            "min_width": null,
            "object_fit": null,
            "object_position": null,
            "order": null,
            "overflow": null,
            "overflow_x": null,
            "overflow_y": null,
            "padding": null,
            "right": null,
            "top": null,
            "visibility": null,
            "width": null
          }
        },
        "7cb49d48d3e64e8faf87f6dc700fc558": {
          "model_module": "@jupyter-widgets/base",
          "model_name": "LayoutModel",
          "model_module_version": "1.2.0",
          "state": {
            "_model_module": "@jupyter-widgets/base",
            "_model_module_version": "1.2.0",
            "_model_name": "LayoutModel",
            "_view_count": null,
            "_view_module": "@jupyter-widgets/base",
            "_view_module_version": "1.2.0",
            "_view_name": "LayoutView",
            "align_content": null,
            "align_items": null,
            "align_self": null,
            "border": null,
            "bottom": null,
            "display": null,
            "flex": null,
            "flex_flow": null,
            "grid_area": null,
            "grid_auto_columns": null,
            "grid_auto_flow": null,
            "grid_auto_rows": null,
            "grid_column": null,
            "grid_gap": null,
            "grid_row": null,
            "grid_template_areas": null,
            "grid_template_columns": null,
            "grid_template_rows": null,
            "height": null,
            "justify_content": null,
            "justify_items": null,
            "left": null,
            "margin": null,
            "max_height": null,
            "max_width": null,
            "min_height": null,
            "min_width": null,
            "object_fit": null,
            "object_position": null,
            "order": null,
            "overflow": null,
            "overflow_x": null,
            "overflow_y": null,
            "padding": null,
            "right": null,
            "top": null,
            "visibility": null,
            "width": null
          }
        },
        "d235c44422614c5f942998b921f6bb36": {
          "model_module": "@jupyter-widgets/controls",
          "model_name": "DescriptionStyleModel",
          "model_module_version": "1.5.0",
          "state": {
            "_model_module": "@jupyter-widgets/controls",
            "_model_module_version": "1.5.0",
            "_model_name": "DescriptionStyleModel",
            "_view_count": null,
            "_view_module": "@jupyter-widgets/base",
            "_view_module_version": "1.2.0",
            "_view_name": "StyleView",
            "description_width": ""
          }
        },
        "23f8e680750b4308a2ffa7a5262c6645": {
          "model_module": "@jupyter-widgets/base",
          "model_name": "LayoutModel",
          "model_module_version": "1.2.0",
          "state": {
            "_model_module": "@jupyter-widgets/base",
            "_model_module_version": "1.2.0",
            "_model_name": "LayoutModel",
            "_view_count": null,
            "_view_module": "@jupyter-widgets/base",
            "_view_module_version": "1.2.0",
            "_view_name": "LayoutView",
            "align_content": null,
            "align_items": null,
            "align_self": null,
            "border": null,
            "bottom": null,
            "display": null,
            "flex": null,
            "flex_flow": null,
            "grid_area": null,
            "grid_auto_columns": null,
            "grid_auto_flow": null,
            "grid_auto_rows": null,
            "grid_column": null,
            "grid_gap": null,
            "grid_row": null,
            "grid_template_areas": null,
            "grid_template_columns": null,
            "grid_template_rows": null,
            "height": null,
            "justify_content": null,
            "justify_items": null,
            "left": null,
            "margin": null,
            "max_height": null,
            "max_width": null,
            "min_height": null,
            "min_width": null,
            "object_fit": null,
            "object_position": null,
            "order": null,
            "overflow": null,
            "overflow_x": null,
            "overflow_y": null,
            "padding": null,
            "right": null,
            "top": null,
            "visibility": null,
            "width": null
          }
        },
        "08b43f8a03d34699bbecf00f5a1053e2": {
          "model_module": "@jupyter-widgets/controls",
          "model_name": "ProgressStyleModel",
          "model_module_version": "1.5.0",
          "state": {
            "_model_module": "@jupyter-widgets/controls",
            "_model_module_version": "1.5.0",
            "_model_name": "ProgressStyleModel",
            "_view_count": null,
            "_view_module": "@jupyter-widgets/base",
            "_view_module_version": "1.2.0",
            "_view_name": "StyleView",
            "bar_color": null,
            "description_width": ""
          }
        },
        "14f757bcd4e34913bc5b8a4c4d391db4": {
          "model_module": "@jupyter-widgets/base",
          "model_name": "LayoutModel",
          "model_module_version": "1.2.0",
          "state": {
            "_model_module": "@jupyter-widgets/base",
            "_model_module_version": "1.2.0",
            "_model_name": "LayoutModel",
            "_view_count": null,
            "_view_module": "@jupyter-widgets/base",
            "_view_module_version": "1.2.0",
            "_view_name": "LayoutView",
            "align_content": null,
            "align_items": null,
            "align_self": null,
            "border": null,
            "bottom": null,
            "display": null,
            "flex": null,
            "flex_flow": null,
            "grid_area": null,
            "grid_auto_columns": null,
            "grid_auto_flow": null,
            "grid_auto_rows": null,
            "grid_column": null,
            "grid_gap": null,
            "grid_row": null,
            "grid_template_areas": null,
            "grid_template_columns": null,
            "grid_template_rows": null,
            "height": null,
            "justify_content": null,
            "justify_items": null,
            "left": null,
            "margin": null,
            "max_height": null,
            "max_width": null,
            "min_height": null,
            "min_width": null,
            "object_fit": null,
            "object_position": null,
            "order": null,
            "overflow": null,
            "overflow_x": null,
            "overflow_y": null,
            "padding": null,
            "right": null,
            "top": null,
            "visibility": null,
            "width": null
          }
        },
        "1972a38474614aaba56a34245d510f2d": {
          "model_module": "@jupyter-widgets/controls",
          "model_name": "DescriptionStyleModel",
          "model_module_version": "1.5.0",
          "state": {
            "_model_module": "@jupyter-widgets/controls",
            "_model_module_version": "1.5.0",
            "_model_name": "DescriptionStyleModel",
            "_view_count": null,
            "_view_module": "@jupyter-widgets/base",
            "_view_module_version": "1.2.0",
            "_view_name": "StyleView",
            "description_width": ""
          }
        },
        "9d733eb123da4e92bb1359bc922e4736": {
          "model_module": "@jupyter-widgets/controls",
          "model_name": "HBoxModel",
          "model_module_version": "1.5.0",
          "state": {
            "_dom_classes": [],
            "_model_module": "@jupyter-widgets/controls",
            "_model_module_version": "1.5.0",
            "_model_name": "HBoxModel",
            "_view_count": null,
            "_view_module": "@jupyter-widgets/controls",
            "_view_module_version": "1.5.0",
            "_view_name": "HBoxView",
            "box_style": "",
            "children": [
              "IPY_MODEL_74990449df4d4f889333dfe9d5c68f54",
              "IPY_MODEL_7cad2501d71a4635939715093a388799",
              "IPY_MODEL_e665d3a534344f94828380f881abe25c"
            ],
            "layout": "IPY_MODEL_db81aeb1c89f4195b3653d2028f61fd1"
          }
        },
        "74990449df4d4f889333dfe9d5c68f54": {
          "model_module": "@jupyter-widgets/controls",
          "model_name": "HTMLModel",
          "model_module_version": "1.5.0",
          "state": {
            "_dom_classes": [],
            "_model_module": "@jupyter-widgets/controls",
            "_model_module_version": "1.5.0",
            "_model_name": "HTMLModel",
            "_view_count": null,
            "_view_module": "@jupyter-widgets/controls",
            "_view_module_version": "1.5.0",
            "_view_name": "HTMLView",
            "description": "",
            "description_tooltip": null,
            "layout": "IPY_MODEL_087be5928e564fb2852e784e1a66bd0b",
            "placeholder": "​",
            "style": "IPY_MODEL_d28ba1a85ac14406a879c5f4b2ebbc60",
            "value": "Downloading: 100%"
          }
        },
        "7cad2501d71a4635939715093a388799": {
          "model_module": "@jupyter-widgets/controls",
          "model_name": "FloatProgressModel",
          "model_module_version": "1.5.0",
          "state": {
            "_dom_classes": [],
            "_model_module": "@jupyter-widgets/controls",
            "_model_module_version": "1.5.0",
            "_model_name": "FloatProgressModel",
            "_view_count": null,
            "_view_module": "@jupyter-widgets/controls",
            "_view_module_version": "1.5.0",
            "_view_name": "ProgressView",
            "bar_style": "success",
            "description": "",
            "description_tooltip": null,
            "layout": "IPY_MODEL_627bca07088b4a9da12dd5e7cf37f9ad",
            "max": 2749,
            "min": 0,
            "orientation": "horizontal",
            "style": "IPY_MODEL_2b7455f09db9457db1281bdf0be9e531",
            "value": 2749
          }
        },
        "e665d3a534344f94828380f881abe25c": {
          "model_module": "@jupyter-widgets/controls",
          "model_name": "HTMLModel",
          "model_module_version": "1.5.0",
          "state": {
            "_dom_classes": [],
            "_model_module": "@jupyter-widgets/controls",
            "_model_module_version": "1.5.0",
            "_model_name": "HTMLModel",
            "_view_count": null,
            "_view_module": "@jupyter-widgets/controls",
            "_view_module_version": "1.5.0",
            "_view_name": "HTMLView",
            "description": "",
            "description_tooltip": null,
            "layout": "IPY_MODEL_4d26fdafcd4e4ba2ab667edee728fc27",
            "placeholder": "​",
            "style": "IPY_MODEL_5990cc3dd6b74838a807e773915c1b97",
            "value": " 2.75k/2.75k [00:00&lt;00:00, 43.7kB/s]"
          }
        },
        "db81aeb1c89f4195b3653d2028f61fd1": {
          "model_module": "@jupyter-widgets/base",
          "model_name": "LayoutModel",
          "model_module_version": "1.2.0",
          "state": {
            "_model_module": "@jupyter-widgets/base",
            "_model_module_version": "1.2.0",
            "_model_name": "LayoutModel",
            "_view_count": null,
            "_view_module": "@jupyter-widgets/base",
            "_view_module_version": "1.2.0",
            "_view_name": "LayoutView",
            "align_content": null,
            "align_items": null,
            "align_self": null,
            "border": null,
            "bottom": null,
            "display": null,
            "flex": null,
            "flex_flow": null,
            "grid_area": null,
            "grid_auto_columns": null,
            "grid_auto_flow": null,
            "grid_auto_rows": null,
            "grid_column": null,
            "grid_gap": null,
            "grid_row": null,
            "grid_template_areas": null,
            "grid_template_columns": null,
            "grid_template_rows": null,
            "height": null,
            "justify_content": null,
            "justify_items": null,
            "left": null,
            "margin": null,
            "max_height": null,
            "max_width": null,
            "min_height": null,
            "min_width": null,
            "object_fit": null,
            "object_position": null,
            "order": null,
            "overflow": null,
            "overflow_x": null,
            "overflow_y": null,
            "padding": null,
            "right": null,
            "top": null,
            "visibility": null,
            "width": null
          }
        },
        "087be5928e564fb2852e784e1a66bd0b": {
          "model_module": "@jupyter-widgets/base",
          "model_name": "LayoutModel",
          "model_module_version": "1.2.0",
          "state": {
            "_model_module": "@jupyter-widgets/base",
            "_model_module_version": "1.2.0",
            "_model_name": "LayoutModel",
            "_view_count": null,
            "_view_module": "@jupyter-widgets/base",
            "_view_module_version": "1.2.0",
            "_view_name": "LayoutView",
            "align_content": null,
            "align_items": null,
            "align_self": null,
            "border": null,
            "bottom": null,
            "display": null,
            "flex": null,
            "flex_flow": null,
            "grid_area": null,
            "grid_auto_columns": null,
            "grid_auto_flow": null,
            "grid_auto_rows": null,
            "grid_column": null,
            "grid_gap": null,
            "grid_row": null,
            "grid_template_areas": null,
            "grid_template_columns": null,
            "grid_template_rows": null,
            "height": null,
            "justify_content": null,
            "justify_items": null,
            "left": null,
            "margin": null,
            "max_height": null,
            "max_width": null,
            "min_height": null,
            "min_width": null,
            "object_fit": null,
            "object_position": null,
            "order": null,
            "overflow": null,
            "overflow_x": null,
            "overflow_y": null,
            "padding": null,
            "right": null,
            "top": null,
            "visibility": null,
            "width": null
          }
        },
        "d28ba1a85ac14406a879c5f4b2ebbc60": {
          "model_module": "@jupyter-widgets/controls",
          "model_name": "DescriptionStyleModel",
          "model_module_version": "1.5.0",
          "state": {
            "_model_module": "@jupyter-widgets/controls",
            "_model_module_version": "1.5.0",
            "_model_name": "DescriptionStyleModel",
            "_view_count": null,
            "_view_module": "@jupyter-widgets/base",
            "_view_module_version": "1.2.0",
            "_view_name": "StyleView",
            "description_width": ""
          }
        },
        "627bca07088b4a9da12dd5e7cf37f9ad": {
          "model_module": "@jupyter-widgets/base",
          "model_name": "LayoutModel",
          "model_module_version": "1.2.0",
          "state": {
            "_model_module": "@jupyter-widgets/base",
            "_model_module_version": "1.2.0",
            "_model_name": "LayoutModel",
            "_view_count": null,
            "_view_module": "@jupyter-widgets/base",
            "_view_module_version": "1.2.0",
            "_view_name": "LayoutView",
            "align_content": null,
            "align_items": null,
            "align_self": null,
            "border": null,
            "bottom": null,
            "display": null,
            "flex": null,
            "flex_flow": null,
            "grid_area": null,
            "grid_auto_columns": null,
            "grid_auto_flow": null,
            "grid_auto_rows": null,
            "grid_column": null,
            "grid_gap": null,
            "grid_row": null,
            "grid_template_areas": null,
            "grid_template_columns": null,
            "grid_template_rows": null,
            "height": null,
            "justify_content": null,
            "justify_items": null,
            "left": null,
            "margin": null,
            "max_height": null,
            "max_width": null,
            "min_height": null,
            "min_width": null,
            "object_fit": null,
            "object_position": null,
            "order": null,
            "overflow": null,
            "overflow_x": null,
            "overflow_y": null,
            "padding": null,
            "right": null,
            "top": null,
            "visibility": null,
            "width": null
          }
        },
        "2b7455f09db9457db1281bdf0be9e531": {
          "model_module": "@jupyter-widgets/controls",
          "model_name": "ProgressStyleModel",
          "model_module_version": "1.5.0",
          "state": {
            "_model_module": "@jupyter-widgets/controls",
            "_model_module_version": "1.5.0",
            "_model_name": "ProgressStyleModel",
            "_view_count": null,
            "_view_module": "@jupyter-widgets/base",
            "_view_module_version": "1.2.0",
            "_view_name": "StyleView",
            "bar_color": null,
            "description_width": ""
          }
        },
        "4d26fdafcd4e4ba2ab667edee728fc27": {
          "model_module": "@jupyter-widgets/base",
          "model_name": "LayoutModel",
          "model_module_version": "1.2.0",
          "state": {
            "_model_module": "@jupyter-widgets/base",
            "_model_module_version": "1.2.0",
            "_model_name": "LayoutModel",
            "_view_count": null,
            "_view_module": "@jupyter-widgets/base",
            "_view_module_version": "1.2.0",
            "_view_name": "LayoutView",
            "align_content": null,
            "align_items": null,
            "align_self": null,
            "border": null,
            "bottom": null,
            "display": null,
            "flex": null,
            "flex_flow": null,
            "grid_area": null,
            "grid_auto_columns": null,
            "grid_auto_flow": null,
            "grid_auto_rows": null,
            "grid_column": null,
            "grid_gap": null,
            "grid_row": null,
            "grid_template_areas": null,
            "grid_template_columns": null,
            "grid_template_rows": null,
            "height": null,
            "justify_content": null,
            "justify_items": null,
            "left": null,
            "margin": null,
            "max_height": null,
            "max_width": null,
            "min_height": null,
            "min_width": null,
            "object_fit": null,
            "object_position": null,
            "order": null,
            "overflow": null,
            "overflow_x": null,
            "overflow_y": null,
            "padding": null,
            "right": null,
            "top": null,
            "visibility": null,
            "width": null
          }
        },
        "5990cc3dd6b74838a807e773915c1b97": {
          "model_module": "@jupyter-widgets/controls",
          "model_name": "DescriptionStyleModel",
          "model_module_version": "1.5.0",
          "state": {
            "_model_module": "@jupyter-widgets/controls",
            "_model_module_version": "1.5.0",
            "_model_name": "DescriptionStyleModel",
            "_view_count": null,
            "_view_module": "@jupyter-widgets/base",
            "_view_module_version": "1.2.0",
            "_view_name": "StyleView",
            "description_width": ""
          }
        },
        "541a90142dbb4e2fa47dc96a307835da": {
          "model_module": "@jupyter-widgets/controls",
          "model_name": "HBoxModel",
          "model_module_version": "1.5.0",
          "state": {
            "_dom_classes": [],
            "_model_module": "@jupyter-widgets/controls",
            "_model_module_version": "1.5.0",
            "_model_name": "HBoxModel",
            "_view_count": null,
            "_view_module": "@jupyter-widgets/controls",
            "_view_module_version": "1.5.0",
            "_view_name": "HBoxView",
            "box_style": "",
            "children": [
              "IPY_MODEL_846aa2c2c644456d889f28ab316f2a16",
              "IPY_MODEL_583c65108013491487762c30b75252a7",
              "IPY_MODEL_af2933394e94432a93bfee4c849d6e22"
            ],
            "layout": "IPY_MODEL_3859d84c5a09414fa4a4ac8e828257dc"
          }
        },
        "846aa2c2c644456d889f28ab316f2a16": {
          "model_module": "@jupyter-widgets/controls",
          "model_name": "HTMLModel",
          "model_module_version": "1.5.0",
          "state": {
            "_dom_classes": [],
            "_model_module": "@jupyter-widgets/controls",
            "_model_module_version": "1.5.0",
            "_model_name": "HTMLModel",
            "_view_count": null,
            "_view_module": "@jupyter-widgets/controls",
            "_view_module_version": "1.5.0",
            "_view_name": "HTMLView",
            "description": "",
            "description_tooltip": null,
            "layout": "IPY_MODEL_2a0b944fbd284536a1af65b88fba8e30",
            "placeholder": "​",
            "style": "IPY_MODEL_a59d1a8261dc4fd48cd6f2704226663e",
            "value": ""
          }
        },
        "583c65108013491487762c30b75252a7": {
          "model_module": "@jupyter-widgets/controls",
          "model_name": "FloatProgressModel",
          "model_module_version": "1.5.0",
          "state": {
            "_dom_classes": [],
            "_model_module": "@jupyter-widgets/controls",
            "_model_module_version": "1.5.0",
            "_model_name": "FloatProgressModel",
            "_view_count": null,
            "_view_module": "@jupyter-widgets/controls",
            "_view_module_version": "1.5.0",
            "_view_name": "ProgressView",
            "bar_style": "info",
            "description": "",
            "description_tooltip": null,
            "layout": "IPY_MODEL_ad3531dd76c74115be291ba222ff5f8a",
            "max": 1,
            "min": 0,
            "orientation": "horizontal",
            "style": "IPY_MODEL_5f8866da7cf5425191af350362da583c",
            "value": 1
          }
        },
        "af2933394e94432a93bfee4c849d6e22": {
          "model_module": "@jupyter-widgets/controls",
          "model_name": "HTMLModel",
          "model_module_version": "1.5.0",
          "state": {
            "_dom_classes": [],
            "_model_module": "@jupyter-widgets/controls",
            "_model_module_version": "1.5.0",
            "_model_name": "HTMLModel",
            "_view_count": null,
            "_view_module": "@jupyter-widgets/controls",
            "_view_module_version": "1.5.0",
            "_view_name": "HTMLView",
            "description": "",
            "description_tooltip": null,
            "layout": "IPY_MODEL_0b672c81f0ef4deabf946429beee314e",
            "placeholder": "​",
            "style": "IPY_MODEL_5bfaec59b3004a25a6d82fecd5107f0c",
            "value": " 1/? [00:00&lt;00:00,  2.66 tables/s]"
          }
        },
        "3859d84c5a09414fa4a4ac8e828257dc": {
          "model_module": "@jupyter-widgets/base",
          "model_name": "LayoutModel",
          "model_module_version": "1.2.0",
          "state": {
            "_model_module": "@jupyter-widgets/base",
            "_model_module_version": "1.2.0",
            "_model_name": "LayoutModel",
            "_view_count": null,
            "_view_module": "@jupyter-widgets/base",
            "_view_module_version": "1.2.0",
            "_view_name": "LayoutView",
            "align_content": null,
            "align_items": null,
            "align_self": null,
            "border": null,
            "bottom": null,
            "display": null,
            "flex": null,
            "flex_flow": null,
            "grid_area": null,
            "grid_auto_columns": null,
            "grid_auto_flow": null,
            "grid_auto_rows": null,
            "grid_column": null,
            "grid_gap": null,
            "grid_row": null,
            "grid_template_areas": null,
            "grid_template_columns": null,
            "grid_template_rows": null,
            "height": null,
            "justify_content": null,
            "justify_items": null,
            "left": null,
            "margin": null,
            "max_height": null,
            "max_width": null,
            "min_height": null,
            "min_width": null,
            "object_fit": null,
            "object_position": null,
            "order": null,
            "overflow": null,
            "overflow_x": null,
            "overflow_y": null,
            "padding": null,
            "right": null,
            "top": null,
            "visibility": null,
            "width": null
          }
        },
        "2a0b944fbd284536a1af65b88fba8e30": {
          "model_module": "@jupyter-widgets/base",
          "model_name": "LayoutModel",
          "model_module_version": "1.2.0",
          "state": {
            "_model_module": "@jupyter-widgets/base",
            "_model_module_version": "1.2.0",
            "_model_name": "LayoutModel",
            "_view_count": null,
            "_view_module": "@jupyter-widgets/base",
            "_view_module_version": "1.2.0",
            "_view_name": "LayoutView",
            "align_content": null,
            "align_items": null,
            "align_self": null,
            "border": null,
            "bottom": null,
            "display": null,
            "flex": null,
            "flex_flow": null,
            "grid_area": null,
            "grid_auto_columns": null,
            "grid_auto_flow": null,
            "grid_auto_rows": null,
            "grid_column": null,
            "grid_gap": null,
            "grid_row": null,
            "grid_template_areas": null,
            "grid_template_columns": null,
            "grid_template_rows": null,
            "height": null,
            "justify_content": null,
            "justify_items": null,
            "left": null,
            "margin": null,
            "max_height": null,
            "max_width": null,
            "min_height": null,
            "min_width": null,
            "object_fit": null,
            "object_position": null,
            "order": null,
            "overflow": null,
            "overflow_x": null,
            "overflow_y": null,
            "padding": null,
            "right": null,
            "top": null,
            "visibility": null,
            "width": null
          }
        },
        "a59d1a8261dc4fd48cd6f2704226663e": {
          "model_module": "@jupyter-widgets/controls",
          "model_name": "DescriptionStyleModel",
          "model_module_version": "1.5.0",
          "state": {
            "_model_module": "@jupyter-widgets/controls",
            "_model_module_version": "1.5.0",
            "_model_name": "DescriptionStyleModel",
            "_view_count": null,
            "_view_module": "@jupyter-widgets/base",
            "_view_module_version": "1.2.0",
            "_view_name": "StyleView",
            "description_width": ""
          }
        },
        "ad3531dd76c74115be291ba222ff5f8a": {
          "model_module": "@jupyter-widgets/base",
          "model_name": "LayoutModel",
          "model_module_version": "1.2.0",
          "state": {
            "_model_module": "@jupyter-widgets/base",
            "_model_module_version": "1.2.0",
            "_model_name": "LayoutModel",
            "_view_count": null,
            "_view_module": "@jupyter-widgets/base",
            "_view_module_version": "1.2.0",
            "_view_name": "LayoutView",
            "align_content": null,
            "align_items": null,
            "align_self": null,
            "border": null,
            "bottom": null,
            "display": null,
            "flex": null,
            "flex_flow": null,
            "grid_area": null,
            "grid_auto_columns": null,
            "grid_auto_flow": null,
            "grid_auto_rows": null,
            "grid_column": null,
            "grid_gap": null,
            "grid_row": null,
            "grid_template_areas": null,
            "grid_template_columns": null,
            "grid_template_rows": null,
            "height": null,
            "justify_content": null,
            "justify_items": null,
            "left": null,
            "margin": null,
            "max_height": null,
            "max_width": null,
            "min_height": null,
            "min_width": null,
            "object_fit": null,
            "object_position": null,
            "order": null,
            "overflow": null,
            "overflow_x": null,
            "overflow_y": null,
            "padding": null,
            "right": null,
            "top": null,
            "visibility": null,
            "width": "20px"
          }
        },
        "5f8866da7cf5425191af350362da583c": {
          "model_module": "@jupyter-widgets/controls",
          "model_name": "ProgressStyleModel",
          "model_module_version": "1.5.0",
          "state": {
            "_model_module": "@jupyter-widgets/controls",
            "_model_module_version": "1.5.0",
            "_model_name": "ProgressStyleModel",
            "_view_count": null,
            "_view_module": "@jupyter-widgets/base",
            "_view_module_version": "1.2.0",
            "_view_name": "StyleView",
            "bar_color": null,
            "description_width": ""
          }
        },
        "0b672c81f0ef4deabf946429beee314e": {
          "model_module": "@jupyter-widgets/base",
          "model_name": "LayoutModel",
          "model_module_version": "1.2.0",
          "state": {
            "_model_module": "@jupyter-widgets/base",
            "_model_module_version": "1.2.0",
            "_model_name": "LayoutModel",
            "_view_count": null,
            "_view_module": "@jupyter-widgets/base",
            "_view_module_version": "1.2.0",
            "_view_name": "LayoutView",
            "align_content": null,
            "align_items": null,
            "align_self": null,
            "border": null,
            "bottom": null,
            "display": null,
            "flex": null,
            "flex_flow": null,
            "grid_area": null,
            "grid_auto_columns": null,
            "grid_auto_flow": null,
            "grid_auto_rows": null,
            "grid_column": null,
            "grid_gap": null,
            "grid_row": null,
            "grid_template_areas": null,
            "grid_template_columns": null,
            "grid_template_rows": null,
            "height": null,
            "justify_content": null,
            "justify_items": null,
            "left": null,
            "margin": null,
            "max_height": null,
            "max_width": null,
            "min_height": null,
            "min_width": null,
            "object_fit": null,
            "object_position": null,
            "order": null,
            "overflow": null,
            "overflow_x": null,
            "overflow_y": null,
            "padding": null,
            "right": null,
            "top": null,
            "visibility": null,
            "width": null
          }
        },
        "5bfaec59b3004a25a6d82fecd5107f0c": {
          "model_module": "@jupyter-widgets/controls",
          "model_name": "DescriptionStyleModel",
          "model_module_version": "1.5.0",
          "state": {
            "_model_module": "@jupyter-widgets/controls",
            "_model_module_version": "1.5.0",
            "_model_name": "DescriptionStyleModel",
            "_view_count": null,
            "_view_module": "@jupyter-widgets/base",
            "_view_module_version": "1.2.0",
            "_view_name": "StyleView",
            "description_width": ""
          }
        },
        "e76222de035341958153d384a513e292": {
          "model_module": "@jupyter-widgets/controls",
          "model_name": "HBoxModel",
          "model_module_version": "1.5.0",
          "state": {
            "_dom_classes": [],
            "_model_module": "@jupyter-widgets/controls",
            "_model_module_version": "1.5.0",
            "_model_name": "HBoxModel",
            "_view_count": null,
            "_view_module": "@jupyter-widgets/controls",
            "_view_module_version": "1.5.0",
            "_view_name": "HBoxView",
            "box_style": "",
            "children": [
              "IPY_MODEL_299da38b03ce45b9a4e7ace6932404ac",
              "IPY_MODEL_ebe30e26817d4c7fb40fc2fb76531e0a",
              "IPY_MODEL_b0e2a9841a9545ec95a68056e37a1c3a"
            ],
            "layout": "IPY_MODEL_66e13810b9c94f298f2c96c8bd88f232"
          }
        },
        "299da38b03ce45b9a4e7ace6932404ac": {
          "model_module": "@jupyter-widgets/controls",
          "model_name": "HTMLModel",
          "model_module_version": "1.5.0",
          "state": {
            "_dom_classes": [],
            "_model_module": "@jupyter-widgets/controls",
            "_model_module_version": "1.5.0",
            "_model_name": "HTMLModel",
            "_view_count": null,
            "_view_module": "@jupyter-widgets/controls",
            "_view_module_version": "1.5.0",
            "_view_name": "HTMLView",
            "description": "",
            "description_tooltip": null,
            "layout": "IPY_MODEL_0378233c88bb433692be3568f78144c4",
            "placeholder": "​",
            "style": "IPY_MODEL_325993c3bffe47dcb46cafa21c73d044",
            "value": "100%"
          }
        },
        "ebe30e26817d4c7fb40fc2fb76531e0a": {
          "model_module": "@jupyter-widgets/controls",
          "model_name": "FloatProgressModel",
          "model_module_version": "1.5.0",
          "state": {
            "_dom_classes": [],
            "_model_module": "@jupyter-widgets/controls",
            "_model_module_version": "1.5.0",
            "_model_name": "FloatProgressModel",
            "_view_count": null,
            "_view_module": "@jupyter-widgets/controls",
            "_view_module_version": "1.5.0",
            "_view_name": "ProgressView",
            "bar_style": "success",
            "description": "",
            "description_tooltip": null,
            "layout": "IPY_MODEL_f8a0cbc104134816b1f537e2e7074537",
            "max": 1,
            "min": 0,
            "orientation": "horizontal",
            "style": "IPY_MODEL_63319c9bd4164b2c83f3976c86141690",
            "value": 1
          }
        },
        "b0e2a9841a9545ec95a68056e37a1c3a": {
          "model_module": "@jupyter-widgets/controls",
          "model_name": "HTMLModel",
          "model_module_version": "1.5.0",
          "state": {
            "_dom_classes": [],
            "_model_module": "@jupyter-widgets/controls",
            "_model_module_version": "1.5.0",
            "_model_name": "HTMLModel",
            "_view_count": null,
            "_view_module": "@jupyter-widgets/controls",
            "_view_module_version": "1.5.0",
            "_view_name": "HTMLView",
            "description": "",
            "description_tooltip": null,
            "layout": "IPY_MODEL_81b643a363c841069711afdaf656ccd8",
            "placeholder": "​",
            "style": "IPY_MODEL_5b670ced46a1482e85064a863da78548",
            "value": " 1/1 [00:00&lt;00:00, 12.64it/s]"
          }
        },
        "66e13810b9c94f298f2c96c8bd88f232": {
          "model_module": "@jupyter-widgets/base",
          "model_name": "LayoutModel",
          "model_module_version": "1.2.0",
          "state": {
            "_model_module": "@jupyter-widgets/base",
            "_model_module_version": "1.2.0",
            "_model_name": "LayoutModel",
            "_view_count": null,
            "_view_module": "@jupyter-widgets/base",
            "_view_module_version": "1.2.0",
            "_view_name": "LayoutView",
            "align_content": null,
            "align_items": null,
            "align_self": null,
            "border": null,
            "bottom": null,
            "display": null,
            "flex": null,
            "flex_flow": null,
            "grid_area": null,
            "grid_auto_columns": null,
            "grid_auto_flow": null,
            "grid_auto_rows": null,
            "grid_column": null,
            "grid_gap": null,
            "grid_row": null,
            "grid_template_areas": null,
            "grid_template_columns": null,
            "grid_template_rows": null,
            "height": null,
            "justify_content": null,
            "justify_items": null,
            "left": null,
            "margin": null,
            "max_height": null,
            "max_width": null,
            "min_height": null,
            "min_width": null,
            "object_fit": null,
            "object_position": null,
            "order": null,
            "overflow": null,
            "overflow_x": null,
            "overflow_y": null,
            "padding": null,
            "right": null,
            "top": null,
            "visibility": null,
            "width": null
          }
        },
        "0378233c88bb433692be3568f78144c4": {
          "model_module": "@jupyter-widgets/base",
          "model_name": "LayoutModel",
          "model_module_version": "1.2.0",
          "state": {
            "_model_module": "@jupyter-widgets/base",
            "_model_module_version": "1.2.0",
            "_model_name": "LayoutModel",
            "_view_count": null,
            "_view_module": "@jupyter-widgets/base",
            "_view_module_version": "1.2.0",
            "_view_name": "LayoutView",
            "align_content": null,
            "align_items": null,
            "align_self": null,
            "border": null,
            "bottom": null,
            "display": null,
            "flex": null,
            "flex_flow": null,
            "grid_area": null,
            "grid_auto_columns": null,
            "grid_auto_flow": null,
            "grid_auto_rows": null,
            "grid_column": null,
            "grid_gap": null,
            "grid_row": null,
            "grid_template_areas": null,
            "grid_template_columns": null,
            "grid_template_rows": null,
            "height": null,
            "justify_content": null,
            "justify_items": null,
            "left": null,
            "margin": null,
            "max_height": null,
            "max_width": null,
            "min_height": null,
            "min_width": null,
            "object_fit": null,
            "object_position": null,
            "order": null,
            "overflow": null,
            "overflow_x": null,
            "overflow_y": null,
            "padding": null,
            "right": null,
            "top": null,
            "visibility": null,
            "width": null
          }
        },
        "325993c3bffe47dcb46cafa21c73d044": {
          "model_module": "@jupyter-widgets/controls",
          "model_name": "DescriptionStyleModel",
          "model_module_version": "1.5.0",
          "state": {
            "_model_module": "@jupyter-widgets/controls",
            "_model_module_version": "1.5.0",
            "_model_name": "DescriptionStyleModel",
            "_view_count": null,
            "_view_module": "@jupyter-widgets/base",
            "_view_module_version": "1.2.0",
            "_view_name": "StyleView",
            "description_width": ""
          }
        },
        "f8a0cbc104134816b1f537e2e7074537": {
          "model_module": "@jupyter-widgets/base",
          "model_name": "LayoutModel",
          "model_module_version": "1.2.0",
          "state": {
            "_model_module": "@jupyter-widgets/base",
            "_model_module_version": "1.2.0",
            "_model_name": "LayoutModel",
            "_view_count": null,
            "_view_module": "@jupyter-widgets/base",
            "_view_module_version": "1.2.0",
            "_view_name": "LayoutView",
            "align_content": null,
            "align_items": null,
            "align_self": null,
            "border": null,
            "bottom": null,
            "display": null,
            "flex": null,
            "flex_flow": null,
            "grid_area": null,
            "grid_auto_columns": null,
            "grid_auto_flow": null,
            "grid_auto_rows": null,
            "grid_column": null,
            "grid_gap": null,
            "grid_row": null,
            "grid_template_areas": null,
            "grid_template_columns": null,
            "grid_template_rows": null,
            "height": null,
            "justify_content": null,
            "justify_items": null,
            "left": null,
            "margin": null,
            "max_height": null,
            "max_width": null,
            "min_height": null,
            "min_width": null,
            "object_fit": null,
            "object_position": null,
            "order": null,
            "overflow": null,
            "overflow_x": null,
            "overflow_y": null,
            "padding": null,
            "right": null,
            "top": null,
            "visibility": null,
            "width": null
          }
        },
        "63319c9bd4164b2c83f3976c86141690": {
          "model_module": "@jupyter-widgets/controls",
          "model_name": "ProgressStyleModel",
          "model_module_version": "1.5.0",
          "state": {
            "_model_module": "@jupyter-widgets/controls",
            "_model_module_version": "1.5.0",
            "_model_name": "ProgressStyleModel",
            "_view_count": null,
            "_view_module": "@jupyter-widgets/base",
            "_view_module_version": "1.2.0",
            "_view_name": "StyleView",
            "bar_color": null,
            "description_width": ""
          }
        },
        "81b643a363c841069711afdaf656ccd8": {
          "model_module": "@jupyter-widgets/base",
          "model_name": "LayoutModel",
          "model_module_version": "1.2.0",
          "state": {
            "_model_module": "@jupyter-widgets/base",
            "_model_module_version": "1.2.0",
            "_model_name": "LayoutModel",
            "_view_count": null,
            "_view_module": "@jupyter-widgets/base",
            "_view_module_version": "1.2.0",
            "_view_name": "LayoutView",
            "align_content": null,
            "align_items": null,
            "align_self": null,
            "border": null,
            "bottom": null,
            "display": null,
            "flex": null,
            "flex_flow": null,
            "grid_area": null,
            "grid_auto_columns": null,
            "grid_auto_flow": null,
            "grid_auto_rows": null,
            "grid_column": null,
            "grid_gap": null,
            "grid_row": null,
            "grid_template_areas": null,
            "grid_template_columns": null,
            "grid_template_rows": null,
            "height": null,
            "justify_content": null,
            "justify_items": null,
            "left": null,
            "margin": null,
            "max_height": null,
            "max_width": null,
            "min_height": null,
            "min_width": null,
            "object_fit": null,
            "object_position": null,
            "order": null,
            "overflow": null,
            "overflow_x": null,
            "overflow_y": null,
            "padding": null,
            "right": null,
            "top": null,
            "visibility": null,
            "width": null
          }
        },
        "5b670ced46a1482e85064a863da78548": {
          "model_module": "@jupyter-widgets/controls",
          "model_name": "DescriptionStyleModel",
          "model_module_version": "1.5.0",
          "state": {
            "_model_module": "@jupyter-widgets/controls",
            "_model_module_version": "1.5.0",
            "_model_name": "DescriptionStyleModel",
            "_view_count": null,
            "_view_module": "@jupyter-widgets/base",
            "_view_module_version": "1.2.0",
            "_view_name": "StyleView",
            "description_width": ""
          }
        },
        "fdcd2db37c854efa8f97348ed826d13b": {
          "model_module": "@jupyter-widgets/controls",
          "model_name": "HBoxModel",
          "model_module_version": "1.5.0",
          "state": {
            "_dom_classes": [],
            "_model_module": "@jupyter-widgets/controls",
            "_model_module_version": "1.5.0",
            "_model_name": "HBoxModel",
            "_view_count": null,
            "_view_module": "@jupyter-widgets/controls",
            "_view_module_version": "1.5.0",
            "_view_name": "HBoxView",
            "box_style": "",
            "children": [
              "IPY_MODEL_eb3455fef9d940a28c8b6eee2a8fca3d",
              "IPY_MODEL_bc0bbbe59066477ca629e1a68ef2bb09",
              "IPY_MODEL_96afa2d92e5d4e89b912a27e5fdb28a3"
            ],
            "layout": "IPY_MODEL_fc1ff43d6011499ebc99de3c651533e6"
          }
        },
        "eb3455fef9d940a28c8b6eee2a8fca3d": {
          "model_module": "@jupyter-widgets/controls",
          "model_name": "HTMLModel",
          "model_module_version": "1.5.0",
          "state": {
            "_dom_classes": [],
            "_model_module": "@jupyter-widgets/controls",
            "_model_module_version": "1.5.0",
            "_model_name": "HTMLModel",
            "_view_count": null,
            "_view_module": "@jupyter-widgets/controls",
            "_view_module_version": "1.5.0",
            "_view_name": "HTMLView",
            "description": "",
            "description_tooltip": null,
            "layout": "IPY_MODEL_7fe57bea2580442fbc539725a33cd2d3",
            "placeholder": "​",
            "style": "IPY_MODEL_fc3e77127377459bb12b2ef2172f71a8",
            "value": "100%"
          }
        },
        "bc0bbbe59066477ca629e1a68ef2bb09": {
          "model_module": "@jupyter-widgets/controls",
          "model_name": "FloatProgressModel",
          "model_module_version": "1.5.0",
          "state": {
            "_dom_classes": [],
            "_model_module": "@jupyter-widgets/controls",
            "_model_module_version": "1.5.0",
            "_model_name": "FloatProgressModel",
            "_view_count": null,
            "_view_module": "@jupyter-widgets/controls",
            "_view_module_version": "1.5.0",
            "_view_name": "ProgressView",
            "bar_style": "success",
            "description": "",
            "description_tooltip": null,
            "layout": "IPY_MODEL_d04d1de8daf64d12bb5aea77267c4189",
            "max": 1,
            "min": 0,
            "orientation": "horizontal",
            "style": "IPY_MODEL_de8694a4de8a4b0496a7320f42823cb7",
            "value": 1
          }
        },
        "96afa2d92e5d4e89b912a27e5fdb28a3": {
          "model_module": "@jupyter-widgets/controls",
          "model_name": "HTMLModel",
          "model_module_version": "1.5.0",
          "state": {
            "_dom_classes": [],
            "_model_module": "@jupyter-widgets/controls",
            "_model_module_version": "1.5.0",
            "_model_name": "HTMLModel",
            "_view_count": null,
            "_view_module": "@jupyter-widgets/controls",
            "_view_module_version": "1.5.0",
            "_view_name": "HTMLView",
            "description": "",
            "description_tooltip": null,
            "layout": "IPY_MODEL_790beba7fb9146babfad11376be505d5",
            "placeholder": "​",
            "style": "IPY_MODEL_b1e14a26cafc44e6ad36514ef58d25d4",
            "value": " 1/1 [00:00&lt;00:00, 17.41it/s]"
          }
        },
        "fc1ff43d6011499ebc99de3c651533e6": {
          "model_module": "@jupyter-widgets/base",
          "model_name": "LayoutModel",
          "model_module_version": "1.2.0",
          "state": {
            "_model_module": "@jupyter-widgets/base",
            "_model_module_version": "1.2.0",
            "_model_name": "LayoutModel",
            "_view_count": null,
            "_view_module": "@jupyter-widgets/base",
            "_view_module_version": "1.2.0",
            "_view_name": "LayoutView",
            "align_content": null,
            "align_items": null,
            "align_self": null,
            "border": null,
            "bottom": null,
            "display": null,
            "flex": null,
            "flex_flow": null,
            "grid_area": null,
            "grid_auto_columns": null,
            "grid_auto_flow": null,
            "grid_auto_rows": null,
            "grid_column": null,
            "grid_gap": null,
            "grid_row": null,
            "grid_template_areas": null,
            "grid_template_columns": null,
            "grid_template_rows": null,
            "height": null,
            "justify_content": null,
            "justify_items": null,
            "left": null,
            "margin": null,
            "max_height": null,
            "max_width": null,
            "min_height": null,
            "min_width": null,
            "object_fit": null,
            "object_position": null,
            "order": null,
            "overflow": null,
            "overflow_x": null,
            "overflow_y": null,
            "padding": null,
            "right": null,
            "top": null,
            "visibility": null,
            "width": null
          }
        },
        "7fe57bea2580442fbc539725a33cd2d3": {
          "model_module": "@jupyter-widgets/base",
          "model_name": "LayoutModel",
          "model_module_version": "1.2.0",
          "state": {
            "_model_module": "@jupyter-widgets/base",
            "_model_module_version": "1.2.0",
            "_model_name": "LayoutModel",
            "_view_count": null,
            "_view_module": "@jupyter-widgets/base",
            "_view_module_version": "1.2.0",
            "_view_name": "LayoutView",
            "align_content": null,
            "align_items": null,
            "align_self": null,
            "border": null,
            "bottom": null,
            "display": null,
            "flex": null,
            "flex_flow": null,
            "grid_area": null,
            "grid_auto_columns": null,
            "grid_auto_flow": null,
            "grid_auto_rows": null,
            "grid_column": null,
            "grid_gap": null,
            "grid_row": null,
            "grid_template_areas": null,
            "grid_template_columns": null,
            "grid_template_rows": null,
            "height": null,
            "justify_content": null,
            "justify_items": null,
            "left": null,
            "margin": null,
            "max_height": null,
            "max_width": null,
            "min_height": null,
            "min_width": null,
            "object_fit": null,
            "object_position": null,
            "order": null,
            "overflow": null,
            "overflow_x": null,
            "overflow_y": null,
            "padding": null,
            "right": null,
            "top": null,
            "visibility": null,
            "width": null
          }
        },
        "fc3e77127377459bb12b2ef2172f71a8": {
          "model_module": "@jupyter-widgets/controls",
          "model_name": "DescriptionStyleModel",
          "model_module_version": "1.5.0",
          "state": {
            "_model_module": "@jupyter-widgets/controls",
            "_model_module_version": "1.5.0",
            "_model_name": "DescriptionStyleModel",
            "_view_count": null,
            "_view_module": "@jupyter-widgets/base",
            "_view_module_version": "1.2.0",
            "_view_name": "StyleView",
            "description_width": ""
          }
        },
        "d04d1de8daf64d12bb5aea77267c4189": {
          "model_module": "@jupyter-widgets/base",
          "model_name": "LayoutModel",
          "model_module_version": "1.2.0",
          "state": {
            "_model_module": "@jupyter-widgets/base",
            "_model_module_version": "1.2.0",
            "_model_name": "LayoutModel",
            "_view_count": null,
            "_view_module": "@jupyter-widgets/base",
            "_view_module_version": "1.2.0",
            "_view_name": "LayoutView",
            "align_content": null,
            "align_items": null,
            "align_self": null,
            "border": null,
            "bottom": null,
            "display": null,
            "flex": null,
            "flex_flow": null,
            "grid_area": null,
            "grid_auto_columns": null,
            "grid_auto_flow": null,
            "grid_auto_rows": null,
            "grid_column": null,
            "grid_gap": null,
            "grid_row": null,
            "grid_template_areas": null,
            "grid_template_columns": null,
            "grid_template_rows": null,
            "height": null,
            "justify_content": null,
            "justify_items": null,
            "left": null,
            "margin": null,
            "max_height": null,
            "max_width": null,
            "min_height": null,
            "min_width": null,
            "object_fit": null,
            "object_position": null,
            "order": null,
            "overflow": null,
            "overflow_x": null,
            "overflow_y": null,
            "padding": null,
            "right": null,
            "top": null,
            "visibility": null,
            "width": null
          }
        },
        "de8694a4de8a4b0496a7320f42823cb7": {
          "model_module": "@jupyter-widgets/controls",
          "model_name": "ProgressStyleModel",
          "model_module_version": "1.5.0",
          "state": {
            "_model_module": "@jupyter-widgets/controls",
            "_model_module_version": "1.5.0",
            "_model_name": "ProgressStyleModel",
            "_view_count": null,
            "_view_module": "@jupyter-widgets/base",
            "_view_module_version": "1.2.0",
            "_view_name": "StyleView",
            "bar_color": null,
            "description_width": ""
          }
        },
        "790beba7fb9146babfad11376be505d5": {
          "model_module": "@jupyter-widgets/base",
          "model_name": "LayoutModel",
          "model_module_version": "1.2.0",
          "state": {
            "_model_module": "@jupyter-widgets/base",
            "_model_module_version": "1.2.0",
            "_model_name": "LayoutModel",
            "_view_count": null,
            "_view_module": "@jupyter-widgets/base",
            "_view_module_version": "1.2.0",
            "_view_name": "LayoutView",
            "align_content": null,
            "align_items": null,
            "align_self": null,
            "border": null,
            "bottom": null,
            "display": null,
            "flex": null,
            "flex_flow": null,
            "grid_area": null,
            "grid_auto_columns": null,
            "grid_auto_flow": null,
            "grid_auto_rows": null,
            "grid_column": null,
            "grid_gap": null,
            "grid_row": null,
            "grid_template_areas": null,
            "grid_template_columns": null,
            "grid_template_rows": null,
            "height": null,
            "justify_content": null,
            "justify_items": null,
            "left": null,
            "margin": null,
            "max_height": null,
            "max_width": null,
            "min_height": null,
            "min_width": null,
            "object_fit": null,
            "object_position": null,
            "order": null,
            "overflow": null,
            "overflow_x": null,
            "overflow_y": null,
            "padding": null,
            "right": null,
            "top": null,
            "visibility": null,
            "width": null
          }
        },
        "b1e14a26cafc44e6ad36514ef58d25d4": {
          "model_module": "@jupyter-widgets/controls",
          "model_name": "DescriptionStyleModel",
          "model_module_version": "1.5.0",
          "state": {
            "_model_module": "@jupyter-widgets/controls",
            "_model_module_version": "1.5.0",
            "_model_name": "DescriptionStyleModel",
            "_view_count": null,
            "_view_module": "@jupyter-widgets/base",
            "_view_module_version": "1.2.0",
            "_view_name": "StyleView",
            "description_width": ""
          }
        },
        "d12248c91d4c44adbb5fb89d98b1876d": {
          "model_module": "@jupyter-widgets/controls",
          "model_name": "HBoxModel",
          "model_module_version": "1.5.0",
          "state": {
            "_dom_classes": [],
            "_model_module": "@jupyter-widgets/controls",
            "_model_module_version": "1.5.0",
            "_model_name": "HBoxModel",
            "_view_count": null,
            "_view_module": "@jupyter-widgets/controls",
            "_view_module_version": "1.5.0",
            "_view_name": "HBoxView",
            "box_style": "",
            "children": [
              "IPY_MODEL_657b64df55d24b1f9e5db1acadba05bc",
              "IPY_MODEL_64fdaae4d46b40b78d6e13db34b9fef2",
              "IPY_MODEL_f571b88c9c714b7c84b3263ef61118b6"
            ],
            "layout": "IPY_MODEL_d47eedc2efc24394af49de07bbc7b900"
          }
        },
        "657b64df55d24b1f9e5db1acadba05bc": {
          "model_module": "@jupyter-widgets/controls",
          "model_name": "HTMLModel",
          "model_module_version": "1.5.0",
          "state": {
            "_dom_classes": [],
            "_model_module": "@jupyter-widgets/controls",
            "_model_module_version": "1.5.0",
            "_model_name": "HTMLModel",
            "_view_count": null,
            "_view_module": "@jupyter-widgets/controls",
            "_view_module_version": "1.5.0",
            "_view_name": "HTMLView",
            "description": "",
            "description_tooltip": null,
            "layout": "IPY_MODEL_031f0b906dc74abebd38f5e07e595874",
            "placeholder": "​",
            "style": "IPY_MODEL_d132afa19ff14437ab093c6e8bc2d0cd",
            "value": "Downloading: 100%"
          }
        },
        "64fdaae4d46b40b78d6e13db34b9fef2": {
          "model_module": "@jupyter-widgets/controls",
          "model_name": "FloatProgressModel",
          "model_module_version": "1.5.0",
          "state": {
            "_dom_classes": [],
            "_model_module": "@jupyter-widgets/controls",
            "_model_module_version": "1.5.0",
            "_model_name": "FloatProgressModel",
            "_view_count": null,
            "_view_module": "@jupyter-widgets/controls",
            "_view_module_version": "1.5.0",
            "_view_name": "ProgressView",
            "bar_style": "success",
            "description": "",
            "description_tooltip": null,
            "layout": "IPY_MODEL_539825d7d232448b8eb3e92e2814a428",
            "max": 466062,
            "min": 0,
            "orientation": "horizontal",
            "style": "IPY_MODEL_a0e97f398c584fa9b02528d53991ca21",
            "value": 466062
          }
        },
        "f571b88c9c714b7c84b3263ef61118b6": {
          "model_module": "@jupyter-widgets/controls",
          "model_name": "HTMLModel",
          "model_module_version": "1.5.0",
          "state": {
            "_dom_classes": [],
            "_model_module": "@jupyter-widgets/controls",
            "_model_module_version": "1.5.0",
            "_model_name": "HTMLModel",
            "_view_count": null,
            "_view_module": "@jupyter-widgets/controls",
            "_view_module_version": "1.5.0",
            "_view_name": "HTMLView",
            "description": "",
            "description_tooltip": null,
            "layout": "IPY_MODEL_34966751003748d0bb51fdb9b8dda2e3",
            "placeholder": "​",
            "style": "IPY_MODEL_5114a5014eba4473a5c03d25ad40f75a",
            "value": " 466k/466k [00:00&lt;00:00, 1.93MB/s]"
          }
        },
        "d47eedc2efc24394af49de07bbc7b900": {
          "model_module": "@jupyter-widgets/base",
          "model_name": "LayoutModel",
          "model_module_version": "1.2.0",
          "state": {
            "_model_module": "@jupyter-widgets/base",
            "_model_module_version": "1.2.0",
            "_model_name": "LayoutModel",
            "_view_count": null,
            "_view_module": "@jupyter-widgets/base",
            "_view_module_version": "1.2.0",
            "_view_name": "LayoutView",
            "align_content": null,
            "align_items": null,
            "align_self": null,
            "border": null,
            "bottom": null,
            "display": null,
            "flex": null,
            "flex_flow": null,
            "grid_area": null,
            "grid_auto_columns": null,
            "grid_auto_flow": null,
            "grid_auto_rows": null,
            "grid_column": null,
            "grid_gap": null,
            "grid_row": null,
            "grid_template_areas": null,
            "grid_template_columns": null,
            "grid_template_rows": null,
            "height": null,
            "justify_content": null,
            "justify_items": null,
            "left": null,
            "margin": null,
            "max_height": null,
            "max_width": null,
            "min_height": null,
            "min_width": null,
            "object_fit": null,
            "object_position": null,
            "order": null,
            "overflow": null,
            "overflow_x": null,
            "overflow_y": null,
            "padding": null,
            "right": null,
            "top": null,
            "visibility": null,
            "width": null
          }
        },
        "031f0b906dc74abebd38f5e07e595874": {
          "model_module": "@jupyter-widgets/base",
          "model_name": "LayoutModel",
          "model_module_version": "1.2.0",
          "state": {
            "_model_module": "@jupyter-widgets/base",
            "_model_module_version": "1.2.0",
            "_model_name": "LayoutModel",
            "_view_count": null,
            "_view_module": "@jupyter-widgets/base",
            "_view_module_version": "1.2.0",
            "_view_name": "LayoutView",
            "align_content": null,
            "align_items": null,
            "align_self": null,
            "border": null,
            "bottom": null,
            "display": null,
            "flex": null,
            "flex_flow": null,
            "grid_area": null,
            "grid_auto_columns": null,
            "grid_auto_flow": null,
            "grid_auto_rows": null,
            "grid_column": null,
            "grid_gap": null,
            "grid_row": null,
            "grid_template_areas": null,
            "grid_template_columns": null,
            "grid_template_rows": null,
            "height": null,
            "justify_content": null,
            "justify_items": null,
            "left": null,
            "margin": null,
            "max_height": null,
            "max_width": null,
            "min_height": null,
            "min_width": null,
            "object_fit": null,
            "object_position": null,
            "order": null,
            "overflow": null,
            "overflow_x": null,
            "overflow_y": null,
            "padding": null,
            "right": null,
            "top": null,
            "visibility": null,
            "width": null
          }
        },
        "d132afa19ff14437ab093c6e8bc2d0cd": {
          "model_module": "@jupyter-widgets/controls",
          "model_name": "DescriptionStyleModel",
          "model_module_version": "1.5.0",
          "state": {
            "_model_module": "@jupyter-widgets/controls",
            "_model_module_version": "1.5.0",
            "_model_name": "DescriptionStyleModel",
            "_view_count": null,
            "_view_module": "@jupyter-widgets/base",
            "_view_module_version": "1.2.0",
            "_view_name": "StyleView",
            "description_width": ""
          }
        },
        "539825d7d232448b8eb3e92e2814a428": {
          "model_module": "@jupyter-widgets/base",
          "model_name": "LayoutModel",
          "model_module_version": "1.2.0",
          "state": {
            "_model_module": "@jupyter-widgets/base",
            "_model_module_version": "1.2.0",
            "_model_name": "LayoutModel",
            "_view_count": null,
            "_view_module": "@jupyter-widgets/base",
            "_view_module_version": "1.2.0",
            "_view_name": "LayoutView",
            "align_content": null,
            "align_items": null,
            "align_self": null,
            "border": null,
            "bottom": null,
            "display": null,
            "flex": null,
            "flex_flow": null,
            "grid_area": null,
            "grid_auto_columns": null,
            "grid_auto_flow": null,
            "grid_auto_rows": null,
            "grid_column": null,
            "grid_gap": null,
            "grid_row": null,
            "grid_template_areas": null,
            "grid_template_columns": null,
            "grid_template_rows": null,
            "height": null,
            "justify_content": null,
            "justify_items": null,
            "left": null,
            "margin": null,
            "max_height": null,
            "max_width": null,
            "min_height": null,
            "min_width": null,
            "object_fit": null,
            "object_position": null,
            "order": null,
            "overflow": null,
            "overflow_x": null,
            "overflow_y": null,
            "padding": null,
            "right": null,
            "top": null,
            "visibility": null,
            "width": null
          }
        },
        "a0e97f398c584fa9b02528d53991ca21": {
          "model_module": "@jupyter-widgets/controls",
          "model_name": "ProgressStyleModel",
          "model_module_version": "1.5.0",
          "state": {
            "_model_module": "@jupyter-widgets/controls",
            "_model_module_version": "1.5.0",
            "_model_name": "ProgressStyleModel",
            "_view_count": null,
            "_view_module": "@jupyter-widgets/base",
            "_view_module_version": "1.2.0",
            "_view_name": "StyleView",
            "bar_color": null,
            "description_width": ""
          }
        },
        "34966751003748d0bb51fdb9b8dda2e3": {
          "model_module": "@jupyter-widgets/base",
          "model_name": "LayoutModel",
          "model_module_version": "1.2.0",
          "state": {
            "_model_module": "@jupyter-widgets/base",
            "_model_module_version": "1.2.0",
            "_model_name": "LayoutModel",
            "_view_count": null,
            "_view_module": "@jupyter-widgets/base",
            "_view_module_version": "1.2.0",
            "_view_name": "LayoutView",
            "align_content": null,
            "align_items": null,
            "align_self": null,
            "border": null,
            "bottom": null,
            "display": null,
            "flex": null,
            "flex_flow": null,
            "grid_area": null,
            "grid_auto_columns": null,
            "grid_auto_flow": null,
            "grid_auto_rows": null,
            "grid_column": null,
            "grid_gap": null,
            "grid_row": null,
            "grid_template_areas": null,
            "grid_template_columns": null,
            "grid_template_rows": null,
            "height": null,
            "justify_content": null,
            "justify_items": null,
            "left": null,
            "margin": null,
            "max_height": null,
            "max_width": null,
            "min_height": null,
            "min_width": null,
            "object_fit": null,
            "object_position": null,
            "order": null,
            "overflow": null,
            "overflow_x": null,
            "overflow_y": null,
            "padding": null,
            "right": null,
            "top": null,
            "visibility": null,
            "width": null
          }
        },
        "5114a5014eba4473a5c03d25ad40f75a": {
          "model_module": "@jupyter-widgets/controls",
          "model_name": "DescriptionStyleModel",
          "model_module_version": "1.5.0",
          "state": {
            "_model_module": "@jupyter-widgets/controls",
            "_model_module_version": "1.5.0",
            "_model_name": "DescriptionStyleModel",
            "_view_count": null,
            "_view_module": "@jupyter-widgets/base",
            "_view_module_version": "1.2.0",
            "_view_name": "StyleView",
            "description_width": ""
          }
        },
        "deb1d2d33c4d4e1d9cfbecda8c40e840": {
          "model_module": "@jupyter-widgets/controls",
          "model_name": "HBoxModel",
          "model_module_version": "1.5.0",
          "state": {
            "_dom_classes": [],
            "_model_module": "@jupyter-widgets/controls",
            "_model_module_version": "1.5.0",
            "_model_name": "HBoxModel",
            "_view_count": null,
            "_view_module": "@jupyter-widgets/controls",
            "_view_module_version": "1.5.0",
            "_view_name": "HBoxView",
            "box_style": "",
            "children": [
              "IPY_MODEL_434ce329018944738e2dd2a76089002d",
              "IPY_MODEL_abe15780033149409e9efd1b8fb08332",
              "IPY_MODEL_0830c0aea19e451eb75b5a0d8c3ae344"
            ],
            "layout": "IPY_MODEL_b9fb3dd222e84522b33e89487e0e3ad6"
          }
        },
        "434ce329018944738e2dd2a76089002d": {
          "model_module": "@jupyter-widgets/controls",
          "model_name": "HTMLModel",
          "model_module_version": "1.5.0",
          "state": {
            "_dom_classes": [],
            "_model_module": "@jupyter-widgets/controls",
            "_model_module_version": "1.5.0",
            "_model_name": "HTMLModel",
            "_view_count": null,
            "_view_module": "@jupyter-widgets/controls",
            "_view_module_version": "1.5.0",
            "_view_name": "HTMLView",
            "description": "",
            "description_tooltip": null,
            "layout": "IPY_MODEL_33d031b03c234791871c6a4d2959a541",
            "placeholder": "​",
            "style": "IPY_MODEL_6c3a5951b7ce4845abe6fdec902ab30a",
            "value": "100%"
          }
        },
        "abe15780033149409e9efd1b8fb08332": {
          "model_module": "@jupyter-widgets/controls",
          "model_name": "FloatProgressModel",
          "model_module_version": "1.5.0",
          "state": {
            "_dom_classes": [],
            "_model_module": "@jupyter-widgets/controls",
            "_model_module_version": "1.5.0",
            "_model_name": "FloatProgressModel",
            "_view_count": null,
            "_view_module": "@jupyter-widgets/controls",
            "_view_module_version": "1.5.0",
            "_view_name": "ProgressView",
            "bar_style": "success",
            "description": "",
            "description_tooltip": null,
            "layout": "IPY_MODEL_3d82407a5f5146289ba7913a9be7f69e",
            "max": 1,
            "min": 0,
            "orientation": "horizontal",
            "style": "IPY_MODEL_ab465b04f0da42fda93c76a7fb46008e",
            "value": 1
          }
        },
        "0830c0aea19e451eb75b5a0d8c3ae344": {
          "model_module": "@jupyter-widgets/controls",
          "model_name": "HTMLModel",
          "model_module_version": "1.5.0",
          "state": {
            "_dom_classes": [],
            "_model_module": "@jupyter-widgets/controls",
            "_model_module_version": "1.5.0",
            "_model_name": "HTMLModel",
            "_view_count": null,
            "_view_module": "@jupyter-widgets/controls",
            "_view_module_version": "1.5.0",
            "_view_name": "HTMLView",
            "description": "",
            "description_tooltip": null,
            "layout": "IPY_MODEL_0eb84504a76444b4abae0b9c8ad77995",
            "placeholder": "​",
            "style": "IPY_MODEL_0d37345044c749028edbea00abee9306",
            "value": " 1/1 [00:00&lt;00:00,  3.48it/s]"
          }
        },
        "b9fb3dd222e84522b33e89487e0e3ad6": {
          "model_module": "@jupyter-widgets/base",
          "model_name": "LayoutModel",
          "model_module_version": "1.2.0",
          "state": {
            "_model_module": "@jupyter-widgets/base",
            "_model_module_version": "1.2.0",
            "_model_name": "LayoutModel",
            "_view_count": null,
            "_view_module": "@jupyter-widgets/base",
            "_view_module_version": "1.2.0",
            "_view_name": "LayoutView",
            "align_content": null,
            "align_items": null,
            "align_self": null,
            "border": null,
            "bottom": null,
            "display": null,
            "flex": null,
            "flex_flow": null,
            "grid_area": null,
            "grid_auto_columns": null,
            "grid_auto_flow": null,
            "grid_auto_rows": null,
            "grid_column": null,
            "grid_gap": null,
            "grid_row": null,
            "grid_template_areas": null,
            "grid_template_columns": null,
            "grid_template_rows": null,
            "height": null,
            "justify_content": null,
            "justify_items": null,
            "left": null,
            "margin": null,
            "max_height": null,
            "max_width": null,
            "min_height": null,
            "min_width": null,
            "object_fit": null,
            "object_position": null,
            "order": null,
            "overflow": null,
            "overflow_x": null,
            "overflow_y": null,
            "padding": null,
            "right": null,
            "top": null,
            "visibility": null,
            "width": null
          }
        },
        "33d031b03c234791871c6a4d2959a541": {
          "model_module": "@jupyter-widgets/base",
          "model_name": "LayoutModel",
          "model_module_version": "1.2.0",
          "state": {
            "_model_module": "@jupyter-widgets/base",
            "_model_module_version": "1.2.0",
            "_model_name": "LayoutModel",
            "_view_count": null,
            "_view_module": "@jupyter-widgets/base",
            "_view_module_version": "1.2.0",
            "_view_name": "LayoutView",
            "align_content": null,
            "align_items": null,
            "align_self": null,
            "border": null,
            "bottom": null,
            "display": null,
            "flex": null,
            "flex_flow": null,
            "grid_area": null,
            "grid_auto_columns": null,
            "grid_auto_flow": null,
            "grid_auto_rows": null,
            "grid_column": null,
            "grid_gap": null,
            "grid_row": null,
            "grid_template_areas": null,
            "grid_template_columns": null,
            "grid_template_rows": null,
            "height": null,
            "justify_content": null,
            "justify_items": null,
            "left": null,
            "margin": null,
            "max_height": null,
            "max_width": null,
            "min_height": null,
            "min_width": null,
            "object_fit": null,
            "object_position": null,
            "order": null,
            "overflow": null,
            "overflow_x": null,
            "overflow_y": null,
            "padding": null,
            "right": null,
            "top": null,
            "visibility": null,
            "width": null
          }
        },
        "6c3a5951b7ce4845abe6fdec902ab30a": {
          "model_module": "@jupyter-widgets/controls",
          "model_name": "DescriptionStyleModel",
          "model_module_version": "1.5.0",
          "state": {
            "_model_module": "@jupyter-widgets/controls",
            "_model_module_version": "1.5.0",
            "_model_name": "DescriptionStyleModel",
            "_view_count": null,
            "_view_module": "@jupyter-widgets/base",
            "_view_module_version": "1.2.0",
            "_view_name": "StyleView",
            "description_width": ""
          }
        },
        "3d82407a5f5146289ba7913a9be7f69e": {
          "model_module": "@jupyter-widgets/base",
          "model_name": "LayoutModel",
          "model_module_version": "1.2.0",
          "state": {
            "_model_module": "@jupyter-widgets/base",
            "_model_module_version": "1.2.0",
            "_model_name": "LayoutModel",
            "_view_count": null,
            "_view_module": "@jupyter-widgets/base",
            "_view_module_version": "1.2.0",
            "_view_name": "LayoutView",
            "align_content": null,
            "align_items": null,
            "align_self": null,
            "border": null,
            "bottom": null,
            "display": null,
            "flex": null,
            "flex_flow": null,
            "grid_area": null,
            "grid_auto_columns": null,
            "grid_auto_flow": null,
            "grid_auto_rows": null,
            "grid_column": null,
            "grid_gap": null,
            "grid_row": null,
            "grid_template_areas": null,
            "grid_template_columns": null,
            "grid_template_rows": null,
            "height": null,
            "justify_content": null,
            "justify_items": null,
            "left": null,
            "margin": null,
            "max_height": null,
            "max_width": null,
            "min_height": null,
            "min_width": null,
            "object_fit": null,
            "object_position": null,
            "order": null,
            "overflow": null,
            "overflow_x": null,
            "overflow_y": null,
            "padding": null,
            "right": null,
            "top": null,
            "visibility": null,
            "width": null
          }
        },
        "ab465b04f0da42fda93c76a7fb46008e": {
          "model_module": "@jupyter-widgets/controls",
          "model_name": "ProgressStyleModel",
          "model_module_version": "1.5.0",
          "state": {
            "_model_module": "@jupyter-widgets/controls",
            "_model_module_version": "1.5.0",
            "_model_name": "ProgressStyleModel",
            "_view_count": null,
            "_view_module": "@jupyter-widgets/base",
            "_view_module_version": "1.2.0",
            "_view_name": "StyleView",
            "bar_color": null,
            "description_width": ""
          }
        },
        "0eb84504a76444b4abae0b9c8ad77995": {
          "model_module": "@jupyter-widgets/base",
          "model_name": "LayoutModel",
          "model_module_version": "1.2.0",
          "state": {
            "_model_module": "@jupyter-widgets/base",
            "_model_module_version": "1.2.0",
            "_model_name": "LayoutModel",
            "_view_count": null,
            "_view_module": "@jupyter-widgets/base",
            "_view_module_version": "1.2.0",
            "_view_name": "LayoutView",
            "align_content": null,
            "align_items": null,
            "align_self": null,
            "border": null,
            "bottom": null,
            "display": null,
            "flex": null,
            "flex_flow": null,
            "grid_area": null,
            "grid_auto_columns": null,
            "grid_auto_flow": null,
            "grid_auto_rows": null,
            "grid_column": null,
            "grid_gap": null,
            "grid_row": null,
            "grid_template_areas": null,
            "grid_template_columns": null,
            "grid_template_rows": null,
            "height": null,
            "justify_content": null,
            "justify_items": null,
            "left": null,
            "margin": null,
            "max_height": null,
            "max_width": null,
            "min_height": null,
            "min_width": null,
            "object_fit": null,
            "object_position": null,
            "order": null,
            "overflow": null,
            "overflow_x": null,
            "overflow_y": null,
            "padding": null,
            "right": null,
            "top": null,
            "visibility": null,
            "width": null
          }
        },
        "0d37345044c749028edbea00abee9306": {
          "model_module": "@jupyter-widgets/controls",
          "model_name": "DescriptionStyleModel",
          "model_module_version": "1.5.0",
          "state": {
            "_model_module": "@jupyter-widgets/controls",
            "_model_module_version": "1.5.0",
            "_model_name": "DescriptionStyleModel",
            "_view_count": null,
            "_view_module": "@jupyter-widgets/base",
            "_view_module_version": "1.2.0",
            "_view_name": "StyleView",
            "description_width": ""
          }
        },
        "9fa2c609212747149013ce5ae9750bfc": {
          "model_module": "@jupyter-widgets/controls",
          "model_name": "HBoxModel",
          "model_module_version": "1.5.0",
          "state": {
            "_dom_classes": [],
            "_model_module": "@jupyter-widgets/controls",
            "_model_module_version": "1.5.0",
            "_model_name": "HBoxModel",
            "_view_count": null,
            "_view_module": "@jupyter-widgets/controls",
            "_view_module_version": "1.5.0",
            "_view_name": "HBoxView",
            "box_style": "",
            "children": [
              "IPY_MODEL_38e3f7285edb4ad58ee6e24ad3a32701",
              "IPY_MODEL_cce19e1e09e74ace9f8b6c52550d09d7",
              "IPY_MODEL_f1e14db079264c31948ff3d097884e91"
            ],
            "layout": "IPY_MODEL_009f54865b6a467d990ce50e60cdc24c"
          }
        },
        "38e3f7285edb4ad58ee6e24ad3a32701": {
          "model_module": "@jupyter-widgets/controls",
          "model_name": "HTMLModel",
          "model_module_version": "1.5.0",
          "state": {
            "_dom_classes": [],
            "_model_module": "@jupyter-widgets/controls",
            "_model_module_version": "1.5.0",
            "_model_name": "HTMLModel",
            "_view_count": null,
            "_view_module": "@jupyter-widgets/controls",
            "_view_module_version": "1.5.0",
            "_view_name": "HTMLView",
            "description": "",
            "description_tooltip": null,
            "layout": "IPY_MODEL_7dc76647237d4742b83a046c17caca64",
            "placeholder": "​",
            "style": "IPY_MODEL_09401cdbc9864d1abe848e009753c0bd",
            "value": "100%"
          }
        },
        "cce19e1e09e74ace9f8b6c52550d09d7": {
          "model_module": "@jupyter-widgets/controls",
          "model_name": "FloatProgressModel",
          "model_module_version": "1.5.0",
          "state": {
            "_dom_classes": [],
            "_model_module": "@jupyter-widgets/controls",
            "_model_module_version": "1.5.0",
            "_model_name": "FloatProgressModel",
            "_view_count": null,
            "_view_module": "@jupyter-widgets/controls",
            "_view_module_version": "1.5.0",
            "_view_name": "ProgressView",
            "bar_style": "success",
            "description": "",
            "description_tooltip": null,
            "layout": "IPY_MODEL_862178dc97c64cca897c25c07b1626c2",
            "max": 1,
            "min": 0,
            "orientation": "horizontal",
            "style": "IPY_MODEL_a8c14e65f3174656acc2ec88eeba4be8",
            "value": 1
          }
        },
        "f1e14db079264c31948ff3d097884e91": {
          "model_module": "@jupyter-widgets/controls",
          "model_name": "HTMLModel",
          "model_module_version": "1.5.0",
          "state": {
            "_dom_classes": [],
            "_model_module": "@jupyter-widgets/controls",
            "_model_module_version": "1.5.0",
            "_model_name": "HTMLModel",
            "_view_count": null,
            "_view_module": "@jupyter-widgets/controls",
            "_view_module_version": "1.5.0",
            "_view_name": "HTMLView",
            "description": "",
            "description_tooltip": null,
            "layout": "IPY_MODEL_9fe1d46578134bdc9d456b08859e4ac9",
            "placeholder": "​",
            "style": "IPY_MODEL_863c5979d4cc4617b611a3473bed43e5",
            "value": " 1/1 [00:00&lt;00:00,  6.93it/s]"
          }
        },
        "009f54865b6a467d990ce50e60cdc24c": {
          "model_module": "@jupyter-widgets/base",
          "model_name": "LayoutModel",
          "model_module_version": "1.2.0",
          "state": {
            "_model_module": "@jupyter-widgets/base",
            "_model_module_version": "1.2.0",
            "_model_name": "LayoutModel",
            "_view_count": null,
            "_view_module": "@jupyter-widgets/base",
            "_view_module_version": "1.2.0",
            "_view_name": "LayoutView",
            "align_content": null,
            "align_items": null,
            "align_self": null,
            "border": null,
            "bottom": null,
            "display": null,
            "flex": null,
            "flex_flow": null,
            "grid_area": null,
            "grid_auto_columns": null,
            "grid_auto_flow": null,
            "grid_auto_rows": null,
            "grid_column": null,
            "grid_gap": null,
            "grid_row": null,
            "grid_template_areas": null,
            "grid_template_columns": null,
            "grid_template_rows": null,
            "height": null,
            "justify_content": null,
            "justify_items": null,
            "left": null,
            "margin": null,
            "max_height": null,
            "max_width": null,
            "min_height": null,
            "min_width": null,
            "object_fit": null,
            "object_position": null,
            "order": null,
            "overflow": null,
            "overflow_x": null,
            "overflow_y": null,
            "padding": null,
            "right": null,
            "top": null,
            "visibility": null,
            "width": null
          }
        },
        "7dc76647237d4742b83a046c17caca64": {
          "model_module": "@jupyter-widgets/base",
          "model_name": "LayoutModel",
          "model_module_version": "1.2.0",
          "state": {
            "_model_module": "@jupyter-widgets/base",
            "_model_module_version": "1.2.0",
            "_model_name": "LayoutModel",
            "_view_count": null,
            "_view_module": "@jupyter-widgets/base",
            "_view_module_version": "1.2.0",
            "_view_name": "LayoutView",
            "align_content": null,
            "align_items": null,
            "align_self": null,
            "border": null,
            "bottom": null,
            "display": null,
            "flex": null,
            "flex_flow": null,
            "grid_area": null,
            "grid_auto_columns": null,
            "grid_auto_flow": null,
            "grid_auto_rows": null,
            "grid_column": null,
            "grid_gap": null,
            "grid_row": null,
            "grid_template_areas": null,
            "grid_template_columns": null,
            "grid_template_rows": null,
            "height": null,
            "justify_content": null,
            "justify_items": null,
            "left": null,
            "margin": null,
            "max_height": null,
            "max_width": null,
            "min_height": null,
            "min_width": null,
            "object_fit": null,
            "object_position": null,
            "order": null,
            "overflow": null,
            "overflow_x": null,
            "overflow_y": null,
            "padding": null,
            "right": null,
            "top": null,
            "visibility": null,
            "width": null
          }
        },
        "09401cdbc9864d1abe848e009753c0bd": {
          "model_module": "@jupyter-widgets/controls",
          "model_name": "DescriptionStyleModel",
          "model_module_version": "1.5.0",
          "state": {
            "_model_module": "@jupyter-widgets/controls",
            "_model_module_version": "1.5.0",
            "_model_name": "DescriptionStyleModel",
            "_view_count": null,
            "_view_module": "@jupyter-widgets/base",
            "_view_module_version": "1.2.0",
            "_view_name": "StyleView",
            "description_width": ""
          }
        },
        "862178dc97c64cca897c25c07b1626c2": {
          "model_module": "@jupyter-widgets/base",
          "model_name": "LayoutModel",
          "model_module_version": "1.2.0",
          "state": {
            "_model_module": "@jupyter-widgets/base",
            "_model_module_version": "1.2.0",
            "_model_name": "LayoutModel",
            "_view_count": null,
            "_view_module": "@jupyter-widgets/base",
            "_view_module_version": "1.2.0",
            "_view_name": "LayoutView",
            "align_content": null,
            "align_items": null,
            "align_self": null,
            "border": null,
            "bottom": null,
            "display": null,
            "flex": null,
            "flex_flow": null,
            "grid_area": null,
            "grid_auto_columns": null,
            "grid_auto_flow": null,
            "grid_auto_rows": null,
            "grid_column": null,
            "grid_gap": null,
            "grid_row": null,
            "grid_template_areas": null,
            "grid_template_columns": null,
            "grid_template_rows": null,
            "height": null,
            "justify_content": null,
            "justify_items": null,
            "left": null,
            "margin": null,
            "max_height": null,
            "max_width": null,
            "min_height": null,
            "min_width": null,
            "object_fit": null,
            "object_position": null,
            "order": null,
            "overflow": null,
            "overflow_x": null,
            "overflow_y": null,
            "padding": null,
            "right": null,
            "top": null,
            "visibility": null,
            "width": null
          }
        },
        "a8c14e65f3174656acc2ec88eeba4be8": {
          "model_module": "@jupyter-widgets/controls",
          "model_name": "ProgressStyleModel",
          "model_module_version": "1.5.0",
          "state": {
            "_model_module": "@jupyter-widgets/controls",
            "_model_module_version": "1.5.0",
            "_model_name": "ProgressStyleModel",
            "_view_count": null,
            "_view_module": "@jupyter-widgets/base",
            "_view_module_version": "1.2.0",
            "_view_name": "StyleView",
            "bar_color": null,
            "description_width": ""
          }
        },
        "9fe1d46578134bdc9d456b08859e4ac9": {
          "model_module": "@jupyter-widgets/base",
          "model_name": "LayoutModel",
          "model_module_version": "1.2.0",
          "state": {
            "_model_module": "@jupyter-widgets/base",
            "_model_module_version": "1.2.0",
            "_model_name": "LayoutModel",
            "_view_count": null,
            "_view_module": "@jupyter-widgets/base",
            "_view_module_version": "1.2.0",
            "_view_name": "LayoutView",
            "align_content": null,
            "align_items": null,
            "align_self": null,
            "border": null,
            "bottom": null,
            "display": null,
            "flex": null,
            "flex_flow": null,
            "grid_area": null,
            "grid_auto_columns": null,
            "grid_auto_flow": null,
            "grid_auto_rows": null,
            "grid_column": null,
            "grid_gap": null,
            "grid_row": null,
            "grid_template_areas": null,
            "grid_template_columns": null,
            "grid_template_rows": null,
            "height": null,
            "justify_content": null,
            "justify_items": null,
            "left": null,
            "margin": null,
            "max_height": null,
            "max_width": null,
            "min_height": null,
            "min_width": null,
            "object_fit": null,
            "object_position": null,
            "order": null,
            "overflow": null,
            "overflow_x": null,
            "overflow_y": null,
            "padding": null,
            "right": null,
            "top": null,
            "visibility": null,
            "width": null
          }
        },
        "863c5979d4cc4617b611a3473bed43e5": {
          "model_module": "@jupyter-widgets/controls",
          "model_name": "DescriptionStyleModel",
          "model_module_version": "1.5.0",
          "state": {
            "_model_module": "@jupyter-widgets/controls",
            "_model_module_version": "1.5.0",
            "_model_name": "DescriptionStyleModel",
            "_view_count": null,
            "_view_module": "@jupyter-widgets/base",
            "_view_module_version": "1.2.0",
            "_view_name": "StyleView",
            "description_width": ""
          }
        },
        "3d849dc8363243b7bbff55d9a669044b": {
          "model_module": "@jupyter-widgets/controls",
          "model_name": "HBoxModel",
          "model_module_version": "1.5.0",
          "state": {
            "_dom_classes": [],
            "_model_module": "@jupyter-widgets/controls",
            "_model_module_version": "1.5.0",
            "_model_name": "HBoxModel",
            "_view_count": null,
            "_view_module": "@jupyter-widgets/controls",
            "_view_module_version": "1.5.0",
            "_view_name": "HBoxView",
            "box_style": "",
            "children": [
              "IPY_MODEL_2198d5e59f5744b8aca833423940329f",
              "IPY_MODEL_75c7c88fe39c41f8b48021ac87b5646f",
              "IPY_MODEL_d7928d5a362b4e22bd500fde2c207247"
            ],
            "layout": "IPY_MODEL_38fd21b846134bdfba73223785ddaab8"
          }
        },
        "2198d5e59f5744b8aca833423940329f": {
          "model_module": "@jupyter-widgets/controls",
          "model_name": "HTMLModel",
          "model_module_version": "1.5.0",
          "state": {
            "_dom_classes": [],
            "_model_module": "@jupyter-widgets/controls",
            "_model_module_version": "1.5.0",
            "_model_name": "HTMLModel",
            "_view_count": null,
            "_view_module": "@jupyter-widgets/controls",
            "_view_module_version": "1.5.0",
            "_view_name": "HTMLView",
            "description": "",
            "description_tooltip": null,
            "layout": "IPY_MODEL_350e71b93e884c159cdc6179196411aa",
            "placeholder": "​",
            "style": "IPY_MODEL_3cb53db40bcb4d91810f90e18c004b65",
            "value": "Downloading: 100%"
          }
        },
        "75c7c88fe39c41f8b48021ac87b5646f": {
          "model_module": "@jupyter-widgets/controls",
          "model_name": "FloatProgressModel",
          "model_module_version": "1.5.0",
          "state": {
            "_dom_classes": [],
            "_model_module": "@jupyter-widgets/controls",
            "_model_module_version": "1.5.0",
            "_model_name": "FloatProgressModel",
            "_view_count": null,
            "_view_module": "@jupyter-widgets/controls",
            "_view_module_version": "1.5.0",
            "_view_name": "ProgressView",
            "bar_style": "success",
            "description": "",
            "description_tooltip": null,
            "layout": "IPY_MODEL_a338a37cbf844de4a06203c3cff3ed3d",
            "max": 443,
            "min": 0,
            "orientation": "horizontal",
            "style": "IPY_MODEL_b6a63b70d2304d90a1a11ee4970e00e9",
            "value": 443
          }
        },
        "d7928d5a362b4e22bd500fde2c207247": {
          "model_module": "@jupyter-widgets/controls",
          "model_name": "HTMLModel",
          "model_module_version": "1.5.0",
          "state": {
            "_dom_classes": [],
            "_model_module": "@jupyter-widgets/controls",
            "_model_module_version": "1.5.0",
            "_model_name": "HTMLModel",
            "_view_count": null,
            "_view_module": "@jupyter-widgets/controls",
            "_view_module_version": "1.5.0",
            "_view_name": "HTMLView",
            "description": "",
            "description_tooltip": null,
            "layout": "IPY_MODEL_a4cae3b376124dfc97c4c48fa99f1a60",
            "placeholder": "​",
            "style": "IPY_MODEL_1e0f188752314451bc2aec528fcd6c76",
            "value": " 443/443 [00:00&lt;00:00, 5.91kB/s]"
          }
        },
        "38fd21b846134bdfba73223785ddaab8": {
          "model_module": "@jupyter-widgets/base",
          "model_name": "LayoutModel",
          "model_module_version": "1.2.0",
          "state": {
            "_model_module": "@jupyter-widgets/base",
            "_model_module_version": "1.2.0",
            "_model_name": "LayoutModel",
            "_view_count": null,
            "_view_module": "@jupyter-widgets/base",
            "_view_module_version": "1.2.0",
            "_view_name": "LayoutView",
            "align_content": null,
            "align_items": null,
            "align_self": null,
            "border": null,
            "bottom": null,
            "display": null,
            "flex": null,
            "flex_flow": null,
            "grid_area": null,
            "grid_auto_columns": null,
            "grid_auto_flow": null,
            "grid_auto_rows": null,
            "grid_column": null,
            "grid_gap": null,
            "grid_row": null,
            "grid_template_areas": null,
            "grid_template_columns": null,
            "grid_template_rows": null,
            "height": null,
            "justify_content": null,
            "justify_items": null,
            "left": null,
            "margin": null,
            "max_height": null,
            "max_width": null,
            "min_height": null,
            "min_width": null,
            "object_fit": null,
            "object_position": null,
            "order": null,
            "overflow": null,
            "overflow_x": null,
            "overflow_y": null,
            "padding": null,
            "right": null,
            "top": null,
            "visibility": null,
            "width": null
          }
        },
        "350e71b93e884c159cdc6179196411aa": {
          "model_module": "@jupyter-widgets/base",
          "model_name": "LayoutModel",
          "model_module_version": "1.2.0",
          "state": {
            "_model_module": "@jupyter-widgets/base",
            "_model_module_version": "1.2.0",
            "_model_name": "LayoutModel",
            "_view_count": null,
            "_view_module": "@jupyter-widgets/base",
            "_view_module_version": "1.2.0",
            "_view_name": "LayoutView",
            "align_content": null,
            "align_items": null,
            "align_self": null,
            "border": null,
            "bottom": null,
            "display": null,
            "flex": null,
            "flex_flow": null,
            "grid_area": null,
            "grid_auto_columns": null,
            "grid_auto_flow": null,
            "grid_auto_rows": null,
            "grid_column": null,
            "grid_gap": null,
            "grid_row": null,
            "grid_template_areas": null,
            "grid_template_columns": null,
            "grid_template_rows": null,
            "height": null,
            "justify_content": null,
            "justify_items": null,
            "left": null,
            "margin": null,
            "max_height": null,
            "max_width": null,
            "min_height": null,
            "min_width": null,
            "object_fit": null,
            "object_position": null,
            "order": null,
            "overflow": null,
            "overflow_x": null,
            "overflow_y": null,
            "padding": null,
            "right": null,
            "top": null,
            "visibility": null,
            "width": null
          }
        },
        "3cb53db40bcb4d91810f90e18c004b65": {
          "model_module": "@jupyter-widgets/controls",
          "model_name": "DescriptionStyleModel",
          "model_module_version": "1.5.0",
          "state": {
            "_model_module": "@jupyter-widgets/controls",
            "_model_module_version": "1.5.0",
            "_model_name": "DescriptionStyleModel",
            "_view_count": null,
            "_view_module": "@jupyter-widgets/base",
            "_view_module_version": "1.2.0",
            "_view_name": "StyleView",
            "description_width": ""
          }
        },
        "a338a37cbf844de4a06203c3cff3ed3d": {
          "model_module": "@jupyter-widgets/base",
          "model_name": "LayoutModel",
          "model_module_version": "1.2.0",
          "state": {
            "_model_module": "@jupyter-widgets/base",
            "_model_module_version": "1.2.0",
            "_model_name": "LayoutModel",
            "_view_count": null,
            "_view_module": "@jupyter-widgets/base",
            "_view_module_version": "1.2.0",
            "_view_name": "LayoutView",
            "align_content": null,
            "align_items": null,
            "align_self": null,
            "border": null,
            "bottom": null,
            "display": null,
            "flex": null,
            "flex_flow": null,
            "grid_area": null,
            "grid_auto_columns": null,
            "grid_auto_flow": null,
            "grid_auto_rows": null,
            "grid_column": null,
            "grid_gap": null,
            "grid_row": null,
            "grid_template_areas": null,
            "grid_template_columns": null,
            "grid_template_rows": null,
            "height": null,
            "justify_content": null,
            "justify_items": null,
            "left": null,
            "margin": null,
            "max_height": null,
            "max_width": null,
            "min_height": null,
            "min_width": null,
            "object_fit": null,
            "object_position": null,
            "order": null,
            "overflow": null,
            "overflow_x": null,
            "overflow_y": null,
            "padding": null,
            "right": null,
            "top": null,
            "visibility": null,
            "width": null
          }
        },
        "b6a63b70d2304d90a1a11ee4970e00e9": {
          "model_module": "@jupyter-widgets/controls",
          "model_name": "ProgressStyleModel",
          "model_module_version": "1.5.0",
          "state": {
            "_model_module": "@jupyter-widgets/controls",
            "_model_module_version": "1.5.0",
            "_model_name": "ProgressStyleModel",
            "_view_count": null,
            "_view_module": "@jupyter-widgets/base",
            "_view_module_version": "1.2.0",
            "_view_name": "StyleView",
            "bar_color": null,
            "description_width": ""
          }
        },
        "a4cae3b376124dfc97c4c48fa99f1a60": {
          "model_module": "@jupyter-widgets/base",
          "model_name": "LayoutModel",
          "model_module_version": "1.2.0",
          "state": {
            "_model_module": "@jupyter-widgets/base",
            "_model_module_version": "1.2.0",
            "_model_name": "LayoutModel",
            "_view_count": null,
            "_view_module": "@jupyter-widgets/base",
            "_view_module_version": "1.2.0",
            "_view_name": "LayoutView",
            "align_content": null,
            "align_items": null,
            "align_self": null,
            "border": null,
            "bottom": null,
            "display": null,
            "flex": null,
            "flex_flow": null,
            "grid_area": null,
            "grid_auto_columns": null,
            "grid_auto_flow": null,
            "grid_auto_rows": null,
            "grid_column": null,
            "grid_gap": null,
            "grid_row": null,
            "grid_template_areas": null,
            "grid_template_columns": null,
            "grid_template_rows": null,
            "height": null,
            "justify_content": null,
            "justify_items": null,
            "left": null,
            "margin": null,
            "max_height": null,
            "max_width": null,
            "min_height": null,
            "min_width": null,
            "object_fit": null,
            "object_position": null,
            "order": null,
            "overflow": null,
            "overflow_x": null,
            "overflow_y": null,
            "padding": null,
            "right": null,
            "top": null,
            "visibility": null,
            "width": null
          }
        },
        "1e0f188752314451bc2aec528fcd6c76": {
          "model_module": "@jupyter-widgets/controls",
          "model_name": "DescriptionStyleModel",
          "model_module_version": "1.5.0",
          "state": {
            "_model_module": "@jupyter-widgets/controls",
            "_model_module_version": "1.5.0",
            "_model_name": "DescriptionStyleModel",
            "_view_count": null,
            "_view_module": "@jupyter-widgets/base",
            "_view_module_version": "1.2.0",
            "_view_name": "StyleView",
            "description_width": ""
          }
        },
        "e4c01a3a68a64c44add78cd444fc6970": {
          "model_module": "@jupyter-widgets/controls",
          "model_name": "HBoxModel",
          "model_module_version": "1.5.0",
          "state": {
            "_dom_classes": [],
            "_model_module": "@jupyter-widgets/controls",
            "_model_module_version": "1.5.0",
            "_model_name": "HBoxModel",
            "_view_count": null,
            "_view_module": "@jupyter-widgets/controls",
            "_view_module_version": "1.5.0",
            "_view_name": "HBoxView",
            "box_style": "",
            "children": [
              "IPY_MODEL_ef089150a29f48439ee6253619ade0e4",
              "IPY_MODEL_ba909dc3a27c4e93880b2b7f8b8cfd5a",
              "IPY_MODEL_8949929634d9458db57f2e5e8d9565f3"
            ],
            "layout": "IPY_MODEL_6282fac483a1404287ad368aeadecda2"
          }
        },
        "ef089150a29f48439ee6253619ade0e4": {
          "model_module": "@jupyter-widgets/controls",
          "model_name": "HTMLModel",
          "model_module_version": "1.5.0",
          "state": {
            "_dom_classes": [],
            "_model_module": "@jupyter-widgets/controls",
            "_model_module_version": "1.5.0",
            "_model_name": "HTMLModel",
            "_view_count": null,
            "_view_module": "@jupyter-widgets/controls",
            "_view_module_version": "1.5.0",
            "_view_name": "HTMLView",
            "description": "",
            "description_tooltip": null,
            "layout": "IPY_MODEL_b269d03a510f4b068ee451b3fcc4317a",
            "placeholder": "​",
            "style": "IPY_MODEL_31614a982bb142b7af888b737114179b",
            "value": "Downloading: 100%"
          }
        },
        "ba909dc3a27c4e93880b2b7f8b8cfd5a": {
          "model_module": "@jupyter-widgets/controls",
          "model_name": "FloatProgressModel",
          "model_module_version": "1.5.0",
          "state": {
            "_dom_classes": [],
            "_model_module": "@jupyter-widgets/controls",
            "_model_module_version": "1.5.0",
            "_model_name": "FloatProgressModel",
            "_view_count": null,
            "_view_module": "@jupyter-widgets/controls",
            "_view_module_version": "1.5.0",
            "_view_name": "ProgressView",
            "bar_style": "success",
            "description": "",
            "description_tooltip": null,
            "layout": "IPY_MODEL_e8e38947f39242d0af3665663c75bcca",
            "max": 1340675298,
            "min": 0,
            "orientation": "horizontal",
            "style": "IPY_MODEL_9fe953f8f2714feea226f3ceaba70789",
            "value": 1340675298
          }
        },
        "8949929634d9458db57f2e5e8d9565f3": {
          "model_module": "@jupyter-widgets/controls",
          "model_name": "HTMLModel",
          "model_module_version": "1.5.0",
          "state": {
            "_dom_classes": [],
            "_model_module": "@jupyter-widgets/controls",
            "_model_module_version": "1.5.0",
            "_model_name": "HTMLModel",
            "_view_count": null,
            "_view_module": "@jupyter-widgets/controls",
            "_view_module_version": "1.5.0",
            "_view_name": "HTMLView",
            "description": "",
            "description_tooltip": null,
            "layout": "IPY_MODEL_a658949b0a144daaa60fac4037362af5",
            "placeholder": "​",
            "style": "IPY_MODEL_224fb877694642a28e9b925f679640d6",
            "value": " 1.34G/1.34G [00:35&lt;00:00, 33.0MB/s]"
          }
        },
        "6282fac483a1404287ad368aeadecda2": {
          "model_module": "@jupyter-widgets/base",
          "model_name": "LayoutModel",
          "model_module_version": "1.2.0",
          "state": {
            "_model_module": "@jupyter-widgets/base",
            "_model_module_version": "1.2.0",
            "_model_name": "LayoutModel",
            "_view_count": null,
            "_view_module": "@jupyter-widgets/base",
            "_view_module_version": "1.2.0",
            "_view_name": "LayoutView",
            "align_content": null,
            "align_items": null,
            "align_self": null,
            "border": null,
            "bottom": null,
            "display": null,
            "flex": null,
            "flex_flow": null,
            "grid_area": null,
            "grid_auto_columns": null,
            "grid_auto_flow": null,
            "grid_auto_rows": null,
            "grid_column": null,
            "grid_gap": null,
            "grid_row": null,
            "grid_template_areas": null,
            "grid_template_columns": null,
            "grid_template_rows": null,
            "height": null,
            "justify_content": null,
            "justify_items": null,
            "left": null,
            "margin": null,
            "max_height": null,
            "max_width": null,
            "min_height": null,
            "min_width": null,
            "object_fit": null,
            "object_position": null,
            "order": null,
            "overflow": null,
            "overflow_x": null,
            "overflow_y": null,
            "padding": null,
            "right": null,
            "top": null,
            "visibility": null,
            "width": null
          }
        },
        "b269d03a510f4b068ee451b3fcc4317a": {
          "model_module": "@jupyter-widgets/base",
          "model_name": "LayoutModel",
          "model_module_version": "1.2.0",
          "state": {
            "_model_module": "@jupyter-widgets/base",
            "_model_module_version": "1.2.0",
            "_model_name": "LayoutModel",
            "_view_count": null,
            "_view_module": "@jupyter-widgets/base",
            "_view_module_version": "1.2.0",
            "_view_name": "LayoutView",
            "align_content": null,
            "align_items": null,
            "align_self": null,
            "border": null,
            "bottom": null,
            "display": null,
            "flex": null,
            "flex_flow": null,
            "grid_area": null,
            "grid_auto_columns": null,
            "grid_auto_flow": null,
            "grid_auto_rows": null,
            "grid_column": null,
            "grid_gap": null,
            "grid_row": null,
            "grid_template_areas": null,
            "grid_template_columns": null,
            "grid_template_rows": null,
            "height": null,
            "justify_content": null,
            "justify_items": null,
            "left": null,
            "margin": null,
            "max_height": null,
            "max_width": null,
            "min_height": null,
            "min_width": null,
            "object_fit": null,
            "object_position": null,
            "order": null,
            "overflow": null,
            "overflow_x": null,
            "overflow_y": null,
            "padding": null,
            "right": null,
            "top": null,
            "visibility": null,
            "width": null
          }
        },
        "31614a982bb142b7af888b737114179b": {
          "model_module": "@jupyter-widgets/controls",
          "model_name": "DescriptionStyleModel",
          "model_module_version": "1.5.0",
          "state": {
            "_model_module": "@jupyter-widgets/controls",
            "_model_module_version": "1.5.0",
            "_model_name": "DescriptionStyleModel",
            "_view_count": null,
            "_view_module": "@jupyter-widgets/base",
            "_view_module_version": "1.2.0",
            "_view_name": "StyleView",
            "description_width": ""
          }
        },
        "e8e38947f39242d0af3665663c75bcca": {
          "model_module": "@jupyter-widgets/base",
          "model_name": "LayoutModel",
          "model_module_version": "1.2.0",
          "state": {
            "_model_module": "@jupyter-widgets/base",
            "_model_module_version": "1.2.0",
            "_model_name": "LayoutModel",
            "_view_count": null,
            "_view_module": "@jupyter-widgets/base",
            "_view_module_version": "1.2.0",
            "_view_name": "LayoutView",
            "align_content": null,
            "align_items": null,
            "align_self": null,
            "border": null,
            "bottom": null,
            "display": null,
            "flex": null,
            "flex_flow": null,
            "grid_area": null,
            "grid_auto_columns": null,
            "grid_auto_flow": null,
            "grid_auto_rows": null,
            "grid_column": null,
            "grid_gap": null,
            "grid_row": null,
            "grid_template_areas": null,
            "grid_template_columns": null,
            "grid_template_rows": null,
            "height": null,
            "justify_content": null,
            "justify_items": null,
            "left": null,
            "margin": null,
            "max_height": null,
            "max_width": null,
            "min_height": null,
            "min_width": null,
            "object_fit": null,
            "object_position": null,
            "order": null,
            "overflow": null,
            "overflow_x": null,
            "overflow_y": null,
            "padding": null,
            "right": null,
            "top": null,
            "visibility": null,
            "width": null
          }
        },
        "9fe953f8f2714feea226f3ceaba70789": {
          "model_module": "@jupyter-widgets/controls",
          "model_name": "ProgressStyleModel",
          "model_module_version": "1.5.0",
          "state": {
            "_model_module": "@jupyter-widgets/controls",
            "_model_module_version": "1.5.0",
            "_model_name": "ProgressStyleModel",
            "_view_count": null,
            "_view_module": "@jupyter-widgets/base",
            "_view_module_version": "1.2.0",
            "_view_name": "StyleView",
            "bar_color": null,
            "description_width": ""
          }
        },
        "a658949b0a144daaa60fac4037362af5": {
          "model_module": "@jupyter-widgets/base",
          "model_name": "LayoutModel",
          "model_module_version": "1.2.0",
          "state": {
            "_model_module": "@jupyter-widgets/base",
            "_model_module_version": "1.2.0",
            "_model_name": "LayoutModel",
            "_view_count": null,
            "_view_module": "@jupyter-widgets/base",
            "_view_module_version": "1.2.0",
            "_view_name": "LayoutView",
            "align_content": null,
            "align_items": null,
            "align_self": null,
            "border": null,
            "bottom": null,
            "display": null,
            "flex": null,
            "flex_flow": null,
            "grid_area": null,
            "grid_auto_columns": null,
            "grid_auto_flow": null,
            "grid_auto_rows": null,
            "grid_column": null,
            "grid_gap": null,
            "grid_row": null,
            "grid_template_areas": null,
            "grid_template_columns": null,
            "grid_template_rows": null,
            "height": null,
            "justify_content": null,
            "justify_items": null,
            "left": null,
            "margin": null,
            "max_height": null,
            "max_width": null,
            "min_height": null,
            "min_width": null,
            "object_fit": null,
            "object_position": null,
            "order": null,
            "overflow": null,
            "overflow_x": null,
            "overflow_y": null,
            "padding": null,
            "right": null,
            "top": null,
            "visibility": null,
            "width": null
          }
        },
        "224fb877694642a28e9b925f679640d6": {
          "model_module": "@jupyter-widgets/controls",
          "model_name": "DescriptionStyleModel",
          "model_module_version": "1.5.0",
          "state": {
            "_model_module": "@jupyter-widgets/controls",
            "_model_module_version": "1.5.0",
            "_model_name": "DescriptionStyleModel",
            "_view_count": null,
            "_view_module": "@jupyter-widgets/base",
            "_view_module_version": "1.2.0",
            "_view_name": "StyleView",
            "description_width": ""
          }
        },
        "ab37bb8afb2743bab54497d8ddbe82c0": {
          "model_module": "@jupyter-widgets/controls",
          "model_name": "HBoxModel",
          "model_module_version": "1.5.0",
          "state": {
            "_dom_classes": [],
            "_model_module": "@jupyter-widgets/controls",
            "_model_module_version": "1.5.0",
            "_model_name": "HBoxModel",
            "_view_count": null,
            "_view_module": "@jupyter-widgets/controls",
            "_view_module_version": "1.5.0",
            "_view_name": "HBoxView",
            "box_style": "",
            "children": [
              "IPY_MODEL_3dbe2bc21fd346d8a4feea3ebe080113",
              "IPY_MODEL_d18c549751794eb0bf4b359a79ea1cd4",
              "IPY_MODEL_cdcc9ffb433e4d40b4c10fc6ba93e77b"
            ],
            "layout": "IPY_MODEL_e8e84f0c00dc4221ad1a0fac88eaac4b"
          }
        },
        "3dbe2bc21fd346d8a4feea3ebe080113": {
          "model_module": "@jupyter-widgets/controls",
          "model_name": "HTMLModel",
          "model_module_version": "1.5.0",
          "state": {
            "_dom_classes": [],
            "_model_module": "@jupyter-widgets/controls",
            "_model_module_version": "1.5.0",
            "_model_name": "HTMLModel",
            "_view_count": null,
            "_view_module": "@jupyter-widgets/controls",
            "_view_module_version": "1.5.0",
            "_view_name": "HTMLView",
            "description": "",
            "description_tooltip": null,
            "layout": "IPY_MODEL_470b937bb7794cf2be8f9c5af05164c0",
            "placeholder": "​",
            "style": "IPY_MODEL_0086dbaf98b24daab636d3cf9cae567c",
            "value": "Downloading: 100%"
          }
        },
        "d18c549751794eb0bf4b359a79ea1cd4": {
          "model_module": "@jupyter-widgets/controls",
          "model_name": "FloatProgressModel",
          "model_module_version": "1.5.0",
          "state": {
            "_dom_classes": [],
            "_model_module": "@jupyter-widgets/controls",
            "_model_module_version": "1.5.0",
            "_model_name": "FloatProgressModel",
            "_view_count": null,
            "_view_module": "@jupyter-widgets/controls",
            "_view_module_version": "1.5.0",
            "_view_name": "ProgressView",
            "bar_style": "success",
            "description": "",
            "description_tooltip": null,
            "layout": "IPY_MODEL_ade864653d0846d39b53eaee88e9e43d",
            "max": 231508,
            "min": 0,
            "orientation": "horizontal",
            "style": "IPY_MODEL_e46473e033cf4b45adb6e61078ec0a94",
            "value": 231508
          }
        },
        "cdcc9ffb433e4d40b4c10fc6ba93e77b": {
          "model_module": "@jupyter-widgets/controls",
          "model_name": "HTMLModel",
          "model_module_version": "1.5.0",
          "state": {
            "_dom_classes": [],
            "_model_module": "@jupyter-widgets/controls",
            "_model_module_version": "1.5.0",
            "_model_name": "HTMLModel",
            "_view_count": null,
            "_view_module": "@jupyter-widgets/controls",
            "_view_module_version": "1.5.0",
            "_view_name": "HTMLView",
            "description": "",
            "description_tooltip": null,
            "layout": "IPY_MODEL_5ef9dc629445463c9f3f3462eccfd886",
            "placeholder": "​",
            "style": "IPY_MODEL_1699c3a621044e34b34e9791f75e5b39",
            "value": " 232k/232k [00:00&lt;00:00, 959kB/s]"
          }
        },
        "e8e84f0c00dc4221ad1a0fac88eaac4b": {
          "model_module": "@jupyter-widgets/base",
          "model_name": "LayoutModel",
          "model_module_version": "1.2.0",
          "state": {
            "_model_module": "@jupyter-widgets/base",
            "_model_module_version": "1.2.0",
            "_model_name": "LayoutModel",
            "_view_count": null,
            "_view_module": "@jupyter-widgets/base",
            "_view_module_version": "1.2.0",
            "_view_name": "LayoutView",
            "align_content": null,
            "align_items": null,
            "align_self": null,
            "border": null,
            "bottom": null,
            "display": null,
            "flex": null,
            "flex_flow": null,
            "grid_area": null,
            "grid_auto_columns": null,
            "grid_auto_flow": null,
            "grid_auto_rows": null,
            "grid_column": null,
            "grid_gap": null,
            "grid_row": null,
            "grid_template_areas": null,
            "grid_template_columns": null,
            "grid_template_rows": null,
            "height": null,
            "justify_content": null,
            "justify_items": null,
            "left": null,
            "margin": null,
            "max_height": null,
            "max_width": null,
            "min_height": null,
            "min_width": null,
            "object_fit": null,
            "object_position": null,
            "order": null,
            "overflow": null,
            "overflow_x": null,
            "overflow_y": null,
            "padding": null,
            "right": null,
            "top": null,
            "visibility": null,
            "width": null
          }
        },
        "470b937bb7794cf2be8f9c5af05164c0": {
          "model_module": "@jupyter-widgets/base",
          "model_name": "LayoutModel",
          "model_module_version": "1.2.0",
          "state": {
            "_model_module": "@jupyter-widgets/base",
            "_model_module_version": "1.2.0",
            "_model_name": "LayoutModel",
            "_view_count": null,
            "_view_module": "@jupyter-widgets/base",
            "_view_module_version": "1.2.0",
            "_view_name": "LayoutView",
            "align_content": null,
            "align_items": null,
            "align_self": null,
            "border": null,
            "bottom": null,
            "display": null,
            "flex": null,
            "flex_flow": null,
            "grid_area": null,
            "grid_auto_columns": null,
            "grid_auto_flow": null,
            "grid_auto_rows": null,
            "grid_column": null,
            "grid_gap": null,
            "grid_row": null,
            "grid_template_areas": null,
            "grid_template_columns": null,
            "grid_template_rows": null,
            "height": null,
            "justify_content": null,
            "justify_items": null,
            "left": null,
            "margin": null,
            "max_height": null,
            "max_width": null,
            "min_height": null,
            "min_width": null,
            "object_fit": null,
            "object_position": null,
            "order": null,
            "overflow": null,
            "overflow_x": null,
            "overflow_y": null,
            "padding": null,
            "right": null,
            "top": null,
            "visibility": null,
            "width": null
          }
        },
        "0086dbaf98b24daab636d3cf9cae567c": {
          "model_module": "@jupyter-widgets/controls",
          "model_name": "DescriptionStyleModel",
          "model_module_version": "1.5.0",
          "state": {
            "_model_module": "@jupyter-widgets/controls",
            "_model_module_version": "1.5.0",
            "_model_name": "DescriptionStyleModel",
            "_view_count": null,
            "_view_module": "@jupyter-widgets/base",
            "_view_module_version": "1.2.0",
            "_view_name": "StyleView",
            "description_width": ""
          }
        },
        "ade864653d0846d39b53eaee88e9e43d": {
          "model_module": "@jupyter-widgets/base",
          "model_name": "LayoutModel",
          "model_module_version": "1.2.0",
          "state": {
            "_model_module": "@jupyter-widgets/base",
            "_model_module_version": "1.2.0",
            "_model_name": "LayoutModel",
            "_view_count": null,
            "_view_module": "@jupyter-widgets/base",
            "_view_module_version": "1.2.0",
            "_view_name": "LayoutView",
            "align_content": null,
            "align_items": null,
            "align_self": null,
            "border": null,
            "bottom": null,
            "display": null,
            "flex": null,
            "flex_flow": null,
            "grid_area": null,
            "grid_auto_columns": null,
            "grid_auto_flow": null,
            "grid_auto_rows": null,
            "grid_column": null,
            "grid_gap": null,
            "grid_row": null,
            "grid_template_areas": null,
            "grid_template_columns": null,
            "grid_template_rows": null,
            "height": null,
            "justify_content": null,
            "justify_items": null,
            "left": null,
            "margin": null,
            "max_height": null,
            "max_width": null,
            "min_height": null,
            "min_width": null,
            "object_fit": null,
            "object_position": null,
            "order": null,
            "overflow": null,
            "overflow_x": null,
            "overflow_y": null,
            "padding": null,
            "right": null,
            "top": null,
            "visibility": null,
            "width": null
          }
        },
        "e46473e033cf4b45adb6e61078ec0a94": {
          "model_module": "@jupyter-widgets/controls",
          "model_name": "ProgressStyleModel",
          "model_module_version": "1.5.0",
          "state": {
            "_model_module": "@jupyter-widgets/controls",
            "_model_module_version": "1.5.0",
            "_model_name": "ProgressStyleModel",
            "_view_count": null,
            "_view_module": "@jupyter-widgets/base",
            "_view_module_version": "1.2.0",
            "_view_name": "StyleView",
            "bar_color": null,
            "description_width": ""
          }
        },
        "5ef9dc629445463c9f3f3462eccfd886": {
          "model_module": "@jupyter-widgets/base",
          "model_name": "LayoutModel",
          "model_module_version": "1.2.0",
          "state": {
            "_model_module": "@jupyter-widgets/base",
            "_model_module_version": "1.2.0",
            "_model_name": "LayoutModel",
            "_view_count": null,
            "_view_module": "@jupyter-widgets/base",
            "_view_module_version": "1.2.0",
            "_view_name": "LayoutView",
            "align_content": null,
            "align_items": null,
            "align_self": null,
            "border": null,
            "bottom": null,
            "display": null,
            "flex": null,
            "flex_flow": null,
            "grid_area": null,
            "grid_auto_columns": null,
            "grid_auto_flow": null,
            "grid_auto_rows": null,
            "grid_column": null,
            "grid_gap": null,
            "grid_row": null,
            "grid_template_areas": null,
            "grid_template_columns": null,
            "grid_template_rows": null,
            "height": null,
            "justify_content": null,
            "justify_items": null,
            "left": null,
            "margin": null,
            "max_height": null,
            "max_width": null,
            "min_height": null,
            "min_width": null,
            "object_fit": null,
            "object_position": null,
            "order": null,
            "overflow": null,
            "overflow_x": null,
            "overflow_y": null,
            "padding": null,
            "right": null,
            "top": null,
            "visibility": null,
            "width": null
          }
        },
        "1699c3a621044e34b34e9791f75e5b39": {
          "model_module": "@jupyter-widgets/controls",
          "model_name": "DescriptionStyleModel",
          "model_module_version": "1.5.0",
          "state": {
            "_model_module": "@jupyter-widgets/controls",
            "_model_module_version": "1.5.0",
            "_model_name": "DescriptionStyleModel",
            "_view_count": null,
            "_view_module": "@jupyter-widgets/base",
            "_view_module_version": "1.2.0",
            "_view_name": "StyleView",
            "description_width": ""
          }
        }
      }
    }
  },
  "cells": [
    {
      "cell_type": "markdown",
      "metadata": {
        "id": "view-in-github",
        "colab_type": "text"
      },
      "source": [
        "<a href=\"https://colab.research.google.com/github/Sonu2252/Abhi/blob/master/BERT_Embedding_Extracting_Sentiment_Q%26A_pynb.ipynb\" target=\"_parent\"><img src=\"https://colab.research.google.com/assets/colab-badge.svg\" alt=\"Open In Colab\"/></a>"
      ]
    },
    {
      "cell_type": "code",
      "execution_count": 1,
      "metadata": {
        "colab": {
          "base_uri": "https://localhost:8080/"
        },
        "id": "Uxai_Oji_bkj",
        "outputId": "09819ddd-936b-4854-9c3f-c48fa67c4b91"
      },
      "outputs": [
        {
          "output_type": "stream",
          "name": "stdout",
          "text": [
            "Collecting transformers==3.5.1\n",
            "  Downloading transformers-3.5.1-py3-none-any.whl (1.3 MB)\n",
            "\u001b[K     |████████████████████████████████| 1.3 MB 5.0 MB/s \n",
            "\u001b[?25hRequirement already satisfied: tqdm>=4.27 in /usr/local/lib/python3.7/dist-packages (from transformers==3.5.1) (4.64.0)\n",
            "Requirement already satisfied: protobuf in /usr/local/lib/python3.7/dist-packages (from transformers==3.5.1) (3.17.3)\n",
            "Requirement already satisfied: filelock in /usr/local/lib/python3.7/dist-packages (from transformers==3.5.1) (3.7.0)\n",
            "Collecting tokenizers==0.9.3\n",
            "  Downloading tokenizers-0.9.3-cp37-cp37m-manylinux1_x86_64.whl (2.9 MB)\n",
            "\u001b[K     |████████████████████████████████| 2.9 MB 35.6 MB/s \n",
            "\u001b[?25hRequirement already satisfied: packaging in /usr/local/lib/python3.7/dist-packages (from transformers==3.5.1) (21.3)\n",
            "Collecting sentencepiece==0.1.91\n",
            "  Downloading sentencepiece-0.1.91-cp37-cp37m-manylinux1_x86_64.whl (1.1 MB)\n",
            "\u001b[K     |████████████████████████████████| 1.1 MB 31.7 MB/s \n",
            "\u001b[?25hRequirement already satisfied: requests in /usr/local/lib/python3.7/dist-packages (from transformers==3.5.1) (2.23.0)\n",
            "Collecting sacremoses\n",
            "  Downloading sacremoses-0.0.53.tar.gz (880 kB)\n",
            "\u001b[K     |████████████████████████████████| 880 kB 46.9 MB/s \n",
            "\u001b[?25hRequirement already satisfied: numpy in /usr/local/lib/python3.7/dist-packages (from transformers==3.5.1) (1.21.6)\n",
            "Requirement already satisfied: regex!=2019.12.17 in /usr/local/lib/python3.7/dist-packages (from transformers==3.5.1) (2019.12.20)\n",
            "Requirement already satisfied: pyparsing!=3.0.5,>=2.0.2 in /usr/local/lib/python3.7/dist-packages (from packaging->transformers==3.5.1) (3.0.9)\n",
            "Requirement already satisfied: six>=1.9 in /usr/local/lib/python3.7/dist-packages (from protobuf->transformers==3.5.1) (1.15.0)\n",
            "Requirement already satisfied: urllib3!=1.25.0,!=1.25.1,<1.26,>=1.21.1 in /usr/local/lib/python3.7/dist-packages (from requests->transformers==3.5.1) (1.24.3)\n",
            "Requirement already satisfied: chardet<4,>=3.0.2 in /usr/local/lib/python3.7/dist-packages (from requests->transformers==3.5.1) (3.0.4)\n",
            "Requirement already satisfied: idna<3,>=2.5 in /usr/local/lib/python3.7/dist-packages (from requests->transformers==3.5.1) (2.10)\n",
            "Requirement already satisfied: certifi>=2017.4.17 in /usr/local/lib/python3.7/dist-packages (from requests->transformers==3.5.1) (2021.10.8)\n",
            "Requirement already satisfied: click in /usr/local/lib/python3.7/dist-packages (from sacremoses->transformers==3.5.1) (7.1.2)\n",
            "Requirement already satisfied: joblib in /usr/local/lib/python3.7/dist-packages (from sacremoses->transformers==3.5.1) (1.1.0)\n",
            "Building wheels for collected packages: sacremoses\n",
            "  Building wheel for sacremoses (setup.py) ... \u001b[?25l\u001b[?25hdone\n",
            "  Created wheel for sacremoses: filename=sacremoses-0.0.53-py3-none-any.whl size=895260 sha256=56c05f4587f704ba7fec224881c078fb4dd60b816466dadd374ad1d53c3d02e3\n",
            "  Stored in directory: /root/.cache/pip/wheels/87/39/dd/a83eeef36d0bf98e7a4d1933a4ad2d660295a40613079bafc9\n",
            "Successfully built sacremoses\n",
            "Installing collected packages: tokenizers, sentencepiece, sacremoses, transformers\n",
            "Successfully installed sacremoses-0.0.53 sentencepiece-0.1.91 tokenizers-0.9.3 transformers-3.5.1\n"
          ]
        }
      ],
      "source": [
        "pip install transformers==3.5.1"
      ]
    },
    {
      "cell_type": "code",
      "source": [
        "!pip install torch==1.4.0"
      ],
      "metadata": {
        "colab": {
          "base_uri": "https://localhost:8080/"
        },
        "id": "yZ9B-oz9CTsl",
        "outputId": "b9e64e7a-a9ef-4ad7-fa06-2d9b13a022ec"
      },
      "execution_count": 2,
      "outputs": [
        {
          "output_type": "stream",
          "name": "stdout",
          "text": [
            "Collecting torch==1.4.0\n",
            "  Downloading torch-1.4.0-cp37-cp37m-manylinux1_x86_64.whl (753.4 MB)\n",
            "\u001b[K     |████████████████████████████████| 753.4 MB 4.8 kB/s \n",
            "\u001b[?25hInstalling collected packages: torch\n",
            "  Attempting uninstall: torch\n",
            "    Found existing installation: torch 1.11.0+cu113\n",
            "    Uninstalling torch-1.11.0+cu113:\n",
            "      Successfully uninstalled torch-1.11.0+cu113\n",
            "\u001b[31mERROR: pip's dependency resolver does not currently take into account all the packages that are installed. This behaviour is the source of the following dependency conflicts.\n",
            "torchvision 0.12.0+cu113 requires torch==1.11.0, but you have torch 1.4.0 which is incompatible.\n",
            "torchtext 0.12.0 requires torch==1.11.0, but you have torch 1.4.0 which is incompatible.\n",
            "torchaudio 0.11.0+cu113 requires torch==1.11.0, but you have torch 1.4.0 which is incompatible.\u001b[0m\n",
            "Successfully installed torch-1.4.0\n"
          ]
        }
      ]
    },
    {
      "cell_type": "code",
      "source": [
        "import torch"
      ],
      "metadata": {
        "id": "q3Z1v7eDA7nO"
      },
      "execution_count": 3,
      "outputs": []
    },
    {
      "cell_type": "code",
      "source": [
        "from transformers import BertModel, BertTokenizer\n"
      ],
      "metadata": {
        "id": "2ctwrwQ9_jz7"
      },
      "execution_count": 4,
      "outputs": []
    },
    {
      "cell_type": "code",
      "source": [
        "model = BertModel.from_pretrained('bert-base-uncased')"
      ],
      "metadata": {
        "colab": {
          "base_uri": "https://localhost:8080/",
          "height": 81,
          "referenced_widgets": [
            "6c2184e429a24237906efff2d582ca5d",
            "950fa872b5ad47a998902e0949958e4f",
            "0d2eb676e4414eae832302231003d3c0",
            "c1e1b68a6fed4a5b9c00f1168adbfdaa",
            "9bbe4acf4b9141b18501382b76a3966d",
            "beaf9ec782c7449cbe0230525ead2def",
            "196928a315de458d88a389fa53261d31",
            "1aa366fce0f94c6090f75b008270a8d1",
            "10af97241b134341b34d7e75777f5da5",
            "d7be27ce546e49b985302570440bbd0d",
            "eeef9fd4eb444c29b086fa63e73a7279",
            "c2e2e03a1c1a4e64b831681b5643ddaa",
            "376433ec316440a7882e0f4708526e9b",
            "b6d0c472e6c448f0b82c2ce99d071a11",
            "97e8913bb0224f1b928349d155dbe334",
            "d499fd066c9e4fc799007685aa569b37",
            "3e2842a3c3b3472a80e8aeff02e87479",
            "c9cd200233e04017a52c4512985cb036",
            "93a372c2afae4f8baab495a5fe7002a3",
            "f9b5a7a248e645b69dd1b0794c719e4c",
            "476ba4f1d70e44aa9616690fe7ef6978",
            "82e781cf7cbf4b0dbb26926d34e2ffbf"
          ]
        },
        "id": "IFEz7Q1N_tkV",
        "outputId": "4d5b7c77-bf4e-4e97-fffe-b05faa1912cc"
      },
      "execution_count": 5,
      "outputs": [
        {
          "output_type": "display_data",
          "data": {
            "text/plain": [
              "Downloading:   0%|          | 0.00/570 [00:00<?, ?B/s]"
            ],
            "application/vnd.jupyter.widget-view+json": {
              "version_major": 2,
              "version_minor": 0,
              "model_id": "6c2184e429a24237906efff2d582ca5d"
            }
          },
          "metadata": {}
        },
        {
          "output_type": "display_data",
          "data": {
            "text/plain": [
              "Downloading:   0%|          | 0.00/440M [00:00<?, ?B/s]"
            ],
            "application/vnd.jupyter.widget-view+json": {
              "version_major": 2,
              "version_minor": 0,
              "model_id": "c2e2e03a1c1a4e64b831681b5643ddaa"
            }
          },
          "metadata": {}
        }
      ]
    },
    {
      "cell_type": "code",
      "source": [
        "model"
      ],
      "metadata": {
        "colab": {
          "base_uri": "https://localhost:8080/"
        },
        "id": "rW0ZSHwtC_7X",
        "outputId": "8235d7e4-b013-4ea8-d75e-e93a478b7f34"
      },
      "execution_count": 6,
      "outputs": [
        {
          "output_type": "execute_result",
          "data": {
            "text/plain": [
              "BertModel(\n",
              "  (embeddings): BertEmbeddings(\n",
              "    (word_embeddings): Embedding(30522, 768, padding_idx=0)\n",
              "    (position_embeddings): Embedding(512, 768)\n",
              "    (token_type_embeddings): Embedding(2, 768)\n",
              "    (LayerNorm): LayerNorm((768,), eps=1e-12, elementwise_affine=True)\n",
              "    (dropout): Dropout(p=0.1, inplace=False)\n",
              "  )\n",
              "  (encoder): BertEncoder(\n",
              "    (layer): ModuleList(\n",
              "      (0): BertLayer(\n",
              "        (attention): BertAttention(\n",
              "          (self): BertSelfAttention(\n",
              "            (query): Linear(in_features=768, out_features=768, bias=True)\n",
              "            (key): Linear(in_features=768, out_features=768, bias=True)\n",
              "            (value): Linear(in_features=768, out_features=768, bias=True)\n",
              "            (dropout): Dropout(p=0.1, inplace=False)\n",
              "          )\n",
              "          (output): BertSelfOutput(\n",
              "            (dense): Linear(in_features=768, out_features=768, bias=True)\n",
              "            (LayerNorm): LayerNorm((768,), eps=1e-12, elementwise_affine=True)\n",
              "            (dropout): Dropout(p=0.1, inplace=False)\n",
              "          )\n",
              "        )\n",
              "        (intermediate): BertIntermediate(\n",
              "          (dense): Linear(in_features=768, out_features=3072, bias=True)\n",
              "        )\n",
              "        (output): BertOutput(\n",
              "          (dense): Linear(in_features=3072, out_features=768, bias=True)\n",
              "          (LayerNorm): LayerNorm((768,), eps=1e-12, elementwise_affine=True)\n",
              "          (dropout): Dropout(p=0.1, inplace=False)\n",
              "        )\n",
              "      )\n",
              "      (1): BertLayer(\n",
              "        (attention): BertAttention(\n",
              "          (self): BertSelfAttention(\n",
              "            (query): Linear(in_features=768, out_features=768, bias=True)\n",
              "            (key): Linear(in_features=768, out_features=768, bias=True)\n",
              "            (value): Linear(in_features=768, out_features=768, bias=True)\n",
              "            (dropout): Dropout(p=0.1, inplace=False)\n",
              "          )\n",
              "          (output): BertSelfOutput(\n",
              "            (dense): Linear(in_features=768, out_features=768, bias=True)\n",
              "            (LayerNorm): LayerNorm((768,), eps=1e-12, elementwise_affine=True)\n",
              "            (dropout): Dropout(p=0.1, inplace=False)\n",
              "          )\n",
              "        )\n",
              "        (intermediate): BertIntermediate(\n",
              "          (dense): Linear(in_features=768, out_features=3072, bias=True)\n",
              "        )\n",
              "        (output): BertOutput(\n",
              "          (dense): Linear(in_features=3072, out_features=768, bias=True)\n",
              "          (LayerNorm): LayerNorm((768,), eps=1e-12, elementwise_affine=True)\n",
              "          (dropout): Dropout(p=0.1, inplace=False)\n",
              "        )\n",
              "      )\n",
              "      (2): BertLayer(\n",
              "        (attention): BertAttention(\n",
              "          (self): BertSelfAttention(\n",
              "            (query): Linear(in_features=768, out_features=768, bias=True)\n",
              "            (key): Linear(in_features=768, out_features=768, bias=True)\n",
              "            (value): Linear(in_features=768, out_features=768, bias=True)\n",
              "            (dropout): Dropout(p=0.1, inplace=False)\n",
              "          )\n",
              "          (output): BertSelfOutput(\n",
              "            (dense): Linear(in_features=768, out_features=768, bias=True)\n",
              "            (LayerNorm): LayerNorm((768,), eps=1e-12, elementwise_affine=True)\n",
              "            (dropout): Dropout(p=0.1, inplace=False)\n",
              "          )\n",
              "        )\n",
              "        (intermediate): BertIntermediate(\n",
              "          (dense): Linear(in_features=768, out_features=3072, bias=True)\n",
              "        )\n",
              "        (output): BertOutput(\n",
              "          (dense): Linear(in_features=3072, out_features=768, bias=True)\n",
              "          (LayerNorm): LayerNorm((768,), eps=1e-12, elementwise_affine=True)\n",
              "          (dropout): Dropout(p=0.1, inplace=False)\n",
              "        )\n",
              "      )\n",
              "      (3): BertLayer(\n",
              "        (attention): BertAttention(\n",
              "          (self): BertSelfAttention(\n",
              "            (query): Linear(in_features=768, out_features=768, bias=True)\n",
              "            (key): Linear(in_features=768, out_features=768, bias=True)\n",
              "            (value): Linear(in_features=768, out_features=768, bias=True)\n",
              "            (dropout): Dropout(p=0.1, inplace=False)\n",
              "          )\n",
              "          (output): BertSelfOutput(\n",
              "            (dense): Linear(in_features=768, out_features=768, bias=True)\n",
              "            (LayerNorm): LayerNorm((768,), eps=1e-12, elementwise_affine=True)\n",
              "            (dropout): Dropout(p=0.1, inplace=False)\n",
              "          )\n",
              "        )\n",
              "        (intermediate): BertIntermediate(\n",
              "          (dense): Linear(in_features=768, out_features=3072, bias=True)\n",
              "        )\n",
              "        (output): BertOutput(\n",
              "          (dense): Linear(in_features=3072, out_features=768, bias=True)\n",
              "          (LayerNorm): LayerNorm((768,), eps=1e-12, elementwise_affine=True)\n",
              "          (dropout): Dropout(p=0.1, inplace=False)\n",
              "        )\n",
              "      )\n",
              "      (4): BertLayer(\n",
              "        (attention): BertAttention(\n",
              "          (self): BertSelfAttention(\n",
              "            (query): Linear(in_features=768, out_features=768, bias=True)\n",
              "            (key): Linear(in_features=768, out_features=768, bias=True)\n",
              "            (value): Linear(in_features=768, out_features=768, bias=True)\n",
              "            (dropout): Dropout(p=0.1, inplace=False)\n",
              "          )\n",
              "          (output): BertSelfOutput(\n",
              "            (dense): Linear(in_features=768, out_features=768, bias=True)\n",
              "            (LayerNorm): LayerNorm((768,), eps=1e-12, elementwise_affine=True)\n",
              "            (dropout): Dropout(p=0.1, inplace=False)\n",
              "          )\n",
              "        )\n",
              "        (intermediate): BertIntermediate(\n",
              "          (dense): Linear(in_features=768, out_features=3072, bias=True)\n",
              "        )\n",
              "        (output): BertOutput(\n",
              "          (dense): Linear(in_features=3072, out_features=768, bias=True)\n",
              "          (LayerNorm): LayerNorm((768,), eps=1e-12, elementwise_affine=True)\n",
              "          (dropout): Dropout(p=0.1, inplace=False)\n",
              "        )\n",
              "      )\n",
              "      (5): BertLayer(\n",
              "        (attention): BertAttention(\n",
              "          (self): BertSelfAttention(\n",
              "            (query): Linear(in_features=768, out_features=768, bias=True)\n",
              "            (key): Linear(in_features=768, out_features=768, bias=True)\n",
              "            (value): Linear(in_features=768, out_features=768, bias=True)\n",
              "            (dropout): Dropout(p=0.1, inplace=False)\n",
              "          )\n",
              "          (output): BertSelfOutput(\n",
              "            (dense): Linear(in_features=768, out_features=768, bias=True)\n",
              "            (LayerNorm): LayerNorm((768,), eps=1e-12, elementwise_affine=True)\n",
              "            (dropout): Dropout(p=0.1, inplace=False)\n",
              "          )\n",
              "        )\n",
              "        (intermediate): BertIntermediate(\n",
              "          (dense): Linear(in_features=768, out_features=3072, bias=True)\n",
              "        )\n",
              "        (output): BertOutput(\n",
              "          (dense): Linear(in_features=3072, out_features=768, bias=True)\n",
              "          (LayerNorm): LayerNorm((768,), eps=1e-12, elementwise_affine=True)\n",
              "          (dropout): Dropout(p=0.1, inplace=False)\n",
              "        )\n",
              "      )\n",
              "      (6): BertLayer(\n",
              "        (attention): BertAttention(\n",
              "          (self): BertSelfAttention(\n",
              "            (query): Linear(in_features=768, out_features=768, bias=True)\n",
              "            (key): Linear(in_features=768, out_features=768, bias=True)\n",
              "            (value): Linear(in_features=768, out_features=768, bias=True)\n",
              "            (dropout): Dropout(p=0.1, inplace=False)\n",
              "          )\n",
              "          (output): BertSelfOutput(\n",
              "            (dense): Linear(in_features=768, out_features=768, bias=True)\n",
              "            (LayerNorm): LayerNorm((768,), eps=1e-12, elementwise_affine=True)\n",
              "            (dropout): Dropout(p=0.1, inplace=False)\n",
              "          )\n",
              "        )\n",
              "        (intermediate): BertIntermediate(\n",
              "          (dense): Linear(in_features=768, out_features=3072, bias=True)\n",
              "        )\n",
              "        (output): BertOutput(\n",
              "          (dense): Linear(in_features=3072, out_features=768, bias=True)\n",
              "          (LayerNorm): LayerNorm((768,), eps=1e-12, elementwise_affine=True)\n",
              "          (dropout): Dropout(p=0.1, inplace=False)\n",
              "        )\n",
              "      )\n",
              "      (7): BertLayer(\n",
              "        (attention): BertAttention(\n",
              "          (self): BertSelfAttention(\n",
              "            (query): Linear(in_features=768, out_features=768, bias=True)\n",
              "            (key): Linear(in_features=768, out_features=768, bias=True)\n",
              "            (value): Linear(in_features=768, out_features=768, bias=True)\n",
              "            (dropout): Dropout(p=0.1, inplace=False)\n",
              "          )\n",
              "          (output): BertSelfOutput(\n",
              "            (dense): Linear(in_features=768, out_features=768, bias=True)\n",
              "            (LayerNorm): LayerNorm((768,), eps=1e-12, elementwise_affine=True)\n",
              "            (dropout): Dropout(p=0.1, inplace=False)\n",
              "          )\n",
              "        )\n",
              "        (intermediate): BertIntermediate(\n",
              "          (dense): Linear(in_features=768, out_features=3072, bias=True)\n",
              "        )\n",
              "        (output): BertOutput(\n",
              "          (dense): Linear(in_features=3072, out_features=768, bias=True)\n",
              "          (LayerNorm): LayerNorm((768,), eps=1e-12, elementwise_affine=True)\n",
              "          (dropout): Dropout(p=0.1, inplace=False)\n",
              "        )\n",
              "      )\n",
              "      (8): BertLayer(\n",
              "        (attention): BertAttention(\n",
              "          (self): BertSelfAttention(\n",
              "            (query): Linear(in_features=768, out_features=768, bias=True)\n",
              "            (key): Linear(in_features=768, out_features=768, bias=True)\n",
              "            (value): Linear(in_features=768, out_features=768, bias=True)\n",
              "            (dropout): Dropout(p=0.1, inplace=False)\n",
              "          )\n",
              "          (output): BertSelfOutput(\n",
              "            (dense): Linear(in_features=768, out_features=768, bias=True)\n",
              "            (LayerNorm): LayerNorm((768,), eps=1e-12, elementwise_affine=True)\n",
              "            (dropout): Dropout(p=0.1, inplace=False)\n",
              "          )\n",
              "        )\n",
              "        (intermediate): BertIntermediate(\n",
              "          (dense): Linear(in_features=768, out_features=3072, bias=True)\n",
              "        )\n",
              "        (output): BertOutput(\n",
              "          (dense): Linear(in_features=3072, out_features=768, bias=True)\n",
              "          (LayerNorm): LayerNorm((768,), eps=1e-12, elementwise_affine=True)\n",
              "          (dropout): Dropout(p=0.1, inplace=False)\n",
              "        )\n",
              "      )\n",
              "      (9): BertLayer(\n",
              "        (attention): BertAttention(\n",
              "          (self): BertSelfAttention(\n",
              "            (query): Linear(in_features=768, out_features=768, bias=True)\n",
              "            (key): Linear(in_features=768, out_features=768, bias=True)\n",
              "            (value): Linear(in_features=768, out_features=768, bias=True)\n",
              "            (dropout): Dropout(p=0.1, inplace=False)\n",
              "          )\n",
              "          (output): BertSelfOutput(\n",
              "            (dense): Linear(in_features=768, out_features=768, bias=True)\n",
              "            (LayerNorm): LayerNorm((768,), eps=1e-12, elementwise_affine=True)\n",
              "            (dropout): Dropout(p=0.1, inplace=False)\n",
              "          )\n",
              "        )\n",
              "        (intermediate): BertIntermediate(\n",
              "          (dense): Linear(in_features=768, out_features=3072, bias=True)\n",
              "        )\n",
              "        (output): BertOutput(\n",
              "          (dense): Linear(in_features=3072, out_features=768, bias=True)\n",
              "          (LayerNorm): LayerNorm((768,), eps=1e-12, elementwise_affine=True)\n",
              "          (dropout): Dropout(p=0.1, inplace=False)\n",
              "        )\n",
              "      )\n",
              "      (10): BertLayer(\n",
              "        (attention): BertAttention(\n",
              "          (self): BertSelfAttention(\n",
              "            (query): Linear(in_features=768, out_features=768, bias=True)\n",
              "            (key): Linear(in_features=768, out_features=768, bias=True)\n",
              "            (value): Linear(in_features=768, out_features=768, bias=True)\n",
              "            (dropout): Dropout(p=0.1, inplace=False)\n",
              "          )\n",
              "          (output): BertSelfOutput(\n",
              "            (dense): Linear(in_features=768, out_features=768, bias=True)\n",
              "            (LayerNorm): LayerNorm((768,), eps=1e-12, elementwise_affine=True)\n",
              "            (dropout): Dropout(p=0.1, inplace=False)\n",
              "          )\n",
              "        )\n",
              "        (intermediate): BertIntermediate(\n",
              "          (dense): Linear(in_features=768, out_features=3072, bias=True)\n",
              "        )\n",
              "        (output): BertOutput(\n",
              "          (dense): Linear(in_features=3072, out_features=768, bias=True)\n",
              "          (LayerNorm): LayerNorm((768,), eps=1e-12, elementwise_affine=True)\n",
              "          (dropout): Dropout(p=0.1, inplace=False)\n",
              "        )\n",
              "      )\n",
              "      (11): BertLayer(\n",
              "        (attention): BertAttention(\n",
              "          (self): BertSelfAttention(\n",
              "            (query): Linear(in_features=768, out_features=768, bias=True)\n",
              "            (key): Linear(in_features=768, out_features=768, bias=True)\n",
              "            (value): Linear(in_features=768, out_features=768, bias=True)\n",
              "            (dropout): Dropout(p=0.1, inplace=False)\n",
              "          )\n",
              "          (output): BertSelfOutput(\n",
              "            (dense): Linear(in_features=768, out_features=768, bias=True)\n",
              "            (LayerNorm): LayerNorm((768,), eps=1e-12, elementwise_affine=True)\n",
              "            (dropout): Dropout(p=0.1, inplace=False)\n",
              "          )\n",
              "        )\n",
              "        (intermediate): BertIntermediate(\n",
              "          (dense): Linear(in_features=768, out_features=3072, bias=True)\n",
              "        )\n",
              "        (output): BertOutput(\n",
              "          (dense): Linear(in_features=3072, out_features=768, bias=True)\n",
              "          (LayerNorm): LayerNorm((768,), eps=1e-12, elementwise_affine=True)\n",
              "          (dropout): Dropout(p=0.1, inplace=False)\n",
              "        )\n",
              "      )\n",
              "    )\n",
              "  )\n",
              "  (pooler): BertPooler(\n",
              "    (dense): Linear(in_features=768, out_features=768, bias=True)\n",
              "    (activation): Tanh()\n",
              "  )\n",
              ")"
            ]
          },
          "metadata": {},
          "execution_count": 6
        }
      ]
    },
    {
      "cell_type": "code",
      "source": [
        "tokenizer=BertTokenizer.from_pretrained('bert-base-uncased')"
      ],
      "metadata": {
        "id": "OL09YMdXDEoc",
        "colab": {
          "base_uri": "https://localhost:8080/",
          "height": 49,
          "referenced_widgets": [
            "b9f78b6acad44da29be0a78e5f6c8f1d",
            "bd473c085b8b4f55abfaf4650e84dd1a",
            "d8e98f5d2c644a61997db36067fdfcb2",
            "89c8a61e8a124946805ef5c73975cf20",
            "007d601d21374d12bf90fcbe06306011",
            "7cb49d48d3e64e8faf87f6dc700fc558",
            "d235c44422614c5f942998b921f6bb36",
            "23f8e680750b4308a2ffa7a5262c6645",
            "08b43f8a03d34699bbecf00f5a1053e2",
            "14f757bcd4e34913bc5b8a4c4d391db4",
            "1972a38474614aaba56a34245d510f2d"
          ]
        },
        "outputId": "52c00e00-86a8-43b1-8c49-e26e77cfeb72"
      },
      "execution_count": 7,
      "outputs": [
        {
          "output_type": "display_data",
          "data": {
            "text/plain": [
              "Downloading:   0%|          | 0.00/232k [00:00<?, ?B/s]"
            ],
            "application/vnd.jupyter.widget-view+json": {
              "version_major": 2,
              "version_minor": 0,
              "model_id": "b9f78b6acad44da29be0a78e5f6c8f1d"
            }
          },
          "metadata": {}
        }
      ]
    },
    {
      "cell_type": "code",
      "source": [
        "sentence = 'I love Pizza'\n",
        "tokens = tokenizer.tokenize(sentence)"
      ],
      "metadata": {
        "id": "6gQWM3FHDNfq"
      },
      "execution_count": 8,
      "outputs": []
    },
    {
      "cell_type": "code",
      "source": [
        "print(tokens)"
      ],
      "metadata": {
        "colab": {
          "base_uri": "https://localhost:8080/"
        },
        "id": "91rNhKsfDWXA",
        "outputId": "16ea9116-fcaa-4f24-f697-cc32dfa39906"
      },
      "execution_count": 9,
      "outputs": [
        {
          "output_type": "stream",
          "name": "stdout",
          "text": [
            "['i', 'love', 'pizza']\n"
          ]
        }
      ]
    },
    {
      "cell_type": "code",
      "source": [
        "tokens = ['[CLS]'] + tokens + ['[SEP]']"
      ],
      "metadata": {
        "id": "Mec4z-TyDYJ9"
      },
      "execution_count": 10,
      "outputs": []
    },
    {
      "cell_type": "code",
      "source": [
        "print(tokens)"
      ],
      "metadata": {
        "colab": {
          "base_uri": "https://localhost:8080/"
        },
        "id": "hnh8RILlDf2X",
        "outputId": "95aa78ff-9bfd-4d25-8075-456c8c1a375d"
      },
      "execution_count": 11,
      "outputs": [
        {
          "output_type": "stream",
          "name": "stdout",
          "text": [
            "['[CLS]', 'i', 'love', 'pizza', '[SEP]']\n"
          ]
        }
      ]
    },
    {
      "cell_type": "code",
      "source": [
        "tokens = tokens + ['[PAD]'] + ['[PAD]']"
      ],
      "metadata": {
        "id": "CHQafmsBDhau"
      },
      "execution_count": 12,
      "outputs": []
    },
    {
      "cell_type": "code",
      "source": [
        "print(tokens)"
      ],
      "metadata": {
        "colab": {
          "base_uri": "https://localhost:8080/"
        },
        "id": "tJ24283yDxM-",
        "outputId": "2a4921c1-e78d-4c99-c7e1-fe03021d2813"
      },
      "execution_count": 13,
      "outputs": [
        {
          "output_type": "stream",
          "name": "stdout",
          "text": [
            "['[CLS]', 'i', 'love', 'pizza', '[SEP]', '[PAD]', '[PAD]']\n"
          ]
        }
      ]
    },
    {
      "cell_type": "code",
      "source": [
        "attention_mask = [1 if i!= '[PAD]' else 0 for i in tokens]"
      ],
      "metadata": {
        "id": "vJctQe7xD0Zw"
      },
      "execution_count": 14,
      "outputs": []
    },
    {
      "cell_type": "code",
      "source": [
        "print(attention_mask)"
      ],
      "metadata": {
        "colab": {
          "base_uri": "https://localhost:8080/"
        },
        "id": "qNjvTX-dD_Ec",
        "outputId": "aef38ed0-c317-4858-cf1b-664a792e7f45"
      },
      "execution_count": 15,
      "outputs": [
        {
          "output_type": "stream",
          "name": "stdout",
          "text": [
            "[1, 1, 1, 1, 1, 0, 0]\n"
          ]
        }
      ]
    },
    {
      "cell_type": "code",
      "source": [
        "token_ids = tokenizer.convert_tokens_to_ids(tokens)"
      ],
      "metadata": {
        "id": "UVv2ewX8ECBj"
      },
      "execution_count": 16,
      "outputs": []
    },
    {
      "cell_type": "code",
      "source": [
        "print(token_ids)"
      ],
      "metadata": {
        "colab": {
          "base_uri": "https://localhost:8080/"
        },
        "id": "2hpy_jAKEIa2",
        "outputId": "6011cbd2-d116-443d-8e2f-13f179613545"
      },
      "execution_count": 17,
      "outputs": [
        {
          "output_type": "stream",
          "name": "stdout",
          "text": [
            "[101, 1045, 2293, 10733, 102, 0, 0]\n"
          ]
        }
      ]
    },
    {
      "cell_type": "code",
      "source": [
        "token_ids = torch.tensor(token_ids).unsqueeze(0)\n",
        "attention_mask = torch.tensor(attention_mask).unsqueeze(0)"
      ],
      "metadata": {
        "id": "ZrQ21ZPKEJ66"
      },
      "execution_count": 18,
      "outputs": []
    },
    {
      "cell_type": "code",
      "source": [
        "token_ids"
      ],
      "metadata": {
        "colab": {
          "base_uri": "https://localhost:8080/"
        },
        "id": "GNtlqkAcEp7v",
        "outputId": "4c4ef7c3-7b6b-4f10-95ec-48026d9af34f"
      },
      "execution_count": 19,
      "outputs": [
        {
          "output_type": "execute_result",
          "data": {
            "text/plain": [
              "tensor([[  101,  1045,  2293, 10733,   102,     0,     0]])"
            ]
          },
          "metadata": {},
          "execution_count": 19
        }
      ]
    },
    {
      "cell_type": "code",
      "source": [
        "attention_mask"
      ],
      "metadata": {
        "colab": {
          "base_uri": "https://localhost:8080/"
        },
        "id": "ngcKWm_yErOz",
        "outputId": "39e06804-2273-43bb-92ea-a0f4b2f3479d"
      },
      "execution_count": 20,
      "outputs": [
        {
          "output_type": "execute_result",
          "data": {
            "text/plain": [
              "tensor([[1, 1, 1, 1, 1, 0, 0]])"
            ]
          },
          "metadata": {},
          "execution_count": 20
        }
      ]
    },
    {
      "cell_type": "code",
      "source": [
        "hidden_rep, cls_head = model(token_ids, attention_mask = attention_mask)"
      ],
      "metadata": {
        "id": "p62uG0toEuaa"
      },
      "execution_count": 21,
      "outputs": []
    },
    {
      "cell_type": "code",
      "source": [
        "print(hidden_rep.shape)"
      ],
      "metadata": {
        "colab": {
          "base_uri": "https://localhost:8080/"
        },
        "id": "0S9v9JHSMI6N",
        "outputId": "70147bfa-f4b7-4fe8-df38-ed783ffc00e6"
      },
      "execution_count": 22,
      "outputs": [
        {
          "output_type": "stream",
          "name": "stdout",
          "text": [
            "torch.Size([1, 7, 768])\n"
          ]
        }
      ]
    },
    {
      "cell_type": "code",
      "source": [
        "print(cls_head.shape)"
      ],
      "metadata": {
        "colab": {
          "base_uri": "https://localhost:8080/"
        },
        "id": "V6QcdqA6MscZ",
        "outputId": "5c41389a-e4a8-46bc-9f02-46c0f24b353b"
      },
      "execution_count": 23,
      "outputs": [
        {
          "output_type": "stream",
          "name": "stdout",
          "text": [
            "torch.Size([1, 768])\n"
          ]
        }
      ]
    },
    {
      "cell_type": "code",
      "source": [
        "hidden_rep"
      ],
      "metadata": {
        "colab": {
          "base_uri": "https://localhost:8080/"
        },
        "id": "ZiIHPLgDNHb-",
        "outputId": "12617fb9-d363-42f0-c975-0cf08b612532"
      },
      "execution_count": 24,
      "outputs": [
        {
          "output_type": "execute_result",
          "data": {
            "text/plain": [
              "tensor([[[ 0.1382,  0.3043,  0.0631,  ..., -0.1041,  0.2224,  0.1510],\n",
              "         [ 0.3200,  0.2953, -0.1416,  ..., -0.2075,  0.8356,  0.2033],\n",
              "         [ 1.1893,  0.6508,  0.6801,  ...,  0.1086,  0.4138, -0.2404],\n",
              "         ...,\n",
              "         [ 0.6175,  0.1778, -0.0403,  ...,  0.0127, -0.5838, -0.3406],\n",
              "         [ 0.1496,  0.2934,  0.2243,  ...,  0.2741,  0.2030,  0.0692],\n",
              "         [ 0.0636,  0.0767,  0.2692,  ...,  0.3536,  0.1529,  0.0537]]],\n",
              "       grad_fn=<NativeLayerNormBackward>)"
            ]
          },
          "metadata": {},
          "execution_count": 24
        }
      ]
    },
    {
      "cell_type": "code",
      "source": [
        "cls_head"
      ],
      "metadata": {
        "colab": {
          "base_uri": "https://localhost:8080/"
        },
        "id": "X0x4FWwkNmK2",
        "outputId": "86fdf288-f912-47a6-8120-05ff8432a454"
      },
      "execution_count": 25,
      "outputs": [
        {
          "output_type": "execute_result",
          "data": {
            "text/plain": [
              "tensor([[-8.2725e-01, -2.3180e-01,  4.3839e-01,  5.4852e-01, -1.2203e-01,\n",
              "         -1.3028e-01,  8.1214e-01,  1.7054e-01,  1.3439e-01, -9.9966e-01,\n",
              "          1.5789e-01,  2.2010e-01,  9.7317e-01, -2.6980e-01,  9.1344e-01,\n",
              "         -4.1248e-01,  6.5047e-02, -4.9485e-01,  3.1212e-01, -5.5773e-01,\n",
              "          5.3245e-01,  8.3556e-01,  5.6662e-01,  2.2098e-01,  3.7355e-01,\n",
              "          3.8081e-01, -5.0410e-01,  8.9866e-01,  9.2698e-01,  6.5980e-01,\n",
              "         -5.3338e-01,  1.3397e-01, -9.7840e-01, -1.4174e-01,  4.3269e-01,\n",
              "         -9.7513e-01,  1.6087e-01, -7.5835e-01,  2.2289e-02,  8.4983e-02,\n",
              "         -8.7194e-01,  2.0918e-01,  9.9531e-01, -2.4688e-01, -1.6932e-01,\n",
              "         -2.4345e-01, -9.9964e-01,  1.6744e-01, -8.2719e-01, -2.4693e-01,\n",
              "         -2.3328e-01, -4.4108e-01,  7.0196e-02,  3.3588e-01,  3.1033e-01,\n",
              "          3.6946e-01, -1.5520e-01,  6.0225e-02, -1.2864e-01, -5.0064e-01,\n",
              "         -5.9290e-01,  2.2019e-01, -1.9665e-02, -8.5169e-01, -1.9609e-01,\n",
              "         -4.7490e-01, -1.2736e-02, -1.5758e-01, -1.2607e-02, -2.1753e-02,\n",
              "          7.7316e-01,  9.9590e-02,  3.1045e-01, -7.4157e-01, -3.9417e-01,\n",
              "          1.4021e-01, -3.8127e-01,  1.0000e+00, -2.0067e-01, -9.7088e-01,\n",
              "         -2.9589e-01, -2.1819e-01,  2.7306e-01,  5.4171e-01, -4.9328e-01,\n",
              "         -9.9997e-01,  3.3163e-01, -6.9686e-02, -9.8512e-01,  1.4474e-01,\n",
              "          3.0718e-01, -1.5414e-01, -5.7280e-01,  3.2317e-01, -1.0193e-01,\n",
              "          1.0044e-03, -1.6331e-01,  3.0428e-01, -4.9941e-02,  9.4889e-03,\n",
              "         -4.1436e-02, -8.5973e-02,  3.6130e-02, -2.4514e-01,  1.0369e-01,\n",
              "         -3.1194e-01, -3.9817e-01,  4.5200e-02, -2.4317e-01,  5.8263e-01,\n",
              "          2.3322e-01, -1.7561e-01,  2.3341e-01, -9.4122e-01,  5.2749e-01,\n",
              "         -1.9395e-01, -9.6958e-01, -3.6252e-01, -9.8216e-01,  6.0411e-01,\n",
              "          1.6718e-01, -1.8752e-01,  9.3686e-01,  5.8384e-01,  2.0550e-01,\n",
              "          5.6379e-02,  3.1697e-01, -1.0000e+00, -3.0900e-01,  1.4595e-01,\n",
              "          2.0370e-01, -5.4455e-02, -9.6369e-01, -9.2404e-01,  4.9173e-01,\n",
              "          9.2892e-01,  5.8676e-02,  9.9410e-01, -1.1970e-01,  8.9560e-01,\n",
              "          2.3795e-01,  3.5311e-02, -2.4333e-01, -3.2253e-01,  1.3487e-01,\n",
              "          9.9360e-02, -5.7165e-01,  1.7199e-01,  1.9095e-01,  2.7977e-02,\n",
              "          1.2255e-01, -1.3710e-01,  3.5448e-01, -9.0436e-01, -3.3480e-01,\n",
              "          9.1507e-01,  2.7803e-01,  3.4231e-01,  6.5725e-01, -1.4637e-01,\n",
              "         -2.0028e-01,  7.6370e-01,  6.2072e-02,  2.6411e-01,  2.6692e-02,\n",
              "          2.9731e-01, -3.0207e-01,  3.7822e-01, -7.4573e-01,  2.6024e-01,\n",
              "          3.0830e-01, -1.4027e-01,  4.7949e-01, -9.6411e-01, -2.2648e-01,\n",
              "          3.2111e-01,  9.7489e-01,  6.5230e-01,  1.1903e-01,  6.7702e-02,\n",
              "         -1.4540e-01,  2.8819e-01, -9.0964e-01,  9.6187e-01, -1.0651e-01,\n",
              "          2.1904e-01,  6.2518e-01, -1.8903e-02, -8.0007e-01, -4.4792e-01,\n",
              "          6.8309e-01, -1.7434e-01, -7.7950e-01,  8.4119e-02, -3.7805e-01,\n",
              "         -3.0859e-01,  2.6111e-01,  3.3255e-01, -2.6414e-01, -3.1702e-01,\n",
              "          1.1893e-02,  9.0090e-01,  9.0841e-01,  7.3277e-01, -5.6657e-01,\n",
              "          3.9518e-01, -8.8478e-01, -3.7756e-01,  6.4600e-02,  1.1688e-01,\n",
              "          1.4555e-01,  9.8813e-01,  2.6445e-01, -7.1422e-02, -9.0134e-01,\n",
              "         -9.7708e-01, -1.1602e-02, -8.4346e-01,  2.6818e-02, -4.9296e-01,\n",
              "          1.5543e-01,  5.8105e-01, -1.2531e-01,  2.8628e-01, -9.6977e-01,\n",
              "         -6.8313e-01,  2.3657e-01, -1.4332e-01,  2.9861e-01, -2.8372e-01,\n",
              "          5.1482e-01, -1.1488e-01, -4.8502e-01,  6.8376e-01,  8.1051e-01,\n",
              "          4.8145e-01, -6.0621e-01,  6.9736e-01, -1.8320e-01,  7.9735e-01,\n",
              "         -4.7697e-01,  9.5385e-01, -1.1210e-01,  4.9413e-01, -9.0187e-01,\n",
              "          3.2420e-01, -8.4974e-01,  2.5303e-01, -3.4038e-02, -6.6430e-01,\n",
              "         -1.3184e-01,  3.4936e-01,  2.8574e-01,  8.1037e-01, -3.8829e-01,\n",
              "          9.8865e-01, -6.0124e-01, -9.2463e-01,  1.9149e-01, -2.9382e-02,\n",
              "         -9.7727e-01, -1.4777e-01,  2.2572e-01, -6.2966e-01, -2.9785e-01,\n",
              "         -1.7987e-01, -9.4056e-01,  7.7661e-01,  3.8414e-02,  9.6358e-01,\n",
              "          8.2101e-02, -8.3505e-01, -2.5607e-01, -8.7953e-01, -2.4245e-01,\n",
              "         -2.6190e-02,  5.5698e-01, -2.2091e-01, -9.4207e-01,  3.8624e-01,\n",
              "          4.1032e-01,  3.4796e-01,  5.2364e-01,  9.9051e-01,  9.9605e-01,\n",
              "          9.6394e-01,  8.3648e-01,  8.2706e-01, -7.3329e-01, -1.9862e-01,\n",
              "          9.9981e-01, -4.3339e-01, -9.9987e-01, -9.0543e-01, -4.6062e-01,\n",
              "          1.6199e-01, -1.0000e+00, -2.9819e-02,  7.7583e-02, -8.9597e-01,\n",
              "         -4.1067e-01,  9.6527e-01,  9.7339e-01, -9.9999e-01,  7.8710e-01,\n",
              "          9.1069e-01, -3.9583e-01,  2.4380e-01, -4.7806e-02,  9.5242e-01,\n",
              "          2.3579e-01,  3.7545e-01, -8.8537e-02,  2.9427e-01,  7.9002e-02,\n",
              "         -7.1421e-01,  4.8610e-01,  3.4360e-01,  2.8403e-01,  8.1150e-02,\n",
              "         -5.3167e-01, -8.9790e-01, -2.3267e-01, -1.7694e-01, -3.5216e-01,\n",
              "         -9.3175e-01, -8.9101e-02, -2.9264e-01,  5.0377e-01,  2.0544e-02,\n",
              "          1.1438e-01, -6.9509e-01,  1.0250e-01, -7.2096e-01,  3.0642e-01,\n",
              "          4.5934e-01, -9.0317e-01, -4.8215e-01,  1.6512e-02, -4.5136e-01,\n",
              "          3.5305e-01, -9.2768e-01,  9.5454e-01, -2.2709e-01, -1.1978e-01,\n",
              "          9.9999e-01, -2.6883e-01, -8.2480e-01,  1.4796e-01,  8.5471e-02,\n",
              "          1.4867e-01,  9.9999e-01,  4.0152e-01, -9.6867e-01, -3.4593e-01,\n",
              "          2.0328e-01, -3.8423e-01, -2.9545e-01,  9.9535e-01, -2.3094e-01,\n",
              "          3.3359e-01,  5.1395e-01,  9.5899e-01, -9.8105e-01,  4.8680e-02,\n",
              "         -8.5937e-01, -9.4345e-01,  9.4747e-01,  9.1346e-01, -1.5381e-01,\n",
              "         -5.2561e-01,  5.0371e-02,  2.1133e-01,  1.5029e-01, -9.4605e-01,\n",
              "          3.9201e-01,  2.7912e-01, -1.1621e-01,  8.6997e-01, -7.2048e-01,\n",
              "         -3.3566e-01,  3.1763e-01,  5.4103e-02,  3.7809e-01, -2.2876e-01,\n",
              "          3.0766e-01, -9.3422e-02,  7.7879e-02, -2.0005e-01, -9.8046e-02,\n",
              "         -9.5621e-01, -1.2757e-01,  9.9998e-01,  6.8283e-02, -4.8248e-01,\n",
              "         -1.3061e-01, -2.1260e-02, -3.0783e-01,  2.7215e-01,  2.9249e-01,\n",
              "         -2.1573e-01, -7.4531e-01, -7.9593e-02, -8.9459e-01, -9.7491e-01,\n",
              "          5.7892e-01,  1.2291e-01, -1.7036e-01,  9.9619e-01,  1.9633e-01,\n",
              "          1.4997e-01, -6.0456e-02,  1.5938e-01, -1.1459e-01,  3.8248e-01,\n",
              "         -4.3825e-01,  9.4745e-01, -1.5327e-01,  3.1990e-01,  7.5172e-01,\n",
              "          2.2533e-01, -1.4792e-01, -5.4199e-01,  7.1842e-03, -8.7926e-01,\n",
              "          1.2985e-01, -9.3453e-01,  9.3682e-01, -2.7469e-01,  1.8271e-01,\n",
              "          5.1904e-02, -3.0757e-01,  9.9999e-01,  2.5083e-01,  4.6753e-01,\n",
              "         -3.2072e-01,  7.5041e-01, -7.1569e-01, -6.3858e-01, -3.4095e-01,\n",
              "          5.3558e-02,  3.7950e-01, -1.8471e-01,  1.2943e-01, -9.4968e-01,\n",
              "         -3.8097e-01, -2.1071e-01, -9.6433e-01, -9.8327e-01,  4.1338e-01,\n",
              "          5.2160e-01,  7.6590e-02, -9.5247e-02, -5.4420e-01, -4.7851e-01,\n",
              "          1.1184e-01, -1.0629e-01, -9.1775e-01,  5.8970e-01, -9.6626e-02,\n",
              "          3.7337e-01, -1.3431e-01,  3.3031e-01, -4.5307e-01,  8.0861e-01,\n",
              "          6.2382e-01,  1.6638e-01,  3.2006e-02, -7.1024e-01,  6.0890e-01,\n",
              "         -6.8499e-01,  3.1226e-01, -5.9412e-02,  1.0000e+00, -2.5696e-01,\n",
              "         -1.6598e-01,  5.8365e-01,  6.0287e-01, -2.7473e-02,  1.2562e-01,\n",
              "         -3.0370e-01,  1.2906e-01,  3.3509e-01,  4.5940e-01, -5.7302e-01,\n",
              "         -2.0385e-01,  3.7480e-01, -5.2247e-01, -4.8634e-01,  7.0639e-01,\n",
              "          7.5500e-02,  7.3955e-02,  5.9977e-02,  1.0130e-02,  9.9707e-01,\n",
              "         -1.0121e-01, -8.8950e-02, -3.6141e-01,  9.1583e-02, -2.1891e-01,\n",
              "         -2.9540e-01,  9.9993e-01,  2.3223e-01, -2.9038e-01, -9.8218e-01,\n",
              "          2.6025e-01, -8.1897e-01,  9.8845e-01,  7.5729e-01, -7.7365e-01,\n",
              "          3.6227e-01,  2.7945e-01, -8.6312e-02,  6.2529e-01, -8.9013e-02,\n",
              "         -1.0876e-01,  1.0179e-01,  9.5640e-02,  9.4213e-01, -3.8186e-01,\n",
              "         -9.4671e-01, -4.3040e-01,  3.0007e-01, -9.4809e-01,  7.6014e-01,\n",
              "         -3.8651e-01, -8.7438e-02, -2.4632e-01,  2.8808e-01,  5.6256e-01,\n",
              "         -7.8258e-02, -9.6870e-01, -7.3117e-02, -4.7195e-03,  9.4730e-01,\n",
              "          1.3658e-01, -3.4134e-01, -8.4851e-01, -4.0191e-01, -1.1405e-01,\n",
              "          3.5776e-01, -9.0821e-01,  9.5666e-01, -9.6867e-01,  3.6999e-01,\n",
              "          9.9989e-01,  2.3896e-01, -6.7252e-01,  1.2224e-01, -3.3179e-01,\n",
              "          1.6289e-01,  1.7448e-01,  3.2656e-01, -9.3535e-01, -2.4110e-01,\n",
              "         -1.0724e-01,  1.6528e-01, -7.4302e-02,  3.1454e-01,  5.5632e-01,\n",
              "          1.1261e-01, -2.8399e-01, -4.8295e-01, -1.1860e-02,  3.1563e-01,\n",
              "          5.5949e-01, -2.3610e-01, -4.8936e-02,  1.7908e-02, -5.4301e-02,\n",
              "         -8.8710e-01, -1.5059e-01, -1.7677e-01, -9.4334e-01,  5.5772e-01,\n",
              "         -1.0000e+00, -3.8832e-01, -5.8828e-01, -1.7793e-01,  7.2314e-01,\n",
              "          2.6140e-01, -2.0629e-01, -6.0083e-01,  3.2167e-01,  7.9090e-01,\n",
              "          6.7619e-01, -1.1643e-01,  1.6783e-01, -6.1640e-01,  8.1801e-02,\n",
              "         -9.2895e-03,  2.3048e-01,  2.7403e-01,  6.3990e-01, -1.6754e-01,\n",
              "          1.0000e+00,  1.5792e-02, -2.3541e-01, -9.4475e-01,  1.7283e-01,\n",
              "         -1.6132e-01,  9.9876e-01, -8.0570e-01, -9.2691e-01,  2.1694e-01,\n",
              "         -2.6605e-01, -6.8797e-01,  1.7475e-01, -5.0334e-02, -5.5145e-01,\n",
              "          1.9642e-02,  9.2256e-01,  7.2066e-01, -3.4465e-01,  2.6990e-01,\n",
              "         -1.9453e-01, -3.4580e-01, -6.6691e-02, -4.4453e-01,  9.8003e-01,\n",
              "          1.2632e-01,  8.3618e-01,  4.3420e-01,  2.2216e-01,  9.3406e-01,\n",
              "          1.3222e-01,  4.0577e-01, -1.2285e-02,  9.9994e-01,  1.9297e-01,\n",
              "         -8.8711e-01,  3.3220e-01, -9.7654e-01, -9.0811e-02, -9.3417e-01,\n",
              "          1.8157e-01,  2.0118e-02,  8.4672e-01, -1.7746e-01,  9.2952e-01,\n",
              "          4.8500e-01,  3.9515e-02,  1.0316e-01,  6.0272e-01,  2.9130e-01,\n",
              "         -8.8643e-01, -9.7579e-01, -9.7621e-01,  2.1367e-01, -3.8368e-01,\n",
              "         -3.8479e-03,  2.8050e-01,  1.4325e-01,  2.8503e-01,  3.3617e-01,\n",
              "         -9.9987e-01,  9.0046e-01,  2.9802e-01, -3.0201e-01,  9.4722e-01,\n",
              "          2.3045e-01,  1.3167e-01,  1.8972e-01, -9.7503e-01, -9.4147e-01,\n",
              "         -2.8054e-01, -2.1762e-01,  6.2148e-01,  4.5661e-01,  7.8925e-01,\n",
              "          2.4256e-01, -3.9533e-01, -1.4553e-01,  4.5711e-01, -5.8898e-01,\n",
              "         -9.8721e-01,  2.8907e-01,  3.4341e-01, -9.2119e-01,  9.3412e-01,\n",
              "         -5.1620e-01, -9.1039e-02,  5.6381e-01,  1.5545e-01,  8.8972e-01,\n",
              "          6.6873e-01,  3.3596e-01,  8.8101e-02,  3.8304e-01,  8.5547e-01,\n",
              "          8.9906e-01,  9.7464e-01,  2.5576e-01,  6.0973e-01,  3.3372e-01,\n",
              "          2.6041e-01,  3.8837e-01, -9.0263e-01,  7.6585e-02, -1.8553e-01,\n",
              "          7.0345e-02,  1.8054e-01, -8.3810e-02, -9.3491e-01, -2.2412e-02,\n",
              "         -1.4485e-01,  2.9799e-01, -3.1411e-01,  2.1834e-01, -3.4907e-01,\n",
              "         -1.1926e-01, -5.4644e-01, -3.0780e-01,  4.4528e-01,  1.3349e-01,\n",
              "          8.8932e-01,  1.6394e-01, -3.1464e-02, -4.4158e-01, -1.3006e-01,\n",
              "          3.6269e-01, -8.7509e-01,  8.4008e-01,  3.5303e-02,  4.6181e-01,\n",
              "         -4.0513e-01, -7.4071e-02,  3.8061e-01, -4.1429e-01, -3.0504e-01,\n",
              "         -2.3300e-01, -6.5580e-01,  7.6519e-01, -7.1188e-02, -3.5862e-01,\n",
              "         -2.7160e-01,  5.9565e-01,  2.3289e-01,  8.6430e-01,  2.6162e-01,\n",
              "          6.6742e-04, -8.8397e-02, -1.4143e-01,  2.0424e-01, -1.2373e-01,\n",
              "         -9.9987e-01,  2.7238e-01,  1.8095e-01, -3.2667e-01,  9.8397e-02,\n",
              "         -2.1288e-01, -2.7083e-03, -9.5373e-01, -7.9901e-02, -2.1845e-02,\n",
              "         -2.9675e-01, -4.8130e-01, -3.3950e-01,  3.6278e-01,  3.2105e-01,\n",
              "          1.6829e-01,  8.2157e-01,  4.5325e-01,  6.2359e-01,  4.1519e-01,\n",
              "          3.6044e-01, -6.1470e-01,  8.8466e-01]], grad_fn=<TanhBackward>)"
            ]
          },
          "metadata": {},
          "execution_count": 25
        }
      ]
    },
    {
      "cell_type": "markdown",
      "source": [
        "**Extracting_Embeddings_All_Encoder_layers_Of_Bert**\n"
      ],
      "metadata": {
        "id": "HAgoeXvFOBAs"
      }
    },
    {
      "cell_type": "code",
      "source": [
        "model = BertModel.from_pretrained('bert-base-uncased', output_hidden_states=True)\n",
        "tokenizer = BertTokenizer.from_pretrained('bert-base-uncased')"
      ],
      "metadata": {
        "id": "SjF_aJEFOFWM"
      },
      "execution_count": 26,
      "outputs": []
    },
    {
      "cell_type": "code",
      "source": [
        "sentence = 'I love Pizza'\n",
        "tokens = tokenizer.tokenize(sentence)\n",
        "tokens = ['[CLS]'] + tokens + ['[SEP]']\n"
      ],
      "metadata": {
        "id": "xNT8p24HPQ0I"
      },
      "execution_count": 27,
      "outputs": []
    },
    {
      "cell_type": "code",
      "source": [
        "tokens = tokens + ['[PAD]'] + ['[PAD]']"
      ],
      "metadata": {
        "id": "yvPkgKThPhPl"
      },
      "execution_count": 28,
      "outputs": []
    },
    {
      "cell_type": "code",
      "source": [
        "attention_mask = [1 if i!= '[PAD]' else 0 for i in tokens]"
      ],
      "metadata": {
        "id": "agf29w_RPqR6"
      },
      "execution_count": 29,
      "outputs": []
    },
    {
      "cell_type": "code",
      "source": [
        "attention_mask"
      ],
      "metadata": {
        "colab": {
          "base_uri": "https://localhost:8080/"
        },
        "id": "IHbYfL8DPyA3",
        "outputId": "04968953-be95-4ce2-e8db-0b06ed909c89"
      },
      "execution_count": 30,
      "outputs": [
        {
          "output_type": "execute_result",
          "data": {
            "text/plain": [
              "[1, 1, 1, 1, 1, 0, 0]"
            ]
          },
          "metadata": {},
          "execution_count": 30
        }
      ]
    },
    {
      "cell_type": "code",
      "source": [
        "tokens"
      ],
      "metadata": {
        "colab": {
          "base_uri": "https://localhost:8080/"
        },
        "id": "y5NdQ8A8PzzW",
        "outputId": "d3dafec9-4b4b-4195-9f15-8613836264c4"
      },
      "execution_count": 31,
      "outputs": [
        {
          "output_type": "execute_result",
          "data": {
            "text/plain": [
              "['[CLS]', 'i', 'love', 'pizza', '[SEP]', '[PAD]', '[PAD]']"
            ]
          },
          "metadata": {},
          "execution_count": 31
        }
      ]
    },
    {
      "cell_type": "code",
      "source": [
        "token_ids = tokenizer.convert_tokens_to_ids(tokens)"
      ],
      "metadata": {
        "id": "yl8Wn0cFP1jg"
      },
      "execution_count": 32,
      "outputs": []
    },
    {
      "cell_type": "code",
      "source": [
        "token_ids"
      ],
      "metadata": {
        "colab": {
          "base_uri": "https://localhost:8080/"
        },
        "id": "ME1hgO73P8nt",
        "outputId": "d9ebd0a4-54fc-4e72-83d5-0aac3f83889e"
      },
      "execution_count": 33,
      "outputs": [
        {
          "output_type": "execute_result",
          "data": {
            "text/plain": [
              "[101, 1045, 2293, 10733, 102, 0, 0]"
            ]
          },
          "metadata": {},
          "execution_count": 33
        }
      ]
    },
    {
      "cell_type": "code",
      "source": [
        "token_ids = torch.tensor(token_ids).unsqueeze(0)\n",
        "attention_mask = torch.tensor(attention_mask).unsqueeze(0)"
      ],
      "metadata": {
        "id": "D5FhDCISP9lG"
      },
      "execution_count": 34,
      "outputs": []
    },
    {
      "cell_type": "code",
      "source": [
        "last_hidden_state, pooler_output, hidden_states = model(token_ids, attention_mask = attention_mask)"
      ],
      "metadata": {
        "id": "csNLonHQQYT9"
      },
      "execution_count": 35,
      "outputs": []
    },
    {
      "cell_type": "code",
      "source": [
        "last_hidden_state.shape"
      ],
      "metadata": {
        "colab": {
          "base_uri": "https://localhost:8080/"
        },
        "id": "sTlPZ_yYQxD2",
        "outputId": "d1df6b81-11d9-4233-8923-3ff089ea37e4"
      },
      "execution_count": 36,
      "outputs": [
        {
          "output_type": "execute_result",
          "data": {
            "text/plain": [
              "torch.Size([1, 7, 768])"
            ]
          },
          "metadata": {},
          "execution_count": 36
        }
      ]
    },
    {
      "cell_type": "code",
      "source": [
        "pooler_output.shape"
      ],
      "metadata": {
        "colab": {
          "base_uri": "https://localhost:8080/"
        },
        "id": "Pxl-o-AnQ1zL",
        "outputId": "17ad343d-5be6-4682-e5e4-a275d315b8ea"
      },
      "execution_count": 37,
      "outputs": [
        {
          "output_type": "execute_result",
          "data": {
            "text/plain": [
              "torch.Size([1, 768])"
            ]
          },
          "metadata": {},
          "execution_count": 37
        }
      ]
    },
    {
      "cell_type": "code",
      "source": [
        "last_hidden_state"
      ],
      "metadata": {
        "colab": {
          "base_uri": "https://localhost:8080/"
        },
        "id": "FoCZoXQtQ473",
        "outputId": "4a59c3f8-d11a-4962-fcad-3f62cb0099a6"
      },
      "execution_count": 38,
      "outputs": [
        {
          "output_type": "execute_result",
          "data": {
            "text/plain": [
              "tensor([[[ 0.1382,  0.3043,  0.0631,  ..., -0.1041,  0.2224,  0.1510],\n",
              "         [ 0.3200,  0.2953, -0.1416,  ..., -0.2075,  0.8356,  0.2033],\n",
              "         [ 1.1893,  0.6508,  0.6801,  ...,  0.1086,  0.4138, -0.2404],\n",
              "         ...,\n",
              "         [ 0.6175,  0.1778, -0.0403,  ...,  0.0127, -0.5838, -0.3406],\n",
              "         [ 0.1496,  0.2934,  0.2243,  ...,  0.2741,  0.2030,  0.0692],\n",
              "         [ 0.0636,  0.0767,  0.2692,  ...,  0.3536,  0.1529,  0.0537]]],\n",
              "       grad_fn=<NativeLayerNormBackward>)"
            ]
          },
          "metadata": {},
          "execution_count": 38
        }
      ]
    },
    {
      "cell_type": "code",
      "source": [
        "pooler_output"
      ],
      "metadata": {
        "colab": {
          "base_uri": "https://localhost:8080/"
        },
        "id": "ZTdNz-klQ74u",
        "outputId": "70bb0c15-6df1-41ab-fe2c-2f9cd5fc5407"
      },
      "execution_count": 39,
      "outputs": [
        {
          "output_type": "execute_result",
          "data": {
            "text/plain": [
              "tensor([[-8.2725e-01, -2.3180e-01,  4.3839e-01,  5.4852e-01, -1.2203e-01,\n",
              "         -1.3028e-01,  8.1214e-01,  1.7054e-01,  1.3439e-01, -9.9966e-01,\n",
              "          1.5789e-01,  2.2010e-01,  9.7317e-01, -2.6980e-01,  9.1344e-01,\n",
              "         -4.1248e-01,  6.5047e-02, -4.9485e-01,  3.1212e-01, -5.5773e-01,\n",
              "          5.3245e-01,  8.3556e-01,  5.6662e-01,  2.2098e-01,  3.7355e-01,\n",
              "          3.8081e-01, -5.0410e-01,  8.9866e-01,  9.2698e-01,  6.5980e-01,\n",
              "         -5.3338e-01,  1.3397e-01, -9.7840e-01, -1.4174e-01,  4.3269e-01,\n",
              "         -9.7513e-01,  1.6087e-01, -7.5835e-01,  2.2289e-02,  8.4983e-02,\n",
              "         -8.7194e-01,  2.0918e-01,  9.9531e-01, -2.4688e-01, -1.6932e-01,\n",
              "         -2.4345e-01, -9.9964e-01,  1.6744e-01, -8.2719e-01, -2.4693e-01,\n",
              "         -2.3328e-01, -4.4108e-01,  7.0196e-02,  3.3588e-01,  3.1033e-01,\n",
              "          3.6946e-01, -1.5520e-01,  6.0225e-02, -1.2864e-01, -5.0064e-01,\n",
              "         -5.9290e-01,  2.2019e-01, -1.9665e-02, -8.5169e-01, -1.9609e-01,\n",
              "         -4.7490e-01, -1.2736e-02, -1.5758e-01, -1.2607e-02, -2.1753e-02,\n",
              "          7.7316e-01,  9.9590e-02,  3.1045e-01, -7.4157e-01, -3.9417e-01,\n",
              "          1.4021e-01, -3.8127e-01,  1.0000e+00, -2.0067e-01, -9.7088e-01,\n",
              "         -2.9589e-01, -2.1819e-01,  2.7306e-01,  5.4171e-01, -4.9328e-01,\n",
              "         -9.9997e-01,  3.3163e-01, -6.9686e-02, -9.8512e-01,  1.4474e-01,\n",
              "          3.0718e-01, -1.5414e-01, -5.7280e-01,  3.2317e-01, -1.0193e-01,\n",
              "          1.0044e-03, -1.6331e-01,  3.0428e-01, -4.9941e-02,  9.4889e-03,\n",
              "         -4.1436e-02, -8.5973e-02,  3.6130e-02, -2.4514e-01,  1.0369e-01,\n",
              "         -3.1194e-01, -3.9817e-01,  4.5200e-02, -2.4317e-01,  5.8263e-01,\n",
              "          2.3322e-01, -1.7561e-01,  2.3341e-01, -9.4122e-01,  5.2749e-01,\n",
              "         -1.9395e-01, -9.6958e-01, -3.6252e-01, -9.8216e-01,  6.0411e-01,\n",
              "          1.6718e-01, -1.8752e-01,  9.3686e-01,  5.8384e-01,  2.0550e-01,\n",
              "          5.6379e-02,  3.1697e-01, -1.0000e+00, -3.0900e-01,  1.4595e-01,\n",
              "          2.0370e-01, -5.4455e-02, -9.6369e-01, -9.2404e-01,  4.9173e-01,\n",
              "          9.2892e-01,  5.8676e-02,  9.9410e-01, -1.1970e-01,  8.9560e-01,\n",
              "          2.3795e-01,  3.5311e-02, -2.4333e-01, -3.2253e-01,  1.3487e-01,\n",
              "          9.9360e-02, -5.7165e-01,  1.7199e-01,  1.9095e-01,  2.7977e-02,\n",
              "          1.2255e-01, -1.3710e-01,  3.5448e-01, -9.0436e-01, -3.3480e-01,\n",
              "          9.1507e-01,  2.7803e-01,  3.4231e-01,  6.5725e-01, -1.4637e-01,\n",
              "         -2.0028e-01,  7.6370e-01,  6.2072e-02,  2.6411e-01,  2.6692e-02,\n",
              "          2.9731e-01, -3.0207e-01,  3.7822e-01, -7.4573e-01,  2.6024e-01,\n",
              "          3.0830e-01, -1.4027e-01,  4.7949e-01, -9.6411e-01, -2.2648e-01,\n",
              "          3.2111e-01,  9.7489e-01,  6.5230e-01,  1.1903e-01,  6.7702e-02,\n",
              "         -1.4540e-01,  2.8819e-01, -9.0964e-01,  9.6187e-01, -1.0651e-01,\n",
              "          2.1904e-01,  6.2518e-01, -1.8903e-02, -8.0007e-01, -4.4792e-01,\n",
              "          6.8309e-01, -1.7434e-01, -7.7950e-01,  8.4119e-02, -3.7805e-01,\n",
              "         -3.0859e-01,  2.6111e-01,  3.3255e-01, -2.6414e-01, -3.1702e-01,\n",
              "          1.1893e-02,  9.0090e-01,  9.0841e-01,  7.3277e-01, -5.6657e-01,\n",
              "          3.9518e-01, -8.8478e-01, -3.7756e-01,  6.4600e-02,  1.1688e-01,\n",
              "          1.4555e-01,  9.8813e-01,  2.6445e-01, -7.1422e-02, -9.0134e-01,\n",
              "         -9.7708e-01, -1.1602e-02, -8.4346e-01,  2.6818e-02, -4.9296e-01,\n",
              "          1.5543e-01,  5.8105e-01, -1.2531e-01,  2.8628e-01, -9.6977e-01,\n",
              "         -6.8313e-01,  2.3657e-01, -1.4332e-01,  2.9861e-01, -2.8372e-01,\n",
              "          5.1482e-01, -1.1488e-01, -4.8502e-01,  6.8376e-01,  8.1051e-01,\n",
              "          4.8145e-01, -6.0621e-01,  6.9736e-01, -1.8320e-01,  7.9735e-01,\n",
              "         -4.7697e-01,  9.5385e-01, -1.1210e-01,  4.9413e-01, -9.0187e-01,\n",
              "          3.2420e-01, -8.4974e-01,  2.5303e-01, -3.4038e-02, -6.6430e-01,\n",
              "         -1.3184e-01,  3.4936e-01,  2.8574e-01,  8.1037e-01, -3.8829e-01,\n",
              "          9.8865e-01, -6.0124e-01, -9.2463e-01,  1.9149e-01, -2.9382e-02,\n",
              "         -9.7727e-01, -1.4777e-01,  2.2572e-01, -6.2966e-01, -2.9785e-01,\n",
              "         -1.7987e-01, -9.4056e-01,  7.7661e-01,  3.8414e-02,  9.6358e-01,\n",
              "          8.2101e-02, -8.3505e-01, -2.5607e-01, -8.7953e-01, -2.4245e-01,\n",
              "         -2.6190e-02,  5.5698e-01, -2.2091e-01, -9.4207e-01,  3.8624e-01,\n",
              "          4.1032e-01,  3.4796e-01,  5.2364e-01,  9.9051e-01,  9.9605e-01,\n",
              "          9.6394e-01,  8.3648e-01,  8.2706e-01, -7.3329e-01, -1.9862e-01,\n",
              "          9.9981e-01, -4.3339e-01, -9.9987e-01, -9.0543e-01, -4.6062e-01,\n",
              "          1.6199e-01, -1.0000e+00, -2.9819e-02,  7.7583e-02, -8.9597e-01,\n",
              "         -4.1067e-01,  9.6527e-01,  9.7339e-01, -9.9999e-01,  7.8710e-01,\n",
              "          9.1069e-01, -3.9583e-01,  2.4380e-01, -4.7806e-02,  9.5242e-01,\n",
              "          2.3579e-01,  3.7545e-01, -8.8537e-02,  2.9427e-01,  7.9002e-02,\n",
              "         -7.1421e-01,  4.8610e-01,  3.4360e-01,  2.8403e-01,  8.1150e-02,\n",
              "         -5.3167e-01, -8.9790e-01, -2.3267e-01, -1.7694e-01, -3.5216e-01,\n",
              "         -9.3175e-01, -8.9101e-02, -2.9264e-01,  5.0377e-01,  2.0544e-02,\n",
              "          1.1438e-01, -6.9509e-01,  1.0250e-01, -7.2096e-01,  3.0642e-01,\n",
              "          4.5934e-01, -9.0317e-01, -4.8215e-01,  1.6512e-02, -4.5136e-01,\n",
              "          3.5305e-01, -9.2768e-01,  9.5454e-01, -2.2709e-01, -1.1978e-01,\n",
              "          9.9999e-01, -2.6883e-01, -8.2480e-01,  1.4796e-01,  8.5471e-02,\n",
              "          1.4867e-01,  9.9999e-01,  4.0152e-01, -9.6867e-01, -3.4593e-01,\n",
              "          2.0328e-01, -3.8423e-01, -2.9545e-01,  9.9535e-01, -2.3094e-01,\n",
              "          3.3359e-01,  5.1395e-01,  9.5899e-01, -9.8105e-01,  4.8680e-02,\n",
              "         -8.5937e-01, -9.4345e-01,  9.4747e-01,  9.1346e-01, -1.5381e-01,\n",
              "         -5.2561e-01,  5.0371e-02,  2.1133e-01,  1.5029e-01, -9.4605e-01,\n",
              "          3.9201e-01,  2.7912e-01, -1.1621e-01,  8.6997e-01, -7.2048e-01,\n",
              "         -3.3566e-01,  3.1763e-01,  5.4103e-02,  3.7809e-01, -2.2876e-01,\n",
              "          3.0766e-01, -9.3422e-02,  7.7879e-02, -2.0005e-01, -9.8046e-02,\n",
              "         -9.5621e-01, -1.2757e-01,  9.9998e-01,  6.8283e-02, -4.8248e-01,\n",
              "         -1.3061e-01, -2.1260e-02, -3.0783e-01,  2.7215e-01,  2.9249e-01,\n",
              "         -2.1573e-01, -7.4531e-01, -7.9593e-02, -8.9459e-01, -9.7491e-01,\n",
              "          5.7892e-01,  1.2291e-01, -1.7036e-01,  9.9619e-01,  1.9633e-01,\n",
              "          1.4997e-01, -6.0456e-02,  1.5938e-01, -1.1459e-01,  3.8248e-01,\n",
              "         -4.3825e-01,  9.4745e-01, -1.5327e-01,  3.1990e-01,  7.5172e-01,\n",
              "          2.2533e-01, -1.4792e-01, -5.4199e-01,  7.1842e-03, -8.7926e-01,\n",
              "          1.2985e-01, -9.3453e-01,  9.3682e-01, -2.7469e-01,  1.8271e-01,\n",
              "          5.1904e-02, -3.0757e-01,  9.9999e-01,  2.5083e-01,  4.6753e-01,\n",
              "         -3.2072e-01,  7.5041e-01, -7.1569e-01, -6.3858e-01, -3.4095e-01,\n",
              "          5.3558e-02,  3.7950e-01, -1.8471e-01,  1.2943e-01, -9.4968e-01,\n",
              "         -3.8097e-01, -2.1071e-01, -9.6433e-01, -9.8327e-01,  4.1338e-01,\n",
              "          5.2160e-01,  7.6590e-02, -9.5247e-02, -5.4420e-01, -4.7851e-01,\n",
              "          1.1184e-01, -1.0629e-01, -9.1775e-01,  5.8970e-01, -9.6626e-02,\n",
              "          3.7337e-01, -1.3431e-01,  3.3031e-01, -4.5307e-01,  8.0861e-01,\n",
              "          6.2382e-01,  1.6638e-01,  3.2006e-02, -7.1024e-01,  6.0890e-01,\n",
              "         -6.8499e-01,  3.1226e-01, -5.9412e-02,  1.0000e+00, -2.5696e-01,\n",
              "         -1.6598e-01,  5.8365e-01,  6.0287e-01, -2.7473e-02,  1.2562e-01,\n",
              "         -3.0370e-01,  1.2906e-01,  3.3509e-01,  4.5940e-01, -5.7302e-01,\n",
              "         -2.0385e-01,  3.7480e-01, -5.2247e-01, -4.8634e-01,  7.0639e-01,\n",
              "          7.5500e-02,  7.3955e-02,  5.9977e-02,  1.0130e-02,  9.9707e-01,\n",
              "         -1.0121e-01, -8.8950e-02, -3.6141e-01,  9.1583e-02, -2.1891e-01,\n",
              "         -2.9540e-01,  9.9993e-01,  2.3223e-01, -2.9038e-01, -9.8218e-01,\n",
              "          2.6025e-01, -8.1897e-01,  9.8845e-01,  7.5729e-01, -7.7365e-01,\n",
              "          3.6227e-01,  2.7945e-01, -8.6312e-02,  6.2529e-01, -8.9013e-02,\n",
              "         -1.0876e-01,  1.0179e-01,  9.5640e-02,  9.4213e-01, -3.8186e-01,\n",
              "         -9.4671e-01, -4.3040e-01,  3.0007e-01, -9.4809e-01,  7.6014e-01,\n",
              "         -3.8651e-01, -8.7438e-02, -2.4632e-01,  2.8808e-01,  5.6256e-01,\n",
              "         -7.8258e-02, -9.6870e-01, -7.3117e-02, -4.7195e-03,  9.4730e-01,\n",
              "          1.3658e-01, -3.4134e-01, -8.4851e-01, -4.0191e-01, -1.1405e-01,\n",
              "          3.5776e-01, -9.0821e-01,  9.5666e-01, -9.6867e-01,  3.6999e-01,\n",
              "          9.9989e-01,  2.3896e-01, -6.7252e-01,  1.2224e-01, -3.3179e-01,\n",
              "          1.6289e-01,  1.7448e-01,  3.2656e-01, -9.3535e-01, -2.4110e-01,\n",
              "         -1.0724e-01,  1.6528e-01, -7.4302e-02,  3.1454e-01,  5.5632e-01,\n",
              "          1.1261e-01, -2.8399e-01, -4.8295e-01, -1.1860e-02,  3.1563e-01,\n",
              "          5.5949e-01, -2.3610e-01, -4.8936e-02,  1.7908e-02, -5.4301e-02,\n",
              "         -8.8710e-01, -1.5059e-01, -1.7677e-01, -9.4334e-01,  5.5772e-01,\n",
              "         -1.0000e+00, -3.8832e-01, -5.8828e-01, -1.7793e-01,  7.2314e-01,\n",
              "          2.6140e-01, -2.0629e-01, -6.0083e-01,  3.2167e-01,  7.9090e-01,\n",
              "          6.7619e-01, -1.1643e-01,  1.6783e-01, -6.1640e-01,  8.1801e-02,\n",
              "         -9.2895e-03,  2.3048e-01,  2.7403e-01,  6.3990e-01, -1.6754e-01,\n",
              "          1.0000e+00,  1.5792e-02, -2.3541e-01, -9.4475e-01,  1.7283e-01,\n",
              "         -1.6132e-01,  9.9876e-01, -8.0570e-01, -9.2691e-01,  2.1694e-01,\n",
              "         -2.6605e-01, -6.8797e-01,  1.7475e-01, -5.0334e-02, -5.5145e-01,\n",
              "          1.9642e-02,  9.2256e-01,  7.2066e-01, -3.4465e-01,  2.6990e-01,\n",
              "         -1.9453e-01, -3.4580e-01, -6.6691e-02, -4.4453e-01,  9.8003e-01,\n",
              "          1.2632e-01,  8.3618e-01,  4.3420e-01,  2.2216e-01,  9.3406e-01,\n",
              "          1.3222e-01,  4.0577e-01, -1.2285e-02,  9.9994e-01,  1.9297e-01,\n",
              "         -8.8711e-01,  3.3220e-01, -9.7654e-01, -9.0811e-02, -9.3417e-01,\n",
              "          1.8157e-01,  2.0118e-02,  8.4672e-01, -1.7746e-01,  9.2952e-01,\n",
              "          4.8500e-01,  3.9515e-02,  1.0316e-01,  6.0272e-01,  2.9130e-01,\n",
              "         -8.8643e-01, -9.7579e-01, -9.7621e-01,  2.1367e-01, -3.8368e-01,\n",
              "         -3.8479e-03,  2.8050e-01,  1.4325e-01,  2.8503e-01,  3.3617e-01,\n",
              "         -9.9987e-01,  9.0046e-01,  2.9802e-01, -3.0201e-01,  9.4722e-01,\n",
              "          2.3045e-01,  1.3167e-01,  1.8972e-01, -9.7503e-01, -9.4147e-01,\n",
              "         -2.8054e-01, -2.1762e-01,  6.2148e-01,  4.5661e-01,  7.8925e-01,\n",
              "          2.4256e-01, -3.9533e-01, -1.4553e-01,  4.5711e-01, -5.8898e-01,\n",
              "         -9.8721e-01,  2.8907e-01,  3.4341e-01, -9.2119e-01,  9.3412e-01,\n",
              "         -5.1620e-01, -9.1039e-02,  5.6381e-01,  1.5545e-01,  8.8972e-01,\n",
              "          6.6873e-01,  3.3596e-01,  8.8101e-02,  3.8304e-01,  8.5547e-01,\n",
              "          8.9906e-01,  9.7464e-01,  2.5576e-01,  6.0973e-01,  3.3372e-01,\n",
              "          2.6041e-01,  3.8837e-01, -9.0263e-01,  7.6585e-02, -1.8553e-01,\n",
              "          7.0345e-02,  1.8054e-01, -8.3810e-02, -9.3491e-01, -2.2412e-02,\n",
              "         -1.4485e-01,  2.9799e-01, -3.1411e-01,  2.1834e-01, -3.4907e-01,\n",
              "         -1.1926e-01, -5.4644e-01, -3.0780e-01,  4.4528e-01,  1.3349e-01,\n",
              "          8.8932e-01,  1.6394e-01, -3.1464e-02, -4.4158e-01, -1.3006e-01,\n",
              "          3.6269e-01, -8.7509e-01,  8.4008e-01,  3.5303e-02,  4.6181e-01,\n",
              "         -4.0513e-01, -7.4071e-02,  3.8061e-01, -4.1429e-01, -3.0504e-01,\n",
              "         -2.3300e-01, -6.5580e-01,  7.6519e-01, -7.1188e-02, -3.5862e-01,\n",
              "         -2.7160e-01,  5.9565e-01,  2.3289e-01,  8.6430e-01,  2.6162e-01,\n",
              "          6.6742e-04, -8.8397e-02, -1.4143e-01,  2.0424e-01, -1.2373e-01,\n",
              "         -9.9987e-01,  2.7238e-01,  1.8095e-01, -3.2667e-01,  9.8397e-02,\n",
              "         -2.1288e-01, -2.7083e-03, -9.5373e-01, -7.9901e-02, -2.1845e-02,\n",
              "         -2.9675e-01, -4.8130e-01, -3.3950e-01,  3.6278e-01,  3.2105e-01,\n",
              "          1.6829e-01,  8.2157e-01,  4.5325e-01,  6.2359e-01,  4.1519e-01,\n",
              "          3.6044e-01, -6.1470e-01,  8.8466e-01]], grad_fn=<TanhBackward>)"
            ]
          },
          "metadata": {},
          "execution_count": 39
        }
      ]
    },
    {
      "cell_type": "code",
      "source": [
        "#Here, hidden states contains the representation of all the tokens from the final encoder layer.\n",
        "len(hidden_states)"
      ],
      "metadata": {
        "colab": {
          "base_uri": "https://localhost:8080/"
        },
        "id": "5J2W2BfAQ92i",
        "outputId": "4e5c97f9-2ceb-45de-d8bc-dbf6cd13deaf"
      },
      "execution_count": 40,
      "outputs": [
        {
          "output_type": "execute_result",
          "data": {
            "text/plain": [
              "13"
            ]
          },
          "metadata": {},
          "execution_count": 40
        }
      ]
    },
    {
      "cell_type": "markdown",
      "source": [
        "**BERT for Sentiment Analysis**"
      ],
      "metadata": {
        "id": "sazEz1jpSPch"
      }
    },
    {
      "cell_type": "code",
      "source": [
        "pip install nlp==0.4.0"
      ],
      "metadata": {
        "colab": {
          "base_uri": "https://localhost:8080/"
        },
        "id": "7t53REv1RpKG",
        "outputId": "4e81d15e-e501-423d-b815-e05f35de0805"
      },
      "execution_count": 41,
      "outputs": [
        {
          "output_type": "stream",
          "name": "stdout",
          "text": [
            "Collecting nlp==0.4.0\n",
            "  Downloading nlp-0.4.0-py3-none-any.whl (1.7 MB)\n",
            "\u001b[?25l\r\u001b[K     |▏                               | 10 kB 21.1 MB/s eta 0:00:01\r\u001b[K     |▍                               | 20 kB 25.3 MB/s eta 0:00:01\r\u001b[K     |▋                               | 30 kB 12.9 MB/s eta 0:00:01\r\u001b[K     |▉                               | 40 kB 4.9 MB/s eta 0:00:01\r\u001b[K     |█                               | 51 kB 4.7 MB/s eta 0:00:01\r\u001b[K     |█▏                              | 61 kB 5.6 MB/s eta 0:00:01\r\u001b[K     |█▍                              | 71 kB 5.8 MB/s eta 0:00:01\r\u001b[K     |█▋                              | 81 kB 5.6 MB/s eta 0:00:01\r\u001b[K     |█▉                              | 92 kB 6.2 MB/s eta 0:00:01\r\u001b[K     |██                              | 102 kB 5.4 MB/s eta 0:00:01\r\u001b[K     |██▏                             | 112 kB 5.4 MB/s eta 0:00:01\r\u001b[K     |██▍                             | 122 kB 5.4 MB/s eta 0:00:01\r\u001b[K     |██▋                             | 133 kB 5.4 MB/s eta 0:00:01\r\u001b[K     |██▊                             | 143 kB 5.4 MB/s eta 0:00:01\r\u001b[K     |███                             | 153 kB 5.4 MB/s eta 0:00:01\r\u001b[K     |███▏                            | 163 kB 5.4 MB/s eta 0:00:01\r\u001b[K     |███▍                            | 174 kB 5.4 MB/s eta 0:00:01\r\u001b[K     |███▋                            | 184 kB 5.4 MB/s eta 0:00:01\r\u001b[K     |███▊                            | 194 kB 5.4 MB/s eta 0:00:01\r\u001b[K     |████                            | 204 kB 5.4 MB/s eta 0:00:01\r\u001b[K     |████▏                           | 215 kB 5.4 MB/s eta 0:00:01\r\u001b[K     |████▍                           | 225 kB 5.4 MB/s eta 0:00:01\r\u001b[K     |████▌                           | 235 kB 5.4 MB/s eta 0:00:01\r\u001b[K     |████▊                           | 245 kB 5.4 MB/s eta 0:00:01\r\u001b[K     |█████                           | 256 kB 5.4 MB/s eta 0:00:01\r\u001b[K     |█████▏                          | 266 kB 5.4 MB/s eta 0:00:01\r\u001b[K     |█████▍                          | 276 kB 5.4 MB/s eta 0:00:01\r\u001b[K     |█████▌                          | 286 kB 5.4 MB/s eta 0:00:01\r\u001b[K     |█████▊                          | 296 kB 5.4 MB/s eta 0:00:01\r\u001b[K     |██████                          | 307 kB 5.4 MB/s eta 0:00:01\r\u001b[K     |██████▏                         | 317 kB 5.4 MB/s eta 0:00:01\r\u001b[K     |██████▎                         | 327 kB 5.4 MB/s eta 0:00:01\r\u001b[K     |██████▌                         | 337 kB 5.4 MB/s eta 0:00:01\r\u001b[K     |██████▊                         | 348 kB 5.4 MB/s eta 0:00:01\r\u001b[K     |███████                         | 358 kB 5.4 MB/s eta 0:00:01\r\u001b[K     |███████▏                        | 368 kB 5.4 MB/s eta 0:00:01\r\u001b[K     |███████▎                        | 378 kB 5.4 MB/s eta 0:00:01\r\u001b[K     |███████▌                        | 389 kB 5.4 MB/s eta 0:00:01\r\u001b[K     |███████▊                        | 399 kB 5.4 MB/s eta 0:00:01\r\u001b[K     |████████                        | 409 kB 5.4 MB/s eta 0:00:01\r\u001b[K     |████████                        | 419 kB 5.4 MB/s eta 0:00:01\r\u001b[K     |████████▎                       | 430 kB 5.4 MB/s eta 0:00:01\r\u001b[K     |████████▌                       | 440 kB 5.4 MB/s eta 0:00:01\r\u001b[K     |████████▊                       | 450 kB 5.4 MB/s eta 0:00:01\r\u001b[K     |█████████                       | 460 kB 5.4 MB/s eta 0:00:01\r\u001b[K     |█████████                       | 471 kB 5.4 MB/s eta 0:00:01\r\u001b[K     |█████████▎                      | 481 kB 5.4 MB/s eta 0:00:01\r\u001b[K     |█████████▌                      | 491 kB 5.4 MB/s eta 0:00:01\r\u001b[K     |█████████▊                      | 501 kB 5.4 MB/s eta 0:00:01\r\u001b[K     |█████████▉                      | 512 kB 5.4 MB/s eta 0:00:01\r\u001b[K     |██████████                      | 522 kB 5.4 MB/s eta 0:00:01\r\u001b[K     |██████████▎                     | 532 kB 5.4 MB/s eta 0:00:01\r\u001b[K     |██████████▌                     | 542 kB 5.4 MB/s eta 0:00:01\r\u001b[K     |██████████▊                     | 552 kB 5.4 MB/s eta 0:00:01\r\u001b[K     |██████████▉                     | 563 kB 5.4 MB/s eta 0:00:01\r\u001b[K     |███████████                     | 573 kB 5.4 MB/s eta 0:00:01\r\u001b[K     |███████████▎                    | 583 kB 5.4 MB/s eta 0:00:01\r\u001b[K     |███████████▌                    | 593 kB 5.4 MB/s eta 0:00:01\r\u001b[K     |███████████▋                    | 604 kB 5.4 MB/s eta 0:00:01\r\u001b[K     |███████████▉                    | 614 kB 5.4 MB/s eta 0:00:01\r\u001b[K     |████████████                    | 624 kB 5.4 MB/s eta 0:00:01\r\u001b[K     |████████████▎                   | 634 kB 5.4 MB/s eta 0:00:01\r\u001b[K     |████████████▌                   | 645 kB 5.4 MB/s eta 0:00:01\r\u001b[K     |████████████▋                   | 655 kB 5.4 MB/s eta 0:00:01\r\u001b[K     |████████████▉                   | 665 kB 5.4 MB/s eta 0:00:01\r\u001b[K     |█████████████                   | 675 kB 5.4 MB/s eta 0:00:01\r\u001b[K     |█████████████▎                  | 686 kB 5.4 MB/s eta 0:00:01\r\u001b[K     |█████████████▍                  | 696 kB 5.4 MB/s eta 0:00:01\r\u001b[K     |█████████████▋                  | 706 kB 5.4 MB/s eta 0:00:01\r\u001b[K     |█████████████▉                  | 716 kB 5.4 MB/s eta 0:00:01\r\u001b[K     |██████████████                  | 727 kB 5.4 MB/s eta 0:00:01\r\u001b[K     |██████████████▎                 | 737 kB 5.4 MB/s eta 0:00:01\r\u001b[K     |██████████████▍                 | 747 kB 5.4 MB/s eta 0:00:01\r\u001b[K     |██████████████▋                 | 757 kB 5.4 MB/s eta 0:00:01\r\u001b[K     |██████████████▉                 | 768 kB 5.4 MB/s eta 0:00:01\r\u001b[K     |███████████████                 | 778 kB 5.4 MB/s eta 0:00:01\r\u001b[K     |███████████████▏                | 788 kB 5.4 MB/s eta 0:00:01\r\u001b[K     |███████████████▍                | 798 kB 5.4 MB/s eta 0:00:01\r\u001b[K     |███████████████▋                | 808 kB 5.4 MB/s eta 0:00:01\r\u001b[K     |███████████████▉                | 819 kB 5.4 MB/s eta 0:00:01\r\u001b[K     |████████████████                | 829 kB 5.4 MB/s eta 0:00:01\r\u001b[K     |████████████████▏               | 839 kB 5.4 MB/s eta 0:00:01\r\u001b[K     |████████████████▍               | 849 kB 5.4 MB/s eta 0:00:01\r\u001b[K     |████████████████▋               | 860 kB 5.4 MB/s eta 0:00:01\r\u001b[K     |████████████████▉               | 870 kB 5.4 MB/s eta 0:00:01\r\u001b[K     |█████████████████               | 880 kB 5.4 MB/s eta 0:00:01\r\u001b[K     |█████████████████▏              | 890 kB 5.4 MB/s eta 0:00:01\r\u001b[K     |█████████████████▍              | 901 kB 5.4 MB/s eta 0:00:01\r\u001b[K     |█████████████████▋              | 911 kB 5.4 MB/s eta 0:00:01\r\u001b[K     |█████████████████▉              | 921 kB 5.4 MB/s eta 0:00:01\r\u001b[K     |██████████████████              | 931 kB 5.4 MB/s eta 0:00:01\r\u001b[K     |██████████████████▏             | 942 kB 5.4 MB/s eta 0:00:01\r\u001b[K     |██████████████████▍             | 952 kB 5.4 MB/s eta 0:00:01\r\u001b[K     |██████████████████▋             | 962 kB 5.4 MB/s eta 0:00:01\r\u001b[K     |██████████████████▊             | 972 kB 5.4 MB/s eta 0:00:01\r\u001b[K     |███████████████████             | 983 kB 5.4 MB/s eta 0:00:01\r\u001b[K     |███████████████████▏            | 993 kB 5.4 MB/s eta 0:00:01\r\u001b[K     |███████████████████▍            | 1.0 MB 5.4 MB/s eta 0:00:01\r\u001b[K     |███████████████████▋            | 1.0 MB 5.4 MB/s eta 0:00:01\r\u001b[K     |███████████████████▊            | 1.0 MB 5.4 MB/s eta 0:00:01\r\u001b[K     |████████████████████            | 1.0 MB 5.4 MB/s eta 0:00:01\r\u001b[K     |████████████████████▏           | 1.0 MB 5.4 MB/s eta 0:00:01\r\u001b[K     |████████████████████▍           | 1.1 MB 5.4 MB/s eta 0:00:01\r\u001b[K     |████████████████████▌           | 1.1 MB 5.4 MB/s eta 0:00:01\r\u001b[K     |████████████████████▊           | 1.1 MB 5.4 MB/s eta 0:00:01\r\u001b[K     |█████████████████████           | 1.1 MB 5.4 MB/s eta 0:00:01\r\u001b[K     |█████████████████████▏          | 1.1 MB 5.4 MB/s eta 0:00:01\r\u001b[K     |█████████████████████▍          | 1.1 MB 5.4 MB/s eta 0:00:01\r\u001b[K     |█████████████████████▌          | 1.1 MB 5.4 MB/s eta 0:00:01\r\u001b[K     |█████████████████████▊          | 1.1 MB 5.4 MB/s eta 0:00:01\r\u001b[K     |██████████████████████          | 1.1 MB 5.4 MB/s eta 0:00:01\r\u001b[K     |██████████████████████▏         | 1.1 MB 5.4 MB/s eta 0:00:01\r\u001b[K     |██████████████████████▎         | 1.2 MB 5.4 MB/s eta 0:00:01\r\u001b[K     |██████████████████████▌         | 1.2 MB 5.4 MB/s eta 0:00:01\r\u001b[K     |██████████████████████▊         | 1.2 MB 5.4 MB/s eta 0:00:01\r\u001b[K     |███████████████████████         | 1.2 MB 5.4 MB/s eta 0:00:01\r\u001b[K     |███████████████████████▏        | 1.2 MB 5.4 MB/s eta 0:00:01\r\u001b[K     |███████████████████████▎        | 1.2 MB 5.4 MB/s eta 0:00:01\r\u001b[K     |███████████████████████▌        | 1.2 MB 5.4 MB/s eta 0:00:01\r\u001b[K     |███████████████████████▊        | 1.2 MB 5.4 MB/s eta 0:00:01\r\u001b[K     |████████████████████████        | 1.2 MB 5.4 MB/s eta 0:00:01\r\u001b[K     |████████████████████████        | 1.2 MB 5.4 MB/s eta 0:00:01\r\u001b[K     |████████████████████████▎       | 1.3 MB 5.4 MB/s eta 0:00:01\r\u001b[K     |████████████████████████▌       | 1.3 MB 5.4 MB/s eta 0:00:01\r\u001b[K     |████████████████████████▊       | 1.3 MB 5.4 MB/s eta 0:00:01\r\u001b[K     |█████████████████████████       | 1.3 MB 5.4 MB/s eta 0:00:01\r\u001b[K     |█████████████████████████       | 1.3 MB 5.4 MB/s eta 0:00:01\r\u001b[K     |█████████████████████████▎      | 1.3 MB 5.4 MB/s eta 0:00:01\r\u001b[K     |█████████████████████████▌      | 1.3 MB 5.4 MB/s eta 0:00:01\r\u001b[K     |█████████████████████████▊      | 1.3 MB 5.4 MB/s eta 0:00:01\r\u001b[K     |█████████████████████████▉      | 1.3 MB 5.4 MB/s eta 0:00:01\r\u001b[K     |██████████████████████████      | 1.4 MB 5.4 MB/s eta 0:00:01\r\u001b[K     |██████████████████████████▎     | 1.4 MB 5.4 MB/s eta 0:00:01\r\u001b[K     |██████████████████████████▌     | 1.4 MB 5.4 MB/s eta 0:00:01\r\u001b[K     |██████████████████████████▊     | 1.4 MB 5.4 MB/s eta 0:00:01\r\u001b[K     |██████████████████████████▉     | 1.4 MB 5.4 MB/s eta 0:00:01\r\u001b[K     |███████████████████████████     | 1.4 MB 5.4 MB/s eta 0:00:01\r\u001b[K     |███████████████████████████▎    | 1.4 MB 5.4 MB/s eta 0:00:01\r\u001b[K     |███████████████████████████▌    | 1.4 MB 5.4 MB/s eta 0:00:01\r\u001b[K     |███████████████████████████▋    | 1.4 MB 5.4 MB/s eta 0:00:01\r\u001b[K     |███████████████████████████▉    | 1.4 MB 5.4 MB/s eta 0:00:01\r\u001b[K     |████████████████████████████    | 1.5 MB 5.4 MB/s eta 0:00:01\r\u001b[K     |████████████████████████████▎   | 1.5 MB 5.4 MB/s eta 0:00:01\r\u001b[K     |████████████████████████████▌   | 1.5 MB 5.4 MB/s eta 0:00:01\r\u001b[K     |████████████████████████████▋   | 1.5 MB 5.4 MB/s eta 0:00:01\r\u001b[K     |████████████████████████████▉   | 1.5 MB 5.4 MB/s eta 0:00:01\r\u001b[K     |█████████████████████████████   | 1.5 MB 5.4 MB/s eta 0:00:01\r\u001b[K     |█████████████████████████████▎  | 1.5 MB 5.4 MB/s eta 0:00:01\r\u001b[K     |█████████████████████████████▍  | 1.5 MB 5.4 MB/s eta 0:00:01\r\u001b[K     |█████████████████████████████▋  | 1.5 MB 5.4 MB/s eta 0:00:01\r\u001b[K     |█████████████████████████████▉  | 1.5 MB 5.4 MB/s eta 0:00:01\r\u001b[K     |██████████████████████████████  | 1.6 MB 5.4 MB/s eta 0:00:01\r\u001b[K     |██████████████████████████████▎ | 1.6 MB 5.4 MB/s eta 0:00:01\r\u001b[K     |██████████████████████████████▍ | 1.6 MB 5.4 MB/s eta 0:00:01\r\u001b[K     |██████████████████████████████▋ | 1.6 MB 5.4 MB/s eta 0:00:01\r\u001b[K     |██████████████████████████████▉ | 1.6 MB 5.4 MB/s eta 0:00:01\r\u001b[K     |███████████████████████████████ | 1.6 MB 5.4 MB/s eta 0:00:01\r\u001b[K     |███████████████████████████████▏| 1.6 MB 5.4 MB/s eta 0:00:01\r\u001b[K     |███████████████████████████████▍| 1.6 MB 5.4 MB/s eta 0:00:01\r\u001b[K     |███████████████████████████████▋| 1.6 MB 5.4 MB/s eta 0:00:01\r\u001b[K     |███████████████████████████████▉| 1.6 MB 5.4 MB/s eta 0:00:01\r\u001b[K     |████████████████████████████████| 1.7 MB 5.4 MB/s \n",
            "\u001b[?25hRequirement already satisfied: numpy in /usr/local/lib/python3.7/dist-packages (from nlp==0.4.0) (1.21.6)\n",
            "Requirement already satisfied: requests>=2.19.0 in /usr/local/lib/python3.7/dist-packages (from nlp==0.4.0) (2.23.0)\n",
            "Requirement already satisfied: pyarrow>=0.16.0 in /usr/local/lib/python3.7/dist-packages (from nlp==0.4.0) (6.0.1)\n",
            "Requirement already satisfied: dill in /usr/local/lib/python3.7/dist-packages (from nlp==0.4.0) (0.3.4)\n",
            "Requirement already satisfied: tqdm>=4.27 in /usr/local/lib/python3.7/dist-packages (from nlp==0.4.0) (4.64.0)\n",
            "Requirement already satisfied: filelock in /usr/local/lib/python3.7/dist-packages (from nlp==0.4.0) (3.7.0)\n",
            "Collecting xxhash\n",
            "  Downloading xxhash-3.0.0-cp37-cp37m-manylinux_2_17_x86_64.manylinux2014_x86_64.whl (212 kB)\n",
            "\u001b[K     |████████████████████████████████| 212 kB 23.6 MB/s \n",
            "\u001b[?25hRequirement already satisfied: pandas in /usr/local/lib/python3.7/dist-packages (from nlp==0.4.0) (1.3.5)\n",
            "Requirement already satisfied: certifi>=2017.4.17 in /usr/local/lib/python3.7/dist-packages (from requests>=2.19.0->nlp==0.4.0) (2021.10.8)\n",
            "Requirement already satisfied: urllib3!=1.25.0,!=1.25.1,<1.26,>=1.21.1 in /usr/local/lib/python3.7/dist-packages (from requests>=2.19.0->nlp==0.4.0) (1.24.3)\n",
            "Requirement already satisfied: idna<3,>=2.5 in /usr/local/lib/python3.7/dist-packages (from requests>=2.19.0->nlp==0.4.0) (2.10)\n",
            "Requirement already satisfied: chardet<4,>=3.0.2 in /usr/local/lib/python3.7/dist-packages (from requests>=2.19.0->nlp==0.4.0) (3.0.4)\n",
            "Requirement already satisfied: pytz>=2017.3 in /usr/local/lib/python3.7/dist-packages (from pandas->nlp==0.4.0) (2022.1)\n",
            "Requirement already satisfied: python-dateutil>=2.7.3 in /usr/local/lib/python3.7/dist-packages (from pandas->nlp==0.4.0) (2.8.2)\n",
            "Requirement already satisfied: six>=1.5 in /usr/local/lib/python3.7/dist-packages (from python-dateutil>=2.7.3->pandas->nlp==0.4.0) (1.15.0)\n",
            "Installing collected packages: xxhash, nlp\n",
            "Successfully installed nlp-0.4.0 xxhash-3.0.0\n"
          ]
        }
      ]
    },
    {
      "cell_type": "code",
      "source": [
        "from transformers import BertForSequenceClassification, BertTokenizerFast, Trainer, TrainingArguments"
      ],
      "metadata": {
        "id": "6REvmcXVTLRG"
      },
      "execution_count": 42,
      "outputs": []
    },
    {
      "cell_type": "code",
      "source": [
        "from nlp import load_dataset\n",
        "import torch\n",
        "import numpy as np"
      ],
      "metadata": {
        "id": "61O5NOclTYRE"
      },
      "execution_count": 43,
      "outputs": []
    },
    {
      "cell_type": "code",
      "source": [
        "!gdown https://drive.google.com/uc?id=11_M4ootuT7I1G0RlihcC0cA3Elqotlc-\n",
        "dataset = load_dataset('csv', data_files='./imdbs.csv', split='train')"
      ],
      "metadata": {
        "colab": {
          "base_uri": "https://localhost:8080/",
          "height": 190,
          "referenced_widgets": [
            "9d733eb123da4e92bb1359bc922e4736",
            "74990449df4d4f889333dfe9d5c68f54",
            "7cad2501d71a4635939715093a388799",
            "e665d3a534344f94828380f881abe25c",
            "db81aeb1c89f4195b3653d2028f61fd1",
            "087be5928e564fb2852e784e1a66bd0b",
            "d28ba1a85ac14406a879c5f4b2ebbc60",
            "627bca07088b4a9da12dd5e7cf37f9ad",
            "2b7455f09db9457db1281bdf0be9e531",
            "4d26fdafcd4e4ba2ab667edee728fc27",
            "5990cc3dd6b74838a807e773915c1b97",
            "541a90142dbb4e2fa47dc96a307835da",
            "846aa2c2c644456d889f28ab316f2a16",
            "583c65108013491487762c30b75252a7",
            "af2933394e94432a93bfee4c849d6e22",
            "3859d84c5a09414fa4a4ac8e828257dc",
            "2a0b944fbd284536a1af65b88fba8e30",
            "a59d1a8261dc4fd48cd6f2704226663e",
            "ad3531dd76c74115be291ba222ff5f8a",
            "5f8866da7cf5425191af350362da583c",
            "0b672c81f0ef4deabf946429beee314e",
            "5bfaec59b3004a25a6d82fecd5107f0c"
          ]
        },
        "id": "duEtVZ4RTepM",
        "outputId": "f49b96e5-6a29-444a-da6b-51b419fc771e"
      },
      "execution_count": 44,
      "outputs": [
        {
          "output_type": "stream",
          "name": "stdout",
          "text": [
            "Downloading...\n",
            "From: https://drive.google.com/uc?id=11_M4ootuT7I1G0RlihcC0cA3Elqotlc-\n",
            "To: /content/imdbs.csv\n",
            "\r  0% 0.00/132k [00:00<?, ?B/s]\r100% 132k/132k [00:00<00:00, 59.8MB/s]\n"
          ]
        },
        {
          "output_type": "display_data",
          "data": {
            "text/plain": [
              "Downloading:   0%|          | 0.00/2.75k [00:00<?, ?B/s]"
            ],
            "application/vnd.jupyter.widget-view+json": {
              "version_major": 2,
              "version_minor": 0,
              "model_id": "9d733eb123da4e92bb1359bc922e4736"
            }
          },
          "metadata": {}
        },
        {
          "output_type": "stream",
          "name": "stderr",
          "text": [
            "Using custom data configuration default\n"
          ]
        },
        {
          "output_type": "stream",
          "name": "stdout",
          "text": [
            "Downloading and preparing dataset csv/default-11046c2826f07a01 (download: Unknown size, generated: Unknown size, post-processed: Unknown sizetotal: Unknown size) to /root/.cache/huggingface/datasets/csv/default-11046c2826f07a01/0.0.0/ede98314803c971fef04bcee45d660c62f3332e8a74491e0b876106f3d99bd9b...\n"
          ]
        },
        {
          "output_type": "display_data",
          "data": {
            "text/plain": [
              "0 tables [00:00, ? tables/s]"
            ],
            "application/vnd.jupyter.widget-view+json": {
              "version_major": 2,
              "version_minor": 0,
              "model_id": "541a90142dbb4e2fa47dc96a307835da"
            }
          },
          "metadata": {}
        },
        {
          "output_type": "stream",
          "name": "stdout",
          "text": [
            "Dataset csv downloaded and prepared to /root/.cache/huggingface/datasets/csv/default-11046c2826f07a01/0.0.0/ede98314803c971fef04bcee45d660c62f3332e8a74491e0b876106f3d99bd9b. Subsequent calls will reuse this data.\n"
          ]
        }
      ]
    },
    {
      "cell_type": "code",
      "source": [
        "type(dataset)"
      ],
      "metadata": {
        "colab": {
          "base_uri": "https://localhost:8080/"
        },
        "id": "JFk8Oo8rTsvU",
        "outputId": "acecc8bf-b3e2-4fe2-a803-7184ab15dd07"
      },
      "execution_count": 45,
      "outputs": [
        {
          "output_type": "execute_result",
          "data": {
            "text/plain": [
              "nlp.arrow_dataset.Dataset"
            ]
          },
          "metadata": {},
          "execution_count": 45
        }
      ]
    },
    {
      "cell_type": "code",
      "source": [
        "dataset"
      ],
      "metadata": {
        "colab": {
          "base_uri": "https://localhost:8080/"
        },
        "id": "bHqj7h5dTvTY",
        "outputId": "b8df518d-a601-44ff-b2fd-5e15bb1ad79a"
      },
      "execution_count": 46,
      "outputs": [
        {
          "output_type": "execute_result",
          "data": {
            "text/plain": [
              "Dataset(features: {'text': Value(dtype='string', id=None), 'label': Value(dtype='int64', id=None)}, num_rows: 100)"
            ]
          },
          "metadata": {},
          "execution_count": 46
        }
      ]
    },
    {
      "cell_type": "code",
      "source": [
        "dataset = dataset.train_test_split(test_size=0.3)"
      ],
      "metadata": {
        "colab": {
          "base_uri": "https://localhost:8080/",
          "height": 81,
          "referenced_widgets": [
            "e76222de035341958153d384a513e292",
            "299da38b03ce45b9a4e7ace6932404ac",
            "ebe30e26817d4c7fb40fc2fb76531e0a",
            "b0e2a9841a9545ec95a68056e37a1c3a",
            "66e13810b9c94f298f2c96c8bd88f232",
            "0378233c88bb433692be3568f78144c4",
            "325993c3bffe47dcb46cafa21c73d044",
            "f8a0cbc104134816b1f537e2e7074537",
            "63319c9bd4164b2c83f3976c86141690",
            "81b643a363c841069711afdaf656ccd8",
            "5b670ced46a1482e85064a863da78548",
            "fdcd2db37c854efa8f97348ed826d13b",
            "eb3455fef9d940a28c8b6eee2a8fca3d",
            "bc0bbbe59066477ca629e1a68ef2bb09",
            "96afa2d92e5d4e89b912a27e5fdb28a3",
            "fc1ff43d6011499ebc99de3c651533e6",
            "7fe57bea2580442fbc539725a33cd2d3",
            "fc3e77127377459bb12b2ef2172f71a8",
            "d04d1de8daf64d12bb5aea77267c4189",
            "de8694a4de8a4b0496a7320f42823cb7",
            "790beba7fb9146babfad11376be505d5",
            "b1e14a26cafc44e6ad36514ef58d25d4"
          ]
        },
        "id": "q5gMpGU5Tw-D",
        "outputId": "da1e60c2-e335-4293-b600-a81033112138"
      },
      "execution_count": 47,
      "outputs": [
        {
          "output_type": "display_data",
          "data": {
            "text/plain": [
              "  0%|          | 0/1 [00:00<?, ?it/s]"
            ],
            "application/vnd.jupyter.widget-view+json": {
              "version_major": 2,
              "version_minor": 0,
              "model_id": "e76222de035341958153d384a513e292"
            }
          },
          "metadata": {}
        },
        {
          "output_type": "display_data",
          "data": {
            "text/plain": [
              "  0%|          | 0/1 [00:00<?, ?it/s]"
            ],
            "application/vnd.jupyter.widget-view+json": {
              "version_major": 2,
              "version_minor": 0,
              "model_id": "fdcd2db37c854efa8f97348ed826d13b"
            }
          },
          "metadata": {}
        }
      ]
    },
    {
      "cell_type": "code",
      "source": [
        "dataset"
      ],
      "metadata": {
        "colab": {
          "base_uri": "https://localhost:8080/"
        },
        "id": "ihMXi9FIT3nL",
        "outputId": "7efa0d6b-f85b-45ec-b506-981abbfc03b7"
      },
      "execution_count": 48,
      "outputs": [
        {
          "output_type": "execute_result",
          "data": {
            "text/plain": [
              "{'test': Dataset(features: {'text': Value(dtype='string', id=None), 'label': Value(dtype='int64', id=None)}, num_rows: 30),\n",
              " 'train': Dataset(features: {'text': Value(dtype='string', id=None), 'label': Value(dtype='int64', id=None)}, num_rows: 70)}"
            ]
          },
          "metadata": {},
          "execution_count": 48
        }
      ]
    },
    {
      "cell_type": "code",
      "source": [
        "train_set = dataset['train']\n",
        "test_set = dataset['test']"
      ],
      "metadata": {
        "id": "lqlB3WhvUDpg"
      },
      "execution_count": 49,
      "outputs": []
    },
    {
      "cell_type": "code",
      "source": [
        "model = BertForSequenceClassification.from_pretrained('bert-base-uncased')"
      ],
      "metadata": {
        "colab": {
          "base_uri": "https://localhost:8080/"
        },
        "id": "1Me5vCOIUNN0",
        "outputId": "60ac808c-dd42-4e82-e1bf-ac8a0c598de2"
      },
      "execution_count": 50,
      "outputs": [
        {
          "output_type": "stream",
          "name": "stderr",
          "text": [
            "Some weights of the model checkpoint at bert-base-uncased were not used when initializing BertForSequenceClassification: ['cls.predictions.bias', 'cls.predictions.transform.dense.weight', 'cls.predictions.transform.dense.bias', 'cls.predictions.decoder.weight', 'cls.seq_relationship.weight', 'cls.seq_relationship.bias', 'cls.predictions.transform.LayerNorm.weight', 'cls.predictions.transform.LayerNorm.bias']\n",
            "- This IS expected if you are initializing BertForSequenceClassification from the checkpoint of a model trained on another task or with another architecture (e.g. initializing a BertForSequenceClassification model from a BertForPreTraining model).\n",
            "- This IS NOT expected if you are initializing BertForSequenceClassification from the checkpoint of a model that you expect to be exactly identical (initializing a BertForSequenceClassification model from a BertForSequenceClassification model).\n",
            "Some weights of BertForSequenceClassification were not initialized from the model checkpoint at bert-base-uncased and are newly initialized: ['classifier.weight', 'classifier.bias']\n",
            "You should probably TRAIN this model on a down-stream task to be able to use it for predictions and inference.\n"
          ]
        }
      ]
    },
    {
      "cell_type": "code",
      "source": [
        "tokenizer = BertTokenizerFast.from_pretrained('bert-base-uncased')"
      ],
      "metadata": {
        "colab": {
          "base_uri": "https://localhost:8080/",
          "height": 49,
          "referenced_widgets": [
            "d12248c91d4c44adbb5fb89d98b1876d",
            "657b64df55d24b1f9e5db1acadba05bc",
            "64fdaae4d46b40b78d6e13db34b9fef2",
            "f571b88c9c714b7c84b3263ef61118b6",
            "d47eedc2efc24394af49de07bbc7b900",
            "031f0b906dc74abebd38f5e07e595874",
            "d132afa19ff14437ab093c6e8bc2d0cd",
            "539825d7d232448b8eb3e92e2814a428",
            "a0e97f398c584fa9b02528d53991ca21",
            "34966751003748d0bb51fdb9b8dda2e3",
            "5114a5014eba4473a5c03d25ad40f75a"
          ]
        },
        "id": "T8sosJCeUT9O",
        "outputId": "7c0c79b2-277d-46f4-92b7-d6eb874f69d8"
      },
      "execution_count": 51,
      "outputs": [
        {
          "output_type": "display_data",
          "data": {
            "text/plain": [
              "Downloading:   0%|          | 0.00/466k [00:00<?, ?B/s]"
            ],
            "application/vnd.jupyter.widget-view+json": {
              "version_major": 2,
              "version_minor": 0,
              "model_id": "d12248c91d4c44adbb5fb89d98b1876d"
            }
          },
          "metadata": {}
        }
      ]
    },
    {
      "cell_type": "code",
      "source": [
        "tokenizer(['I love Paris', 'birds fly', 'snow fall'], padding=True, max_length=5)"
      ],
      "metadata": {
        "colab": {
          "base_uri": "https://localhost:8080/"
        },
        "id": "txOkXx7PUhF0",
        "outputId": "4f600b73-d1b6-42aa-c8fb-de430bbe13c4"
      },
      "execution_count": 52,
      "outputs": [
        {
          "output_type": "execute_result",
          "data": {
            "text/plain": [
              "{'input_ids': [[101, 1045, 2293, 3000, 102], [101, 5055, 4875, 102, 0], [101, 4586, 2991, 102, 0]], 'token_type_ids': [[0, 0, 0, 0, 0], [0, 0, 0, 0, 0], [0, 0, 0, 0, 0]], 'attention_mask': [[1, 1, 1, 1, 1], [1, 1, 1, 1, 0], [1, 1, 1, 1, 0]]}"
            ]
          },
          "metadata": {},
          "execution_count": 52
        }
      ]
    },
    {
      "cell_type": "code",
      "source": [
        "def preprocess(data):\n",
        "  return tokenizer(data['text'], padding=True, truncation=True)"
      ],
      "metadata": {
        "id": "CwhvNkkwY6rY"
      },
      "execution_count": 53,
      "outputs": []
    },
    {
      "cell_type": "code",
      "source": [
        "train_set = train_set.map(preprocess, batched=True, batch_size=len(train_set))\n",
        "test_set = test_set.map(preprocess, batched=True, batch_size=len(test_set))"
      ],
      "metadata": {
        "colab": {
          "base_uri": "https://localhost:8080/",
          "height": 81,
          "referenced_widgets": [
            "deb1d2d33c4d4e1d9cfbecda8c40e840",
            "434ce329018944738e2dd2a76089002d",
            "abe15780033149409e9efd1b8fb08332",
            "0830c0aea19e451eb75b5a0d8c3ae344",
            "b9fb3dd222e84522b33e89487e0e3ad6",
            "33d031b03c234791871c6a4d2959a541",
            "6c3a5951b7ce4845abe6fdec902ab30a",
            "3d82407a5f5146289ba7913a9be7f69e",
            "ab465b04f0da42fda93c76a7fb46008e",
            "0eb84504a76444b4abae0b9c8ad77995",
            "0d37345044c749028edbea00abee9306",
            "9fa2c609212747149013ce5ae9750bfc",
            "38e3f7285edb4ad58ee6e24ad3a32701",
            "cce19e1e09e74ace9f8b6c52550d09d7",
            "f1e14db079264c31948ff3d097884e91",
            "009f54865b6a467d990ce50e60cdc24c",
            "7dc76647237d4742b83a046c17caca64",
            "09401cdbc9864d1abe848e009753c0bd",
            "862178dc97c64cca897c25c07b1626c2",
            "a8c14e65f3174656acc2ec88eeba4be8",
            "9fe1d46578134bdc9d456b08859e4ac9",
            "863c5979d4cc4617b611a3473bed43e5"
          ]
        },
        "id": "UyN1fJVsZaIq",
        "outputId": "49f5867a-8293-4a15-9f79-dfe2bd2d6405"
      },
      "execution_count": 54,
      "outputs": [
        {
          "output_type": "display_data",
          "data": {
            "text/plain": [
              "  0%|          | 0/1 [00:00<?, ?it/s]"
            ],
            "application/vnd.jupyter.widget-view+json": {
              "version_major": 2,
              "version_minor": 0,
              "model_id": "deb1d2d33c4d4e1d9cfbecda8c40e840"
            }
          },
          "metadata": {}
        },
        {
          "output_type": "display_data",
          "data": {
            "text/plain": [
              "  0%|          | 0/1 [00:00<?, ?it/s]"
            ],
            "application/vnd.jupyter.widget-view+json": {
              "version_major": 2,
              "version_minor": 0,
              "model_id": "9fa2c609212747149013ce5ae9750bfc"
            }
          },
          "metadata": {}
        }
      ]
    },
    {
      "cell_type": "code",
      "source": [
        "train_set.set_format('torch', columns=['input_ids', 'attention_mask', 'label'])"
      ],
      "metadata": {
        "id": "78jVhyZNeKo7"
      },
      "execution_count": 55,
      "outputs": []
    },
    {
      "cell_type": "code",
      "source": [
        "test_set.set_format('torch', columns=['input_ids', 'attention_mask', 'label'])"
      ],
      "metadata": {
        "id": "OzHyzeD8RPw7"
      },
      "execution_count": 56,
      "outputs": []
    },
    {
      "cell_type": "code",
      "source": [
        "train_set"
      ],
      "metadata": {
        "colab": {
          "base_uri": "https://localhost:8080/"
        },
        "id": "JQ1bHOfcRYxv",
        "outputId": "b011fd96-bc04-43df-c4c6-dc6caa834ecd"
      },
      "execution_count": 57,
      "outputs": [
        {
          "output_type": "execute_result",
          "data": {
            "text/plain": [
              "Dataset(features: {'label': Value(dtype='int64', id=None), 'text': Value(dtype='string', id=None), 'input_ids': Sequence(feature=Value(dtype='int64', id=None), length=-1, id=None), 'token_type_ids': Sequence(feature=Value(dtype='int64', id=None), length=-1, id=None), 'attention_mask': Sequence(feature=Value(dtype='int64', id=None), length=-1, id=None)}, num_rows: 70)"
            ]
          },
          "metadata": {},
          "execution_count": 57
        }
      ]
    },
    {
      "cell_type": "code",
      "source": [
        "batch_size = 8\n",
        "epochs = 2\n"
      ],
      "metadata": {
        "id": "sWov1iOGRZ4r"
      },
      "execution_count": 58,
      "outputs": []
    },
    {
      "cell_type": "code",
      "source": [
        "warmup_steps = 500\n",
        "weight_decay = 0.01"
      ],
      "metadata": {
        "id": "QrUx1q4sRggr"
      },
      "execution_count": 59,
      "outputs": []
    },
    {
      "cell_type": "code",
      "source": [
        "training_args = TrainingArguments(\n",
        "    output_dir='./results',\n",
        "    num_train_epochs=epochs,\n",
        "    per_device_train_batch_size=batch_size,\n",
        "    per_device_eval_batch_size=batch_size,\n",
        "    warmup_steps=warmup_steps,\n",
        "    weight_decay=weight_decay,\n",
        "    evaluate_during_training=True,\n",
        "    logging_dir='./logs'\n",
        ")"
      ],
      "metadata": {
        "colab": {
          "base_uri": "https://localhost:8080/"
        },
        "id": "ABDZN70eRnLl",
        "outputId": "1abb9ebe-785c-43f7-c60d-49ebffb3562e"
      },
      "execution_count": 60,
      "outputs": [
        {
          "output_type": "stream",
          "name": "stderr",
          "text": [
            "/usr/local/lib/python3.7/dist-packages/transformers/training_args.py:347: FutureWarning: The `evaluate_during_training` argument is deprecated in favor of `evaluation_strategy` (which has more options)\n",
            "  FutureWarning,\n"
          ]
        }
      ]
    },
    {
      "cell_type": "code",
      "source": [
        "trainer = Trainer(\n",
        "    model=model,\n",
        "    args=training_args,\n",
        "    train_dataset=train_set,\n",
        "    eval_dataset=test_set\n",
        ")"
      ],
      "metadata": {
        "id": "VGRxy9lyS2yj"
      },
      "execution_count": 61,
      "outputs": []
    },
    {
      "cell_type": "code",
      "source": [
        "trainer.train()"
      ],
      "metadata": {
        "colab": {
          "base_uri": "https://localhost:8080/",
          "height": 151
        },
        "id": "RYPNMipdTW9R",
        "outputId": "5836096a-bb34-43db-a0b9-2d78eb8c9633"
      },
      "execution_count": 62,
      "outputs": [
        {
          "data": {
            "text/html": [
              "\n",
              "    <div>\n",
              "        <style>\n",
              "            /* Turns off some styling */\n",
              "            progress {\n",
              "                /* gets rid of default border in Firefox and Opera. */\n",
              "                border: none;\n",
              "                /* Needs to be in here for Safari polyfill so background images work as expected. */\n",
              "                background-size: auto;\n",
              "            }\n",
              "        </style>\n",
              "      \n",
              "      <progress value='12' max='18' style='width:300px; height:20px; vertical-align: middle;'></progress>\n",
              "      [12/18 09:19 < 05:35, 0.02 it/s, Epoch 1.22/2]\n",
              "    </div>\n",
              "    <table border=\"1\" class=\"dataframe\">\n",
              "  <thead>\n",
              "    <tr style=\"text-align: left;\">\n",
              "      <th>Step</th>\n",
              "      <th>Training Loss</th>\n",
              "      <th>Validation Loss</th>\n",
              "    </tr>\n",
              "  </thead>\n",
              "  <tbody>\n",
              "  </tbody>\n",
              "</table><p>"
            ],
            "text/plain": [
              "<IPython.core.display.HTML object>"
            ]
          },
          "metadata": {},
          "output_type": "display_data"
        },
        {
          "output_type": "display_data",
          "data": {
            "text/plain": [
              "<IPython.core.display.HTML object>"
            ],
            "text/html": [
              "\n",
              "    <div>\n",
              "        <style>\n",
              "            /* Turns off some styling */\n",
              "            progress {\n",
              "                /* gets rid of default border in Firefox and Opera. */\n",
              "                border: none;\n",
              "                /* Needs to be in here for Safari polyfill so background images work as expected. */\n",
              "                background-size: auto;\n",
              "            }\n",
              "        </style>\n",
              "      \n",
              "      <progress value='18' max='18' style='width:300px; height:20px; vertical-align: middle;'></progress>\n",
              "      [18/18 15:46, Epoch 2/2]\n",
              "    </div>\n",
              "    <table border=\"1\" class=\"dataframe\">\n",
              "  <thead>\n",
              "    <tr style=\"text-align: left;\">\n",
              "      <th>Step</th>\n",
              "      <th>Training Loss</th>\n",
              "      <th>Validation Loss</th>\n",
              "    </tr>\n",
              "  </thead>\n",
              "  <tbody>\n",
              "  </tbody>\n",
              "</table><p>"
            ]
          },
          "metadata": {}
        },
        {
          "output_type": "execute_result",
          "data": {
            "text/plain": [
              "TrainOutput(global_step=18, training_loss=0.8322307268778483)"
            ]
          },
          "metadata": {},
          "execution_count": 62
        }
      ]
    },
    {
      "cell_type": "code",
      "source": [
        "trainer.evaluate()"
      ],
      "metadata": {
        "colab": {
          "base_uri": "https://localhost:8080/",
          "height": 54
        },
        "id": "ufzjr7ygTdmQ",
        "outputId": "c471999f-468c-47bd-efc5-56f0ca64ed00"
      },
      "execution_count": 63,
      "outputs": [
        {
          "output_type": "display_data",
          "data": {
            "text/plain": [
              "<IPython.core.display.HTML object>"
            ],
            "text/html": [
              "\n",
              "    <div>\n",
              "        <style>\n",
              "            /* Turns off some styling */\n",
              "            progress {\n",
              "                /* gets rid of default border in Firefox and Opera. */\n",
              "                border: none;\n",
              "                /* Needs to be in here for Safari polyfill so background images work as expected. */\n",
              "                background-size: auto;\n",
              "            }\n",
              "        </style>\n",
              "      \n",
              "      <progress value='4' max='4' style='width:300px; height:20px; vertical-align: middle;'></progress>\n",
              "      [4/4 00:54]\n",
              "    </div>\n",
              "    "
            ]
          },
          "metadata": {}
        },
        {
          "output_type": "execute_result",
          "data": {
            "text/plain": [
              "{'epoch': 2.0, 'eval_loss': 0.801662266254425}"
            ]
          },
          "metadata": {},
          "execution_count": 63
        }
      ]
    },
    {
      "cell_type": "markdown",
      "source": [
        "**Q & A with finetuned BERT**"
      ],
      "metadata": {
        "id": "a-fd_1xXqvo5"
      }
    },
    {
      "cell_type": "code",
      "source": [
        "import torch\n",
        "from transformers import BertForQuestionAnswering, BertTokenizer"
      ],
      "metadata": {
        "id": "xV2YtFyamaDi"
      },
      "execution_count": 64,
      "outputs": []
    },
    {
      "cell_type": "code",
      "source": [
        "model_1 = BertForQuestionAnswering.from_pretrained('bert-large-uncased-whole-word-masking-finetuned-squad')"
      ],
      "metadata": {
        "colab": {
          "base_uri": "https://localhost:8080/",
          "height": 81,
          "referenced_widgets": [
            "3d849dc8363243b7bbff55d9a669044b",
            "2198d5e59f5744b8aca833423940329f",
            "75c7c88fe39c41f8b48021ac87b5646f",
            "d7928d5a362b4e22bd500fde2c207247",
            "38fd21b846134bdfba73223785ddaab8",
            "350e71b93e884c159cdc6179196411aa",
            "3cb53db40bcb4d91810f90e18c004b65",
            "a338a37cbf844de4a06203c3cff3ed3d",
            "b6a63b70d2304d90a1a11ee4970e00e9",
            "a4cae3b376124dfc97c4c48fa99f1a60",
            "1e0f188752314451bc2aec528fcd6c76",
            "e4c01a3a68a64c44add78cd444fc6970",
            "ef089150a29f48439ee6253619ade0e4",
            "ba909dc3a27c4e93880b2b7f8b8cfd5a",
            "8949929634d9458db57f2e5e8d9565f3",
            "6282fac483a1404287ad368aeadecda2",
            "b269d03a510f4b068ee451b3fcc4317a",
            "31614a982bb142b7af888b737114179b",
            "e8e38947f39242d0af3665663c75bcca",
            "9fe953f8f2714feea226f3ceaba70789",
            "a658949b0a144daaa60fac4037362af5",
            "224fb877694642a28e9b925f679640d6"
          ]
        },
        "id": "LQJv7CJcmkQV",
        "outputId": "c4e9f3ec-7d41-41b6-883a-e6cffd4505bd"
      },
      "execution_count": 67,
      "outputs": [
        {
          "output_type": "display_data",
          "data": {
            "text/plain": [
              "Downloading:   0%|          | 0.00/443 [00:00<?, ?B/s]"
            ],
            "application/vnd.jupyter.widget-view+json": {
              "version_major": 2,
              "version_minor": 0,
              "model_id": "3d849dc8363243b7bbff55d9a669044b"
            }
          },
          "metadata": {}
        },
        {
          "output_type": "display_data",
          "data": {
            "text/plain": [
              "Downloading:   0%|          | 0.00/1.34G [00:00<?, ?B/s]"
            ],
            "application/vnd.jupyter.widget-view+json": {
              "version_major": 2,
              "version_minor": 0,
              "model_id": "e4c01a3a68a64c44add78cd444fc6970"
            }
          },
          "metadata": {}
        }
      ]
    },
    {
      "cell_type": "code",
      "source": [
        "tokenizer = BertTokenizer.from_pretrained('bert-large-uncased-whole-word-masking-finetuned-squad')"
      ],
      "metadata": {
        "colab": {
          "base_uri": "https://localhost:8080/",
          "height": 49,
          "referenced_widgets": [
            "ab37bb8afb2743bab54497d8ddbe82c0",
            "3dbe2bc21fd346d8a4feea3ebe080113",
            "d18c549751794eb0bf4b359a79ea1cd4",
            "cdcc9ffb433e4d40b4c10fc6ba93e77b",
            "e8e84f0c00dc4221ad1a0fac88eaac4b",
            "470b937bb7794cf2be8f9c5af05164c0",
            "0086dbaf98b24daab636d3cf9cae567c",
            "ade864653d0846d39b53eaee88e9e43d",
            "e46473e033cf4b45adb6e61078ec0a94",
            "5ef9dc629445463c9f3f3462eccfd886",
            "1699c3a621044e34b34e9791f75e5b39"
          ]
        },
        "id": "5FFSHSXAm6VA",
        "outputId": "a643cc92-32d9-4b7c-aaf3-569039a16456"
      },
      "execution_count": 68,
      "outputs": [
        {
          "output_type": "display_data",
          "data": {
            "text/plain": [
              "Downloading:   0%|          | 0.00/232k [00:00<?, ?B/s]"
            ],
            "application/vnd.jupyter.widget-view+json": {
              "version_major": 2,
              "version_minor": 0,
              "model_id": "ab37bb8afb2743bab54497d8ddbe82c0"
            }
          },
          "metadata": {}
        }
      ]
    },
    {
      "cell_type": "code",
      "source": [
        "question = \"What is the immune system?\"\n",
        "paragraph = \"The immune system is a system of many biological structures and processes within an organism that protects against disease.\""
      ],
      "metadata": {
        "id": "rV3Ys39-n4cu"
      },
      "execution_count": 69,
      "outputs": []
    },
    {
      "cell_type": "code",
      "source": [
        "question = '[CLS]' + question + '[SEP]'\n",
        "paragraph = paragraph + '[SEP]'"
      ],
      "metadata": {
        "id": "L8TxoQa1ontA"
      },
      "execution_count": 70,
      "outputs": []
    },
    {
      "cell_type": "code",
      "source": [
        "question_tokens = tokenizer.tokenize(question)\n",
        "paragraph_tokens = tokenizer.tokenize(paragraph)"
      ],
      "metadata": {
        "id": "anlplH8bpCpY"
      },
      "execution_count": 71,
      "outputs": []
    },
    {
      "cell_type": "code",
      "source": [
        "tokens = question_tokens + paragraph_tokens\n",
        "input_ids = tokenizer.convert_tokens_to_ids(tokens)"
      ],
      "metadata": {
        "id": "UVghNfukpNR5"
      },
      "execution_count": 72,
      "outputs": []
    },
    {
      "cell_type": "code",
      "source": [
        "segment_ids = [0] * len(question_tokens)\n",
        "segment_ids += [1] * len(paragraph_tokens)"
      ],
      "metadata": {
        "id": "7vcLH-9VpamH"
      },
      "execution_count": 73,
      "outputs": []
    },
    {
      "cell_type": "code",
      "source": [
        "segment_ids"
      ],
      "metadata": {
        "colab": {
          "base_uri": "https://localhost:8080/"
        },
        "id": "aNEOdphXprE9",
        "outputId": "574cd66d-aff9-47d4-a371-e2cb82302ede"
      },
      "execution_count": 74,
      "outputs": [
        {
          "output_type": "execute_result",
          "data": {
            "text/plain": [
              "[0,\n",
              " 0,\n",
              " 0,\n",
              " 0,\n",
              " 0,\n",
              " 0,\n",
              " 0,\n",
              " 0,\n",
              " 1,\n",
              " 1,\n",
              " 1,\n",
              " 1,\n",
              " 1,\n",
              " 1,\n",
              " 1,\n",
              " 1,\n",
              " 1,\n",
              " 1,\n",
              " 1,\n",
              " 1,\n",
              " 1,\n",
              " 1,\n",
              " 1,\n",
              " 1,\n",
              " 1,\n",
              " 1,\n",
              " 1,\n",
              " 1,\n",
              " 1]"
            ]
          },
          "metadata": {},
          "execution_count": 74
        }
      ]
    },
    {
      "cell_type": "code",
      "source": [
        "input_ids = torch.tensor([input_ids])\n",
        "segment_ids = torch.tensor([segment_ids])"
      ],
      "metadata": {
        "id": "WvaGWQeUpw32"
      },
      "execution_count": 75,
      "outputs": []
    },
    {
      "cell_type": "code",
      "source": [
        "input_ids"
      ],
      "metadata": {
        "colab": {
          "base_uri": "https://localhost:8080/"
        },
        "id": "BSsrxNjvqCWK",
        "outputId": "d474cfff-df79-49cb-b1ee-a109b20fa57e"
      },
      "execution_count": 76,
      "outputs": [
        {
          "output_type": "execute_result",
          "data": {
            "text/plain": [
              "tensor([[  101,  2054,  2003,  1996, 11311,  2291,  1029,   102,  1996, 11311,\n",
              "          2291,  2003,  1037,  2291,  1997,  2116,  6897,  5090,  1998,  6194,\n",
              "          2306,  2019, 15923,  2008, 18227,  2114,  4295,  1012,   102]])"
            ]
          },
          "metadata": {},
          "execution_count": 76
        }
      ]
    },
    {
      "cell_type": "code",
      "source": [
        "start_scores, end_scores = model_1(input_ids, token_type_ids = segment_ids)"
      ],
      "metadata": {
        "id": "-_U0JXYYqDkC"
      },
      "execution_count": 77,
      "outputs": []
    },
    {
      "cell_type": "code",
      "source": [
        "start_scores"
      ],
      "metadata": {
        "colab": {
          "base_uri": "https://localhost:8080/"
        },
        "id": "-OQPacp3qb3x",
        "outputId": "c9cc2cb7-5a8a-429d-d1ca-17ad4143d057"
      },
      "execution_count": 79,
      "outputs": [
        {
          "output_type": "execute_result",
          "data": {
            "text/plain": [
              "tensor([[-5.3344, -4.9339, -6.6966, -5.9976, -5.3169, -8.2161, -8.7843, -5.3343,\n",
              "          1.7716, -0.8110, -3.7132,  1.3322,  6.7570,  2.6944, -2.5242,  1.3307,\n",
              "          2.2720, -0.8598, -4.8655, -0.5192, -1.1716, -1.4013, -0.8745, -1.5369,\n",
              "          1.1904, -3.8364, -1.4591, -5.3340, -5.3329]],\n",
              "       grad_fn=<SqueezeBackward1>)"
            ]
          },
          "metadata": {},
          "execution_count": 79
        }
      ]
    },
    {
      "cell_type": "code",
      "source": [
        "start_index = torch.argmax(start_scores)\n",
        "end_index = torch.argmax(end_scores)"
      ],
      "metadata": {
        "id": "utTuQbApqSh1"
      },
      "execution_count": 80,
      "outputs": []
    },
    {
      "cell_type": "code",
      "source": [
        "print(' '.join(tokens[start_index:end_index+1]))"
      ],
      "metadata": {
        "colab": {
          "base_uri": "https://localhost:8080/"
        },
        "id": "BLBmYsOcqkWY",
        "outputId": "6db3ff1a-a741-410a-eca0-3175c0b0ae81"
      },
      "execution_count": 81,
      "outputs": [
        {
          "output_type": "stream",
          "name": "stdout",
          "text": [
            "a system of many biological structures and processes within an organism that protects against disease\n"
          ]
        }
      ]
    },
    {
      "cell_type": "code",
      "source": [
        ""
      ],
      "metadata": {
        "id": "qPUNVdbLqreL"
      },
      "execution_count": null,
      "outputs": []
    }
  ]
}